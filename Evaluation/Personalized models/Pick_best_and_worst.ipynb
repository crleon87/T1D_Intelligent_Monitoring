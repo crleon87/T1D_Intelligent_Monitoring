{
 "cells": [
  {
   "cell_type": "code",
   "execution_count": 3,
   "id": "initial_id",
   "metadata": {
    "collapsed": true,
    "ExecuteTime": {
     "end_time": "2024-09-25T14:53:36.041584Z",
     "start_time": "2024-09-25T14:53:36.025585Z"
    }
   },
   "outputs": [],
   "source": [
    "import pandas as pd\n",
    "import os"
   ]
  },
  {
   "cell_type": "code",
   "outputs": [
    {
     "data": {
      "text/plain": "       Model      A      B     C       D      E  A + B        RMSE  \\\n0        ALL  33.37  47.19  0.21   19.09   0.14  80.56   71.182951   \n1      TBR_2   0.00   0.00  0.00   85.71  14.29   0.00  102.682604   \n2      TBR_1   0.00   0.00  0.00   97.06   2.94   0.00   78.447880   \n3        TIR  48.24  50.88  0.41    0.47   0.00  99.12   41.179827   \n4      TAR_1  28.97  59.66  0.00   11.37   0.00  88.63   62.971161   \n...      ...    ...    ...   ...     ...    ...    ...         ...   \n12199  TBR_2   0.00   0.00  0.00  100.00   0.00   0.00  108.374215   \n12200  TBR_1   0.00   0.00  0.00   85.00  15.00   0.00   91.923167   \n12201    TIR  55.77  42.60  1.44    0.14   0.05  98.37   40.237178   \n12202  TAR_1  55.87  40.51  0.00    3.61   0.00  96.38   49.380266   \n12203  TAR_2  22.51  33.95  0.00   43.54   0.00  56.46  105.857074   \n\n                MSE         MAE      MAPE  \\\n0       5067.012568   56.697119  0.356316   \n1      10543.717089  101.238759  1.910165   \n2       6154.069824   76.538977  1.256561   \n3       1695.778124   33.092941  0.317303   \n4       3965.367163   56.459670  0.258171   \n...             ...         ...       ...   \n12199  11744.970375  107.071786  2.020222   \n12200   8449.868722   87.072506  1.423593   \n12201   1619.030496   31.139506  0.262831   \n12202   2438.410630   40.545614  0.191495   \n12203  11205.720072   95.149671  0.332627   \n\n                                             file_name  \n0      results_by_range_cluster0_CNN_H12_LIB193318.csv  \n1      results_by_range_cluster0_CNN_H12_LIB193318.csv  \n2      results_by_range_cluster0_CNN_H12_LIB193318.csv  \n3      results_by_range_cluster0_CNN_H12_LIB193318.csv  \n4      results_by_range_cluster0_CNN_H12_LIB193318.csv  \n...                                                ...  \n12199  results_by_range_cluster5_LSTM_H8_LIB194135.csv  \n12200  results_by_range_cluster5_LSTM_H8_LIB194135.csv  \n12201  results_by_range_cluster5_LSTM_H8_LIB194135.csv  \n12202  results_by_range_cluster5_LSTM_H8_LIB194135.csv  \n12203  results_by_range_cluster5_LSTM_H8_LIB194135.csv  \n\n[12204 rows x 12 columns]",
      "text/html": "<div>\n<style scoped>\n    .dataframe tbody tr th:only-of-type {\n        vertical-align: middle;\n    }\n\n    .dataframe tbody tr th {\n        vertical-align: top;\n    }\n\n    .dataframe thead th {\n        text-align: right;\n    }\n</style>\n<table border=\"1\" class=\"dataframe\">\n  <thead>\n    <tr style=\"text-align: right;\">\n      <th></th>\n      <th>Model</th>\n      <th>A</th>\n      <th>B</th>\n      <th>C</th>\n      <th>D</th>\n      <th>E</th>\n      <th>A + B</th>\n      <th>RMSE</th>\n      <th>MSE</th>\n      <th>MAE</th>\n      <th>MAPE</th>\n      <th>file_name</th>\n    </tr>\n  </thead>\n  <tbody>\n    <tr>\n      <th>0</th>\n      <td>ALL</td>\n      <td>33.37</td>\n      <td>47.19</td>\n      <td>0.21</td>\n      <td>19.09</td>\n      <td>0.14</td>\n      <td>80.56</td>\n      <td>71.182951</td>\n      <td>5067.012568</td>\n      <td>56.697119</td>\n      <td>0.356316</td>\n      <td>results_by_range_cluster0_CNN_H12_LIB193318.csv</td>\n    </tr>\n    <tr>\n      <th>1</th>\n      <td>TBR_2</td>\n      <td>0.00</td>\n      <td>0.00</td>\n      <td>0.00</td>\n      <td>85.71</td>\n      <td>14.29</td>\n      <td>0.00</td>\n      <td>102.682604</td>\n      <td>10543.717089</td>\n      <td>101.238759</td>\n      <td>1.910165</td>\n      <td>results_by_range_cluster0_CNN_H12_LIB193318.csv</td>\n    </tr>\n    <tr>\n      <th>2</th>\n      <td>TBR_1</td>\n      <td>0.00</td>\n      <td>0.00</td>\n      <td>0.00</td>\n      <td>97.06</td>\n      <td>2.94</td>\n      <td>0.00</td>\n      <td>78.447880</td>\n      <td>6154.069824</td>\n      <td>76.538977</td>\n      <td>1.256561</td>\n      <td>results_by_range_cluster0_CNN_H12_LIB193318.csv</td>\n    </tr>\n    <tr>\n      <th>3</th>\n      <td>TIR</td>\n      <td>48.24</td>\n      <td>50.88</td>\n      <td>0.41</td>\n      <td>0.47</td>\n      <td>0.00</td>\n      <td>99.12</td>\n      <td>41.179827</td>\n      <td>1695.778124</td>\n      <td>33.092941</td>\n      <td>0.317303</td>\n      <td>results_by_range_cluster0_CNN_H12_LIB193318.csv</td>\n    </tr>\n    <tr>\n      <th>4</th>\n      <td>TAR_1</td>\n      <td>28.97</td>\n      <td>59.66</td>\n      <td>0.00</td>\n      <td>11.37</td>\n      <td>0.00</td>\n      <td>88.63</td>\n      <td>62.971161</td>\n      <td>3965.367163</td>\n      <td>56.459670</td>\n      <td>0.258171</td>\n      <td>results_by_range_cluster0_CNN_H12_LIB193318.csv</td>\n    </tr>\n    <tr>\n      <th>...</th>\n      <td>...</td>\n      <td>...</td>\n      <td>...</td>\n      <td>...</td>\n      <td>...</td>\n      <td>...</td>\n      <td>...</td>\n      <td>...</td>\n      <td>...</td>\n      <td>...</td>\n      <td>...</td>\n      <td>...</td>\n    </tr>\n    <tr>\n      <th>12199</th>\n      <td>TBR_2</td>\n      <td>0.00</td>\n      <td>0.00</td>\n      <td>0.00</td>\n      <td>100.00</td>\n      <td>0.00</td>\n      <td>0.00</td>\n      <td>108.374215</td>\n      <td>11744.970375</td>\n      <td>107.071786</td>\n      <td>2.020222</td>\n      <td>results_by_range_cluster5_LSTM_H8_LIB194135.csv</td>\n    </tr>\n    <tr>\n      <th>12200</th>\n      <td>TBR_1</td>\n      <td>0.00</td>\n      <td>0.00</td>\n      <td>0.00</td>\n      <td>85.00</td>\n      <td>15.00</td>\n      <td>0.00</td>\n      <td>91.923167</td>\n      <td>8449.868722</td>\n      <td>87.072506</td>\n      <td>1.423593</td>\n      <td>results_by_range_cluster5_LSTM_H8_LIB194135.csv</td>\n    </tr>\n    <tr>\n      <th>12201</th>\n      <td>TIR</td>\n      <td>55.77</td>\n      <td>42.60</td>\n      <td>1.44</td>\n      <td>0.14</td>\n      <td>0.05</td>\n      <td>98.37</td>\n      <td>40.237178</td>\n      <td>1619.030496</td>\n      <td>31.139506</td>\n      <td>0.262831</td>\n      <td>results_by_range_cluster5_LSTM_H8_LIB194135.csv</td>\n    </tr>\n    <tr>\n      <th>12202</th>\n      <td>TAR_1</td>\n      <td>55.87</td>\n      <td>40.51</td>\n      <td>0.00</td>\n      <td>3.61</td>\n      <td>0.00</td>\n      <td>96.38</td>\n      <td>49.380266</td>\n      <td>2438.410630</td>\n      <td>40.545614</td>\n      <td>0.191495</td>\n      <td>results_by_range_cluster5_LSTM_H8_LIB194135.csv</td>\n    </tr>\n    <tr>\n      <th>12203</th>\n      <td>TAR_2</td>\n      <td>22.51</td>\n      <td>33.95</td>\n      <td>0.00</td>\n      <td>43.54</td>\n      <td>0.00</td>\n      <td>56.46</td>\n      <td>105.857074</td>\n      <td>11205.720072</td>\n      <td>95.149671</td>\n      <td>0.332627</td>\n      <td>results_by_range_cluster5_LSTM_H8_LIB194135.csv</td>\n    </tr>\n  </tbody>\n</table>\n<p>12204 rows × 12 columns</p>\n</div>"
     },
     "execution_count": 4,
     "metadata": {},
     "output_type": "execute_result"
    }
   ],
   "source": [
    "def list_csv_files(directory):\n",
    "    csv_files = [file for file in os.listdir(directory) if file.endswith('.csv')]\n",
    "    return csv_files\n",
    "\n",
    "directory = 'test_results_CLUSTERS_FULL'\n",
    "csv_files = list_csv_files(directory)\n",
    "\n",
    "def merge_csv_files(directory):\n",
    "    csv_files = list_csv_files(directory)\n",
    "    merged_df = pd.DataFrame()\n",
    "\n",
    "    for file in csv_files:\n",
    "        file_path = os.path.join(directory, file)\n",
    "        df = pd.read_csv(file_path)\n",
    "        df['file_name'] = file\n",
    "        merged_df = pd.concat([merged_df, df], ignore_index=True)\n",
    "    \n",
    "    return merged_df\n",
    "\n",
    "df_clusters_metrics = merge_csv_files(directory)\n",
    "df_clusters_metrics"
   ],
   "metadata": {
    "collapsed": false,
    "ExecuteTime": {
     "end_time": "2024-09-25T14:53:38.841812Z",
     "start_time": "2024-09-25T14:53:37.201792Z"
    }
   },
   "id": "e298bfeb479a3f5e",
   "execution_count": 4
  },
  {
   "cell_type": "code",
   "outputs": [
    {
     "data": {
      "text/plain": "       Model      A      B     C       D      E  A + B        RMSE  \\\n0        ALL  33.37  47.19  0.21   19.09   0.14  80.56   71.182951   \n1      TBR_2   0.00   0.00  0.00   85.71  14.29   0.00  102.682604   \n2      TBR_1   0.00   0.00  0.00   97.06   2.94   0.00   78.447880   \n3        TIR  48.24  50.88  0.41    0.47   0.00  99.12   41.179827   \n4      TAR_1  28.97  59.66  0.00   11.37   0.00  88.63   62.971161   \n...      ...    ...    ...   ...     ...    ...    ...         ...   \n12199  TBR_2   0.00   0.00  0.00  100.00   0.00   0.00  108.374215   \n12200  TBR_1   0.00   0.00  0.00   85.00  15.00   0.00   91.923167   \n12201    TIR  55.77  42.60  1.44    0.14   0.05  98.37   40.237178   \n12202  TAR_1  55.87  40.51  0.00    3.61   0.00  96.38   49.380266   \n12203  TAR_2  22.51  33.95  0.00   43.54   0.00  56.46  105.857074   \n\n                MSE         MAE      MAPE  \\\n0       5067.012568   56.697119  0.356316   \n1      10543.717089  101.238759  1.910165   \n2       6154.069824   76.538977  1.256561   \n3       1695.778124   33.092941  0.317303   \n4       3965.367163   56.459670  0.258171   \n...             ...         ...       ...   \n12199  11744.970375  107.071786  2.020222   \n12200   8449.868722   87.072506  1.423593   \n12201   1619.030496   31.139506  0.262831   \n12202   2438.410630   40.545614  0.191495   \n12203  11205.720072   95.149671  0.332627   \n\n                                             file_name   cluster  \n0      results_by_range_cluster0_CNN_H12_LIB193318.csv  cluster0  \n1      results_by_range_cluster0_CNN_H12_LIB193318.csv  cluster0  \n2      results_by_range_cluster0_CNN_H12_LIB193318.csv  cluster0  \n3      results_by_range_cluster0_CNN_H12_LIB193318.csv  cluster0  \n4      results_by_range_cluster0_CNN_H12_LIB193318.csv  cluster0  \n...                                                ...       ...  \n12199  results_by_range_cluster5_LSTM_H8_LIB194135.csv  cluster5  \n12200  results_by_range_cluster5_LSTM_H8_LIB194135.csv  cluster5  \n12201  results_by_range_cluster5_LSTM_H8_LIB194135.csv  cluster5  \n12202  results_by_range_cluster5_LSTM_H8_LIB194135.csv  cluster5  \n12203  results_by_range_cluster5_LSTM_H8_LIB194135.csv  cluster5  \n\n[12204 rows x 13 columns]",
      "text/html": "<div>\n<style scoped>\n    .dataframe tbody tr th:only-of-type {\n        vertical-align: middle;\n    }\n\n    .dataframe tbody tr th {\n        vertical-align: top;\n    }\n\n    .dataframe thead th {\n        text-align: right;\n    }\n</style>\n<table border=\"1\" class=\"dataframe\">\n  <thead>\n    <tr style=\"text-align: right;\">\n      <th></th>\n      <th>Model</th>\n      <th>A</th>\n      <th>B</th>\n      <th>C</th>\n      <th>D</th>\n      <th>E</th>\n      <th>A + B</th>\n      <th>RMSE</th>\n      <th>MSE</th>\n      <th>MAE</th>\n      <th>MAPE</th>\n      <th>file_name</th>\n      <th>cluster</th>\n    </tr>\n  </thead>\n  <tbody>\n    <tr>\n      <th>0</th>\n      <td>ALL</td>\n      <td>33.37</td>\n      <td>47.19</td>\n      <td>0.21</td>\n      <td>19.09</td>\n      <td>0.14</td>\n      <td>80.56</td>\n      <td>71.182951</td>\n      <td>5067.012568</td>\n      <td>56.697119</td>\n      <td>0.356316</td>\n      <td>results_by_range_cluster0_CNN_H12_LIB193318.csv</td>\n      <td>cluster0</td>\n    </tr>\n    <tr>\n      <th>1</th>\n      <td>TBR_2</td>\n      <td>0.00</td>\n      <td>0.00</td>\n      <td>0.00</td>\n      <td>85.71</td>\n      <td>14.29</td>\n      <td>0.00</td>\n      <td>102.682604</td>\n      <td>10543.717089</td>\n      <td>101.238759</td>\n      <td>1.910165</td>\n      <td>results_by_range_cluster0_CNN_H12_LIB193318.csv</td>\n      <td>cluster0</td>\n    </tr>\n    <tr>\n      <th>2</th>\n      <td>TBR_1</td>\n      <td>0.00</td>\n      <td>0.00</td>\n      <td>0.00</td>\n      <td>97.06</td>\n      <td>2.94</td>\n      <td>0.00</td>\n      <td>78.447880</td>\n      <td>6154.069824</td>\n      <td>76.538977</td>\n      <td>1.256561</td>\n      <td>results_by_range_cluster0_CNN_H12_LIB193318.csv</td>\n      <td>cluster0</td>\n    </tr>\n    <tr>\n      <th>3</th>\n      <td>TIR</td>\n      <td>48.24</td>\n      <td>50.88</td>\n      <td>0.41</td>\n      <td>0.47</td>\n      <td>0.00</td>\n      <td>99.12</td>\n      <td>41.179827</td>\n      <td>1695.778124</td>\n      <td>33.092941</td>\n      <td>0.317303</td>\n      <td>results_by_range_cluster0_CNN_H12_LIB193318.csv</td>\n      <td>cluster0</td>\n    </tr>\n    <tr>\n      <th>4</th>\n      <td>TAR_1</td>\n      <td>28.97</td>\n      <td>59.66</td>\n      <td>0.00</td>\n      <td>11.37</td>\n      <td>0.00</td>\n      <td>88.63</td>\n      <td>62.971161</td>\n      <td>3965.367163</td>\n      <td>56.459670</td>\n      <td>0.258171</td>\n      <td>results_by_range_cluster0_CNN_H12_LIB193318.csv</td>\n      <td>cluster0</td>\n    </tr>\n    <tr>\n      <th>...</th>\n      <td>...</td>\n      <td>...</td>\n      <td>...</td>\n      <td>...</td>\n      <td>...</td>\n      <td>...</td>\n      <td>...</td>\n      <td>...</td>\n      <td>...</td>\n      <td>...</td>\n      <td>...</td>\n      <td>...</td>\n      <td>...</td>\n    </tr>\n    <tr>\n      <th>12199</th>\n      <td>TBR_2</td>\n      <td>0.00</td>\n      <td>0.00</td>\n      <td>0.00</td>\n      <td>100.00</td>\n      <td>0.00</td>\n      <td>0.00</td>\n      <td>108.374215</td>\n      <td>11744.970375</td>\n      <td>107.071786</td>\n      <td>2.020222</td>\n      <td>results_by_range_cluster5_LSTM_H8_LIB194135.csv</td>\n      <td>cluster5</td>\n    </tr>\n    <tr>\n      <th>12200</th>\n      <td>TBR_1</td>\n      <td>0.00</td>\n      <td>0.00</td>\n      <td>0.00</td>\n      <td>85.00</td>\n      <td>15.00</td>\n      <td>0.00</td>\n      <td>91.923167</td>\n      <td>8449.868722</td>\n      <td>87.072506</td>\n      <td>1.423593</td>\n      <td>results_by_range_cluster5_LSTM_H8_LIB194135.csv</td>\n      <td>cluster5</td>\n    </tr>\n    <tr>\n      <th>12201</th>\n      <td>TIR</td>\n      <td>55.77</td>\n      <td>42.60</td>\n      <td>1.44</td>\n      <td>0.14</td>\n      <td>0.05</td>\n      <td>98.37</td>\n      <td>40.237178</td>\n      <td>1619.030496</td>\n      <td>31.139506</td>\n      <td>0.262831</td>\n      <td>results_by_range_cluster5_LSTM_H8_LIB194135.csv</td>\n      <td>cluster5</td>\n    </tr>\n    <tr>\n      <th>12202</th>\n      <td>TAR_1</td>\n      <td>55.87</td>\n      <td>40.51</td>\n      <td>0.00</td>\n      <td>3.61</td>\n      <td>0.00</td>\n      <td>96.38</td>\n      <td>49.380266</td>\n      <td>2438.410630</td>\n      <td>40.545614</td>\n      <td>0.191495</td>\n      <td>results_by_range_cluster5_LSTM_H8_LIB194135.csv</td>\n      <td>cluster5</td>\n    </tr>\n    <tr>\n      <th>12203</th>\n      <td>TAR_2</td>\n      <td>22.51</td>\n      <td>33.95</td>\n      <td>0.00</td>\n      <td>43.54</td>\n      <td>0.00</td>\n      <td>56.46</td>\n      <td>105.857074</td>\n      <td>11205.720072</td>\n      <td>95.149671</td>\n      <td>0.332627</td>\n      <td>results_by_range_cluster5_LSTM_H8_LIB194135.csv</td>\n      <td>cluster5</td>\n    </tr>\n  </tbody>\n</table>\n<p>12204 rows × 13 columns</p>\n</div>"
     },
     "execution_count": 5,
     "metadata": {},
     "output_type": "execute_result"
    }
   ],
   "source": [
    "df_clusters_metrics['cluster'] = df_clusters_metrics['file_name'].apply(lambda x: x.split('_')[3])\n",
    "df_clusters_metrics"
   ],
   "metadata": {
    "collapsed": false,
    "ExecuteTime": {
     "end_time": "2024-09-25T14:53:48.708019Z",
     "start_time": "2024-09-25T14:53:48.684931Z"
    }
   },
   "id": "4f18d34bcfeeff62",
   "execution_count": 5
  },
  {
   "cell_type": "code",
   "outputs": [
    {
     "data": {
      "text/plain": "cluster\ncluster4    2700\ncluster2    2592\ncluster5    2052\ncluster3    1944\ncluster0    1512\ncluster1    1404\nName: count, dtype: int64"
     },
     "execution_count": 6,
     "metadata": {},
     "output_type": "execute_result"
    }
   ],
   "source": [
    "df_clusters_metrics['cluster'].value_counts()"
   ],
   "metadata": {
    "collapsed": false,
    "ExecuteTime": {
     "end_time": "2024-09-25T14:53:52.029042Z",
     "start_time": "2024-09-25T14:53:52.021040Z"
    }
   },
   "id": "300012dd8c98b345",
   "execution_count": 6
  },
  {
   "cell_type": "code",
   "outputs": [
    {
     "data": {
      "text/plain": "       A + B                                        file_name   cluster\n0      80.56  results_by_range_cluster0_CNN_H12_LIB193318.csv  cluster0\n6      83.36  results_by_range_cluster0_CNN_H12_LIB193326.csv  cluster0\n12     89.17  results_by_range_cluster0_CNN_H12_LIB193428.csv  cluster0\n18     78.42  results_by_range_cluster0_CNN_H12_LIB193481.csv  cluster0\n24     86.09  results_by_range_cluster0_CNN_H12_LIB193483.csv  cluster0\n...      ...                                              ...       ...\n12174  92.10  results_by_range_cluster5_LSTM_H8_LIB194054.csv  cluster5\n12180  94.70  results_by_range_cluster5_LSTM_H8_LIB194061.csv  cluster5\n12186  88.27  results_by_range_cluster5_LSTM_H8_LIB194081.csv  cluster5\n12192  90.53  results_by_range_cluster5_LSTM_H8_LIB194084.csv  cluster5\n12198  93.50  results_by_range_cluster5_LSTM_H8_LIB194135.csv  cluster5\n\n[2034 rows x 3 columns]",
      "text/html": "<div>\n<style scoped>\n    .dataframe tbody tr th:only-of-type {\n        vertical-align: middle;\n    }\n\n    .dataframe tbody tr th {\n        vertical-align: top;\n    }\n\n    .dataframe thead th {\n        text-align: right;\n    }\n</style>\n<table border=\"1\" class=\"dataframe\">\n  <thead>\n    <tr style=\"text-align: right;\">\n      <th></th>\n      <th>A + B</th>\n      <th>file_name</th>\n      <th>cluster</th>\n    </tr>\n  </thead>\n  <tbody>\n    <tr>\n      <th>0</th>\n      <td>80.56</td>\n      <td>results_by_range_cluster0_CNN_H12_LIB193318.csv</td>\n      <td>cluster0</td>\n    </tr>\n    <tr>\n      <th>6</th>\n      <td>83.36</td>\n      <td>results_by_range_cluster0_CNN_H12_LIB193326.csv</td>\n      <td>cluster0</td>\n    </tr>\n    <tr>\n      <th>12</th>\n      <td>89.17</td>\n      <td>results_by_range_cluster0_CNN_H12_LIB193428.csv</td>\n      <td>cluster0</td>\n    </tr>\n    <tr>\n      <th>18</th>\n      <td>78.42</td>\n      <td>results_by_range_cluster0_CNN_H12_LIB193481.csv</td>\n      <td>cluster0</td>\n    </tr>\n    <tr>\n      <th>24</th>\n      <td>86.09</td>\n      <td>results_by_range_cluster0_CNN_H12_LIB193483.csv</td>\n      <td>cluster0</td>\n    </tr>\n    <tr>\n      <th>...</th>\n      <td>...</td>\n      <td>...</td>\n      <td>...</td>\n    </tr>\n    <tr>\n      <th>12174</th>\n      <td>92.10</td>\n      <td>results_by_range_cluster5_LSTM_H8_LIB194054.csv</td>\n      <td>cluster5</td>\n    </tr>\n    <tr>\n      <th>12180</th>\n      <td>94.70</td>\n      <td>results_by_range_cluster5_LSTM_H8_LIB194061.csv</td>\n      <td>cluster5</td>\n    </tr>\n    <tr>\n      <th>12186</th>\n      <td>88.27</td>\n      <td>results_by_range_cluster5_LSTM_H8_LIB194081.csv</td>\n      <td>cluster5</td>\n    </tr>\n    <tr>\n      <th>12192</th>\n      <td>90.53</td>\n      <td>results_by_range_cluster5_LSTM_H8_LIB194084.csv</td>\n      <td>cluster5</td>\n    </tr>\n    <tr>\n      <th>12198</th>\n      <td>93.50</td>\n      <td>results_by_range_cluster5_LSTM_H8_LIB194135.csv</td>\n      <td>cluster5</td>\n    </tr>\n  </tbody>\n</table>\n<p>2034 rows × 3 columns</p>\n</div>"
     },
     "execution_count": 7,
     "metadata": {},
     "output_type": "execute_result"
    }
   ],
   "source": [
    "df_clusters_A_plus_B = df_clusters_metrics[df_clusters_metrics['Model'] == 'ALL']\n",
    "df_clusters_A_plus_B = df_clusters_A_plus_B[['A + B', 'file_name', 'cluster']]\n",
    "df_clusters_A_plus_B"
   ],
   "metadata": {
    "collapsed": false,
    "ExecuteTime": {
     "end_time": "2024-09-25T14:54:07.372906Z",
     "start_time": "2024-09-25T14:54:07.364707Z"
    }
   },
   "id": "268f06eb3f2c23f8",
   "execution_count": 7
  },
  {
   "cell_type": "code",
   "outputs": [
    {
     "data": {
      "text/plain": "       A + B                                        file_name   cluster model  \\\n0      80.56  results_by_range_cluster0_CNN_H12_LIB193318.csv  cluster0   CNN   \n6      83.36  results_by_range_cluster0_CNN_H12_LIB193326.csv  cluster0   CNN   \n12     89.17  results_by_range_cluster0_CNN_H12_LIB193428.csv  cluster0   CNN   \n18     78.42  results_by_range_cluster0_CNN_H12_LIB193481.csv  cluster0   CNN   \n24     86.09  results_by_range_cluster0_CNN_H12_LIB193483.csv  cluster0   CNN   \n...      ...                                              ...       ...   ...   \n12174  92.10  results_by_range_cluster5_LSTM_H8_LIB194054.csv  cluster5  LSTM   \n12180  94.70  results_by_range_cluster5_LSTM_H8_LIB194061.csv  cluster5  LSTM   \n12186  88.27  results_by_range_cluster5_LSTM_H8_LIB194081.csv  cluster5  LSTM   \n12192  90.53  results_by_range_cluster5_LSTM_H8_LIB194084.csv  cluster5  LSTM   \n12198  93.50  results_by_range_cluster5_LSTM_H8_LIB194135.csv  cluster5  LSTM   \n\n       ph    patient  \n0      12  LIB193318  \n6      12  LIB193326  \n12     12  LIB193428  \n18     12  LIB193481  \n24     12  LIB193483  \n...    ..        ...  \n12174   8  LIB194054  \n12180   8  LIB194061  \n12186   8  LIB194081  \n12192   8  LIB194084  \n12198   8  LIB194135  \n\n[2034 rows x 6 columns]",
      "text/html": "<div>\n<style scoped>\n    .dataframe tbody tr th:only-of-type {\n        vertical-align: middle;\n    }\n\n    .dataframe tbody tr th {\n        vertical-align: top;\n    }\n\n    .dataframe thead th {\n        text-align: right;\n    }\n</style>\n<table border=\"1\" class=\"dataframe\">\n  <thead>\n    <tr style=\"text-align: right;\">\n      <th></th>\n      <th>A + B</th>\n      <th>file_name</th>\n      <th>cluster</th>\n      <th>model</th>\n      <th>ph</th>\n      <th>patient</th>\n    </tr>\n  </thead>\n  <tbody>\n    <tr>\n      <th>0</th>\n      <td>80.56</td>\n      <td>results_by_range_cluster0_CNN_H12_LIB193318.csv</td>\n      <td>cluster0</td>\n      <td>CNN</td>\n      <td>12</td>\n      <td>LIB193318</td>\n    </tr>\n    <tr>\n      <th>6</th>\n      <td>83.36</td>\n      <td>results_by_range_cluster0_CNN_H12_LIB193326.csv</td>\n      <td>cluster0</td>\n      <td>CNN</td>\n      <td>12</td>\n      <td>LIB193326</td>\n    </tr>\n    <tr>\n      <th>12</th>\n      <td>89.17</td>\n      <td>results_by_range_cluster0_CNN_H12_LIB193428.csv</td>\n      <td>cluster0</td>\n      <td>CNN</td>\n      <td>12</td>\n      <td>LIB193428</td>\n    </tr>\n    <tr>\n      <th>18</th>\n      <td>78.42</td>\n      <td>results_by_range_cluster0_CNN_H12_LIB193481.csv</td>\n      <td>cluster0</td>\n      <td>CNN</td>\n      <td>12</td>\n      <td>LIB193481</td>\n    </tr>\n    <tr>\n      <th>24</th>\n      <td>86.09</td>\n      <td>results_by_range_cluster0_CNN_H12_LIB193483.csv</td>\n      <td>cluster0</td>\n      <td>CNN</td>\n      <td>12</td>\n      <td>LIB193483</td>\n    </tr>\n    <tr>\n      <th>...</th>\n      <td>...</td>\n      <td>...</td>\n      <td>...</td>\n      <td>...</td>\n      <td>...</td>\n      <td>...</td>\n    </tr>\n    <tr>\n      <th>12174</th>\n      <td>92.10</td>\n      <td>results_by_range_cluster5_LSTM_H8_LIB194054.csv</td>\n      <td>cluster5</td>\n      <td>LSTM</td>\n      <td>8</td>\n      <td>LIB194054</td>\n    </tr>\n    <tr>\n      <th>12180</th>\n      <td>94.70</td>\n      <td>results_by_range_cluster5_LSTM_H8_LIB194061.csv</td>\n      <td>cluster5</td>\n      <td>LSTM</td>\n      <td>8</td>\n      <td>LIB194061</td>\n    </tr>\n    <tr>\n      <th>12186</th>\n      <td>88.27</td>\n      <td>results_by_range_cluster5_LSTM_H8_LIB194081.csv</td>\n      <td>cluster5</td>\n      <td>LSTM</td>\n      <td>8</td>\n      <td>LIB194081</td>\n    </tr>\n    <tr>\n      <th>12192</th>\n      <td>90.53</td>\n      <td>results_by_range_cluster5_LSTM_H8_LIB194084.csv</td>\n      <td>cluster5</td>\n      <td>LSTM</td>\n      <td>8</td>\n      <td>LIB194084</td>\n    </tr>\n    <tr>\n      <th>12198</th>\n      <td>93.50</td>\n      <td>results_by_range_cluster5_LSTM_H8_LIB194135.csv</td>\n      <td>cluster5</td>\n      <td>LSTM</td>\n      <td>8</td>\n      <td>LIB194135</td>\n    </tr>\n  </tbody>\n</table>\n<p>2034 rows × 6 columns</p>\n</div>"
     },
     "execution_count": 8,
     "metadata": {},
     "output_type": "execute_result"
    }
   ],
   "source": [
    "df_clusters_A_plus_B['model'] = df_clusters_A_plus_B['file_name'].apply(lambda x: x.split('_')[4])\n",
    "df_clusters_A_plus_B['ph'] = df_clusters_A_plus_B['file_name'].apply(lambda x: x.split('_')[-2][1:])\n",
    "df_clusters_A_plus_B['patient'] = df_clusters_A_plus_B['file_name'].apply(lambda x: x.split('_')[-1][:-4])\n",
    "df_clusters_A_plus_B"
   ],
   "metadata": {
    "collapsed": false,
    "ExecuteTime": {
     "end_time": "2024-09-25T14:54:32.573388Z",
     "start_time": "2024-09-25T14:54:32.561378Z"
    }
   },
   "id": "c158314ff08eda5",
   "execution_count": 8
  },
  {
   "cell_type": "code",
   "outputs": [
    {
     "data": {
      "text/plain": "model\nCNN       678\nLinear    678\nLSTM      678\nName: count, dtype: int64"
     },
     "execution_count": 10,
     "metadata": {},
     "output_type": "execute_result"
    }
   ],
   "source": [
    "df_clusters_A_plus_B['model'].value_counts()"
   ],
   "metadata": {
    "collapsed": false,
    "ExecuteTime": {
     "end_time": "2024-09-25T14:55:41.216568Z",
     "start_time": "2024-09-25T14:55:41.207655Z"
    }
   },
   "id": "2b7fe42d1ae32d6b",
   "execution_count": 10
  },
  {
   "cell_type": "code",
   "outputs": [
    {
     "data": {
      "text/plain": "ph\n12    18.833333\n16    18.833333\n2     18.833333\n4     18.833333\n6     18.833333\n8     18.833333\nName: count, dtype: float64"
     },
     "execution_count": 43,
     "metadata": {},
     "output_type": "execute_result"
    }
   ],
   "source": [
    "df_clusters_A_plus_B['ph'].value_counts()"
   ],
   "metadata": {
    "collapsed": false,
    "ExecuteTime": {
     "end_time": "2024-09-25T20:56:41.247829Z",
     "start_time": "2024-09-25T20:56:41.233322Z"
    }
   },
   "id": "4d6172940eef736d",
   "execution_count": 43
  },
  {
   "cell_type": "code",
   "outputs": [
    {
     "data": {
      "text/plain": "patient\nLIB193318    18\nLIB193580    18\nLIB193671    18\nLIB193633    18\nLIB193624    18\n             ..\nLIB193637    18\nLIB193591    18\nLIB193574    18\nLIB193556    18\nLIB194135    18\nName: count, Length: 113, dtype: int64"
     },
     "execution_count": 31,
     "metadata": {},
     "output_type": "execute_result"
    }
   ],
   "source": [
    "df_clusters_A_plus_B['patient'].value_counts()"
   ],
   "metadata": {
    "collapsed": false,
    "ExecuteTime": {
     "end_time": "2024-09-25T20:53:41.506562Z",
     "start_time": "2024-09-25T20:53:41.489171Z"
    }
   },
   "id": "c6085d15fe2ebba7",
   "execution_count": 31
  },
  {
   "cell_type": "code",
   "outputs": [
    {
     "data": {
      "text/plain": "       A + B   cluster model  ph    patient\n0      80.56  cluster0   CNN  12  LIB193318\n6      83.36  cluster0   CNN  12  LIB193326\n12     89.17  cluster0   CNN  12  LIB193428\n18     78.42  cluster0   CNN  12  LIB193481\n24     86.09  cluster0   CNN  12  LIB193483\n...      ...       ...   ...  ..        ...\n12174  92.10  cluster5  LSTM   8  LIB194054\n12180  94.70  cluster5  LSTM   8  LIB194061\n12186  88.27  cluster5  LSTM   8  LIB194081\n12192  90.53  cluster5  LSTM   8  LIB194084\n12198  93.50  cluster5  LSTM   8  LIB194135\n\n[2034 rows x 5 columns]",
      "text/html": "<div>\n<style scoped>\n    .dataframe tbody tr th:only-of-type {\n        vertical-align: middle;\n    }\n\n    .dataframe tbody tr th {\n        vertical-align: top;\n    }\n\n    .dataframe thead th {\n        text-align: right;\n    }\n</style>\n<table border=\"1\" class=\"dataframe\">\n  <thead>\n    <tr style=\"text-align: right;\">\n      <th></th>\n      <th>A + B</th>\n      <th>cluster</th>\n      <th>model</th>\n      <th>ph</th>\n      <th>patient</th>\n    </tr>\n  </thead>\n  <tbody>\n    <tr>\n      <th>0</th>\n      <td>80.56</td>\n      <td>cluster0</td>\n      <td>CNN</td>\n      <td>12</td>\n      <td>LIB193318</td>\n    </tr>\n    <tr>\n      <th>6</th>\n      <td>83.36</td>\n      <td>cluster0</td>\n      <td>CNN</td>\n      <td>12</td>\n      <td>LIB193326</td>\n    </tr>\n    <tr>\n      <th>12</th>\n      <td>89.17</td>\n      <td>cluster0</td>\n      <td>CNN</td>\n      <td>12</td>\n      <td>LIB193428</td>\n    </tr>\n    <tr>\n      <th>18</th>\n      <td>78.42</td>\n      <td>cluster0</td>\n      <td>CNN</td>\n      <td>12</td>\n      <td>LIB193481</td>\n    </tr>\n    <tr>\n      <th>24</th>\n      <td>86.09</td>\n      <td>cluster0</td>\n      <td>CNN</td>\n      <td>12</td>\n      <td>LIB193483</td>\n    </tr>\n    <tr>\n      <th>...</th>\n      <td>...</td>\n      <td>...</td>\n      <td>...</td>\n      <td>...</td>\n      <td>...</td>\n    </tr>\n    <tr>\n      <th>12174</th>\n      <td>92.10</td>\n      <td>cluster5</td>\n      <td>LSTM</td>\n      <td>8</td>\n      <td>LIB194054</td>\n    </tr>\n    <tr>\n      <th>12180</th>\n      <td>94.70</td>\n      <td>cluster5</td>\n      <td>LSTM</td>\n      <td>8</td>\n      <td>LIB194061</td>\n    </tr>\n    <tr>\n      <th>12186</th>\n      <td>88.27</td>\n      <td>cluster5</td>\n      <td>LSTM</td>\n      <td>8</td>\n      <td>LIB194081</td>\n    </tr>\n    <tr>\n      <th>12192</th>\n      <td>90.53</td>\n      <td>cluster5</td>\n      <td>LSTM</td>\n      <td>8</td>\n      <td>LIB194084</td>\n    </tr>\n    <tr>\n      <th>12198</th>\n      <td>93.50</td>\n      <td>cluster5</td>\n      <td>LSTM</td>\n      <td>8</td>\n      <td>LIB194135</td>\n    </tr>\n  </tbody>\n</table>\n<p>2034 rows × 5 columns</p>\n</div>"
     },
     "execution_count": 13,
     "metadata": {},
     "output_type": "execute_result"
    }
   ],
   "source": [
    "df_clusters_A_plus_B = df_clusters_A_plus_B.drop(columns=['file_name'])\n",
    "df_clusters_A_plus_B"
   ],
   "metadata": {
    "collapsed": false,
    "ExecuteTime": {
     "end_time": "2024-09-25T14:56:12.326246Z",
     "start_time": "2024-09-25T14:56:12.304297Z"
    }
   },
   "id": "aa4a47f64b090932",
   "execution_count": 13
  },
  {
   "cell_type": "code",
   "outputs": [
    {
     "data": {
      "text/plain": "patient\nLIB193318    18\nLIB193580    18\nLIB193671    18\nLIB193633    18\nLIB193624    18\n             ..\nLIB193637    18\nLIB193591    18\nLIB193574    18\nLIB193556    18\nLIB194135    18\nName: count, Length: 113, dtype: int64"
     },
     "execution_count": 26,
     "metadata": {},
     "output_type": "execute_result"
    }
   ],
   "source": [
    "df_clusters_A_plus_B['patient'].value_counts()"
   ],
   "metadata": {
    "collapsed": false,
    "ExecuteTime": {
     "end_time": "2024-09-25T20:51:26.924205Z",
     "start_time": "2024-09-25T20:51:26.864427Z"
    }
   },
   "id": "7218a578a7a3b39c",
   "execution_count": 26
  },
  {
   "cell_type": "code",
   "outputs": [
    {
     "data": {
      "text/plain": "0        cluster0\n6        cluster0\n12       cluster0\n18       cluster0\n24       cluster0\n           ...   \n12174    cluster5\n12180    cluster5\n12186    cluster5\n12192    cluster5\n12198    cluster5\nName: cluster, Length: 2034, dtype: object"
     },
     "execution_count": 27,
     "metadata": {},
     "output_type": "execute_result"
    }
   ],
   "source": [
    "df_clusters_A_plus_B['cluster']"
   ],
   "metadata": {
    "collapsed": false,
    "ExecuteTime": {
     "end_time": "2024-09-25T20:51:44.382634Z",
     "start_time": "2024-09-25T20:51:44.376580Z"
    }
   },
   "id": "46e62978360ba2f4",
   "execution_count": 27
  },
  {
   "cell_type": "code",
   "outputs": [
    {
     "data": {
      "text/plain": "       A + B   cluster   model  ph    patient\n30     73.71  cluster0     CNN  12  LIB193526\n18     78.42  cluster0     CNN  12  LIB193481\n78     79.05  cluster0     CNN  12  LIB194097\n0      80.56  cluster0     CNN  12  LIB193318\n6      83.36  cluster0     CNN  12  LIB193326\n...      ...       ...     ...  ..        ...\n11514  93.12  cluster5  Linear   8  LIB194135\n11418  93.69  cluster5  Linear   8  LIB193427\n11442  93.75  cluster5  Linear   8  LIB193840\n11496  94.06  cluster5  Linear   8  LIB194061\n11412  95.63  cluster5  Linear   8  LIB193368\n\n[2034 rows x 5 columns]",
      "text/html": "<div>\n<style scoped>\n    .dataframe tbody tr th:only-of-type {\n        vertical-align: middle;\n    }\n\n    .dataframe tbody tr th {\n        vertical-align: top;\n    }\n\n    .dataframe thead th {\n        text-align: right;\n    }\n</style>\n<table border=\"1\" class=\"dataframe\">\n  <thead>\n    <tr style=\"text-align: right;\">\n      <th></th>\n      <th>A + B</th>\n      <th>cluster</th>\n      <th>model</th>\n      <th>ph</th>\n      <th>patient</th>\n    </tr>\n  </thead>\n  <tbody>\n    <tr>\n      <th>30</th>\n      <td>73.71</td>\n      <td>cluster0</td>\n      <td>CNN</td>\n      <td>12</td>\n      <td>LIB193526</td>\n    </tr>\n    <tr>\n      <th>18</th>\n      <td>78.42</td>\n      <td>cluster0</td>\n      <td>CNN</td>\n      <td>12</td>\n      <td>LIB193481</td>\n    </tr>\n    <tr>\n      <th>78</th>\n      <td>79.05</td>\n      <td>cluster0</td>\n      <td>CNN</td>\n      <td>12</td>\n      <td>LIB194097</td>\n    </tr>\n    <tr>\n      <th>0</th>\n      <td>80.56</td>\n      <td>cluster0</td>\n      <td>CNN</td>\n      <td>12</td>\n      <td>LIB193318</td>\n    </tr>\n    <tr>\n      <th>6</th>\n      <td>83.36</td>\n      <td>cluster0</td>\n      <td>CNN</td>\n      <td>12</td>\n      <td>LIB193326</td>\n    </tr>\n    <tr>\n      <th>...</th>\n      <td>...</td>\n      <td>...</td>\n      <td>...</td>\n      <td>...</td>\n      <td>...</td>\n    </tr>\n    <tr>\n      <th>11514</th>\n      <td>93.12</td>\n      <td>cluster5</td>\n      <td>Linear</td>\n      <td>8</td>\n      <td>LIB194135</td>\n    </tr>\n    <tr>\n      <th>11418</th>\n      <td>93.69</td>\n      <td>cluster5</td>\n      <td>Linear</td>\n      <td>8</td>\n      <td>LIB193427</td>\n    </tr>\n    <tr>\n      <th>11442</th>\n      <td>93.75</td>\n      <td>cluster5</td>\n      <td>Linear</td>\n      <td>8</td>\n      <td>LIB193840</td>\n    </tr>\n    <tr>\n      <th>11496</th>\n      <td>94.06</td>\n      <td>cluster5</td>\n      <td>Linear</td>\n      <td>8</td>\n      <td>LIB194061</td>\n    </tr>\n    <tr>\n      <th>11412</th>\n      <td>95.63</td>\n      <td>cluster5</td>\n      <td>Linear</td>\n      <td>8</td>\n      <td>LIB193368</td>\n    </tr>\n  </tbody>\n</table>\n<p>2034 rows × 5 columns</p>\n</div>"
     },
     "execution_count": 15,
     "metadata": {},
     "output_type": "execute_result"
    }
   ],
   "source": [
    "df_clusters_A_plus_B.sort_values(by=['cluster', 'model', 'ph', 'A + B'], ascending=[True, True, True, True])"
   ],
   "metadata": {
    "collapsed": false,
    "ExecuteTime": {
     "end_time": "2024-09-25T14:56:44.130313Z",
     "start_time": "2024-09-25T14:56:44.096974Z"
    }
   },
   "id": "45c9a4eae5cb0366",
   "execution_count": 15
  },
  {
   "cell_type": "code",
   "outputs": [
    {
     "name": "stdout",
     "output_type": "stream",
     "text": [
      "<class 'pandas.core.frame.DataFrame'>\n",
      "Index: 2034 entries, 0 to 12198\n",
      "Data columns (total 5 columns):\n",
      " #   Column   Non-Null Count  Dtype  \n",
      "---  ------   --------------  -----  \n",
      " 0   A + B    2016 non-null   float64\n",
      " 1   cluster  2034 non-null   object \n",
      " 2   model    2034 non-null   object \n",
      " 3   ph       2034 non-null   int32  \n",
      " 4   patient  2034 non-null   object \n",
      "dtypes: float64(1), int32(1), object(3)\n",
      "memory usage: 87.4+ KB\n"
     ]
    }
   ],
   "source": [
    "df_clusters_A_plus_B['ph'] = df_clusters_A_plus_B['ph'].astype(int)\n",
    "df_clusters_A_plus_B.info()"
   ],
   "metadata": {
    "collapsed": false,
    "ExecuteTime": {
     "end_time": "2024-09-25T14:57:17.318624Z",
     "start_time": "2024-09-25T14:57:17.297550Z"
    }
   },
   "id": "18f5e548261b3966",
   "execution_count": 16
  },
  {
   "cell_type": "code",
   "outputs": [
    {
     "data": {
      "text/plain": "     A + B   cluster   model  ph    patient\n0    99.24  cluster0     CNN   2  LIB193859\n1    97.15  cluster0     CNN   4  LIB193859\n2    95.60  cluster0     CNN   6  LIB193914\n3    95.24  cluster0     CNN   8  LIB193914\n4    94.82  cluster0     CNN  12  LIB193914\n..     ...       ...     ...  ..        ...\n103  98.52  cluster5  Linear   4  LIB193368\n104  97.61  cluster5  Linear   6  LIB193368\n105  95.63  cluster5  Linear   8  LIB193368\n106  91.27  cluster5  Linear  12  LIB193427\n107  89.54  cluster5  Linear  16  LIB193427\n\n[108 rows x 5 columns]",
      "text/html": "<div>\n<style scoped>\n    .dataframe tbody tr th:only-of-type {\n        vertical-align: middle;\n    }\n\n    .dataframe tbody tr th {\n        vertical-align: top;\n    }\n\n    .dataframe thead th {\n        text-align: right;\n    }\n</style>\n<table border=\"1\" class=\"dataframe\">\n  <thead>\n    <tr style=\"text-align: right;\">\n      <th></th>\n      <th>A + B</th>\n      <th>cluster</th>\n      <th>model</th>\n      <th>ph</th>\n      <th>patient</th>\n    </tr>\n  </thead>\n  <tbody>\n    <tr>\n      <th>0</th>\n      <td>99.24</td>\n      <td>cluster0</td>\n      <td>CNN</td>\n      <td>2</td>\n      <td>LIB193859</td>\n    </tr>\n    <tr>\n      <th>1</th>\n      <td>97.15</td>\n      <td>cluster0</td>\n      <td>CNN</td>\n      <td>4</td>\n      <td>LIB193859</td>\n    </tr>\n    <tr>\n      <th>2</th>\n      <td>95.60</td>\n      <td>cluster0</td>\n      <td>CNN</td>\n      <td>6</td>\n      <td>LIB193914</td>\n    </tr>\n    <tr>\n      <th>3</th>\n      <td>95.24</td>\n      <td>cluster0</td>\n      <td>CNN</td>\n      <td>8</td>\n      <td>LIB193914</td>\n    </tr>\n    <tr>\n      <th>4</th>\n      <td>94.82</td>\n      <td>cluster0</td>\n      <td>CNN</td>\n      <td>12</td>\n      <td>LIB193914</td>\n    </tr>\n    <tr>\n      <th>...</th>\n      <td>...</td>\n      <td>...</td>\n      <td>...</td>\n      <td>...</td>\n      <td>...</td>\n    </tr>\n    <tr>\n      <th>103</th>\n      <td>98.52</td>\n      <td>cluster5</td>\n      <td>Linear</td>\n      <td>4</td>\n      <td>LIB193368</td>\n    </tr>\n    <tr>\n      <th>104</th>\n      <td>97.61</td>\n      <td>cluster5</td>\n      <td>Linear</td>\n      <td>6</td>\n      <td>LIB193368</td>\n    </tr>\n    <tr>\n      <th>105</th>\n      <td>95.63</td>\n      <td>cluster5</td>\n      <td>Linear</td>\n      <td>8</td>\n      <td>LIB193368</td>\n    </tr>\n    <tr>\n      <th>106</th>\n      <td>91.27</td>\n      <td>cluster5</td>\n      <td>Linear</td>\n      <td>12</td>\n      <td>LIB193427</td>\n    </tr>\n    <tr>\n      <th>107</th>\n      <td>89.54</td>\n      <td>cluster5</td>\n      <td>Linear</td>\n      <td>16</td>\n      <td>LIB193427</td>\n    </tr>\n  </tbody>\n</table>\n<p>108 rows × 5 columns</p>\n</div>"
     },
     "execution_count": 18,
     "metadata": {},
     "output_type": "execute_result"
    }
   ],
   "source": [
    "df_best = df_clusters_A_plus_B.loc[df_clusters_A_plus_B.groupby(['cluster', 'model', 'ph'])['A + B'].idxmax()]\n",
    "df_best = df_best.reset_index(drop=True)\n",
    "df_best"
   ],
   "metadata": {
    "collapsed": false,
    "ExecuteTime": {
     "end_time": "2024-09-25T15:00:07.249505Z",
     "start_time": "2024-09-25T15:00:07.237887Z"
    }
   },
   "id": "1fb5906aa67ad74e",
   "execution_count": 18
  },
  {
   "cell_type": "code",
   "outputs": [
    {
     "data": {
      "text/plain": "     A + B   cluster   model  ph    patient\n0    84.46  cluster0     CNN   2  LIB193526\n1    76.86  cluster0     CNN   4  LIB193526\n2    75.95  cluster0     CNN   6  LIB193526\n3    75.37  cluster0     CNN   8  LIB193526\n4    73.71  cluster0     CNN  12  LIB193526\n..     ...       ...     ...  ..        ...\n103  82.27  cluster5  Linear   4  LIB193603\n104  79.79  cluster5  Linear   6  LIB193603\n105  77.77  cluster5  Linear   8  LIB193603\n106  73.45  cluster5  Linear  12  LIB193603\n107  69.96  cluster5  Linear  16  LIB193603\n\n[108 rows x 5 columns]",
      "text/html": "<div>\n<style scoped>\n    .dataframe tbody tr th:only-of-type {\n        vertical-align: middle;\n    }\n\n    .dataframe tbody tr th {\n        vertical-align: top;\n    }\n\n    .dataframe thead th {\n        text-align: right;\n    }\n</style>\n<table border=\"1\" class=\"dataframe\">\n  <thead>\n    <tr style=\"text-align: right;\">\n      <th></th>\n      <th>A + B</th>\n      <th>cluster</th>\n      <th>model</th>\n      <th>ph</th>\n      <th>patient</th>\n    </tr>\n  </thead>\n  <tbody>\n    <tr>\n      <th>0</th>\n      <td>84.46</td>\n      <td>cluster0</td>\n      <td>CNN</td>\n      <td>2</td>\n      <td>LIB193526</td>\n    </tr>\n    <tr>\n      <th>1</th>\n      <td>76.86</td>\n      <td>cluster0</td>\n      <td>CNN</td>\n      <td>4</td>\n      <td>LIB193526</td>\n    </tr>\n    <tr>\n      <th>2</th>\n      <td>75.95</td>\n      <td>cluster0</td>\n      <td>CNN</td>\n      <td>6</td>\n      <td>LIB193526</td>\n    </tr>\n    <tr>\n      <th>3</th>\n      <td>75.37</td>\n      <td>cluster0</td>\n      <td>CNN</td>\n      <td>8</td>\n      <td>LIB193526</td>\n    </tr>\n    <tr>\n      <th>4</th>\n      <td>73.71</td>\n      <td>cluster0</td>\n      <td>CNN</td>\n      <td>12</td>\n      <td>LIB193526</td>\n    </tr>\n    <tr>\n      <th>...</th>\n      <td>...</td>\n      <td>...</td>\n      <td>...</td>\n      <td>...</td>\n      <td>...</td>\n    </tr>\n    <tr>\n      <th>103</th>\n      <td>82.27</td>\n      <td>cluster5</td>\n      <td>Linear</td>\n      <td>4</td>\n      <td>LIB193603</td>\n    </tr>\n    <tr>\n      <th>104</th>\n      <td>79.79</td>\n      <td>cluster5</td>\n      <td>Linear</td>\n      <td>6</td>\n      <td>LIB193603</td>\n    </tr>\n    <tr>\n      <th>105</th>\n      <td>77.77</td>\n      <td>cluster5</td>\n      <td>Linear</td>\n      <td>8</td>\n      <td>LIB193603</td>\n    </tr>\n    <tr>\n      <th>106</th>\n      <td>73.45</td>\n      <td>cluster5</td>\n      <td>Linear</td>\n      <td>12</td>\n      <td>LIB193603</td>\n    </tr>\n    <tr>\n      <th>107</th>\n      <td>69.96</td>\n      <td>cluster5</td>\n      <td>Linear</td>\n      <td>16</td>\n      <td>LIB193603</td>\n    </tr>\n  </tbody>\n</table>\n<p>108 rows × 5 columns</p>\n</div>"
     },
     "execution_count": 19,
     "metadata": {},
     "output_type": "execute_result"
    }
   ],
   "source": [
    "df_worst = df_clusters_A_plus_B.loc[df_clusters_A_plus_B.groupby(['cluster', 'model', 'ph'])['A + B'].idxmin()]\n",
    "df_worst = df_worst.reset_index(drop=True)\n",
    "df_worst"
   ],
   "metadata": {
    "collapsed": false,
    "ExecuteTime": {
     "end_time": "2024-09-25T15:00:08.168980Z",
     "start_time": "2024-09-25T15:00:08.158696Z"
    }
   },
   "id": "c4fd82151e7c6c4b",
   "execution_count": 19
  },
  {
   "cell_type": "code",
   "outputs": [
    {
     "data": {
      "text/plain": "array(['LIB193859', 'LIB193914', 'LIB193736', 'LIB193385', 'LIB194030',\n       'LIB194050', 'LIB193556', 'LIB193551', 'LIB193871', 'LIB193518',\n       'LIB193960', 'LIB194157', 'LIB193368', 'LIB193795', 'LIB194054',\n       'LIB194036', 'LIB193427'], dtype=object)"
     },
     "execution_count": 20,
     "metadata": {},
     "output_type": "execute_result"
    }
   ],
   "source": [
    "best_unique_list = df_best['patient'].unique()\n",
    "best_unique_list"
   ],
   "metadata": {
    "collapsed": false,
    "ExecuteTime": {
     "end_time": "2024-09-25T15:00:14.560954Z",
     "start_time": "2024-09-25T15:00:14.550955Z"
    }
   },
   "id": "e2194fc504e6e2ea",
   "execution_count": 20
  },
  {
   "cell_type": "code",
   "outputs": [
    {
     "data": {
      "text/plain": "array(['LIB193526', 'LIB193326', 'LIB194097', 'LIB193821', 'LIB194012',\n       'LIB193916', 'LIB193878', 'LIB193826', 'LIB193838', 'LIB193603'],\n      dtype=object)"
     },
     "execution_count": 16,
     "metadata": {},
     "output_type": "execute_result"
    }
   ],
   "source": [
    "df_worst['patient'].unique()\n",
    "worst_unique_list = df_worst['patient'].unique()\n",
    "worst_unique_list"
   ],
   "metadata": {
    "collapsed": false,
    "ExecuteTime": {
     "end_time": "2024-08-28T14:53:50.988786Z",
     "start_time": "2024-08-28T14:53:50.984200900Z"
    }
   },
   "id": "feb2da4b98991f8c",
   "execution_count": 16
  },
  {
   "cell_type": "code",
   "outputs": [],
   "source": [
    "df_best.to_csv('Best_and_worst/best_FULL.csv', index=False)"
   ],
   "metadata": {
    "collapsed": false,
    "ExecuteTime": {
     "end_time": "2024-08-28T14:54:41.887015500Z",
     "start_time": "2024-08-28T14:54:41.879799Z"
    }
   },
   "id": "19b42ee1c6404ab4",
   "execution_count": 17
  },
  {
   "cell_type": "code",
   "outputs": [],
   "source": [
    "df_worst.to_csv('Best_and_worst/worst_FULL.csv', index=False)"
   ],
   "metadata": {
    "collapsed": false,
    "ExecuteTime": {
     "end_time": "2024-08-28T14:54:42.906704800Z",
     "start_time": "2024-08-28T14:54:42.893178200Z"
    }
   },
   "id": "60fcb534e6c28b6e",
   "execution_count": 18
  },
  {
   "cell_type": "code",
   "outputs": [],
   "source": [
    "pd.DataFrame(best_unique_list).to_csv('Best_and_worst/best_unique_list_FULL.csv', index=False)\n",
    "pd.DataFrame(worst_unique_list).to_csv('Best_and_worst/worst_unique_list_FULL.csv', index=False)"
   ],
   "metadata": {
    "collapsed": false,
    "ExecuteTime": {
     "end_time": "2024-08-28T14:54:43.524924600Z",
     "start_time": "2024-08-28T14:54:43.519186400Z"
    }
   },
   "id": "be6e39d5dca64b7f",
   "execution_count": 19
  }
 ],
 "metadata": {
  "kernelspec": {
   "display_name": "Python 3",
   "language": "python",
   "name": "python3"
  },
  "language_info": {
   "codemirror_mode": {
    "name": "ipython",
    "version": 2
   },
   "file_extension": ".py",
   "mimetype": "text/x-python",
   "name": "python",
   "nbconvert_exporter": "python",
   "pygments_lexer": "ipython2",
   "version": "2.7.6"
  }
 },
 "nbformat": 4,
 "nbformat_minor": 5
}
