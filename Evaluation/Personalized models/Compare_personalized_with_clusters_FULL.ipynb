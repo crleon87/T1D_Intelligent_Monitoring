{
 "cells": [
  {
   "cell_type": "code",
   "execution_count": 1,
   "id": "initial_id",
   "metadata": {
    "collapsed": true,
    "ExecuteTime": {
     "end_time": "2024-10-23T08:12:37.242718Z",
     "start_time": "2024-10-23T08:12:36.826862Z"
    }
   },
   "outputs": [],
   "source": [
    "import pandas as pd\n",
    "import os"
   ]
  },
  {
   "cell_type": "code",
   "outputs": [],
   "source": [
    "def list_csv_files(directory):\n",
    "    csv_files = [file for file in os.listdir(directory) if file.endswith('.csv')]\n",
    "    return csv_files\n",
    "\n",
    "directory = 'test_results_CLUSTERS_FULL/'\n",
    "csv_files = list_csv_files(directory)\n",
    "\n",
    "def merge_csv_files(directory):\n",
    "    csv_files = list_csv_files(directory)\n",
    "    merged_df = pd.DataFrame()\n",
    "\n",
    "    for file in csv_files:\n",
    "        file_path = os.path.join(directory, file)\n",
    "        df = pd.read_csv(file_path)\n",
    "        df['file_name'] = file\n",
    "        merged_df = pd.concat([merged_df, df], ignore_index=True)\n",
    "    \n",
    "    return merged_df"
   ],
   "metadata": {
    "collapsed": false,
    "ExecuteTime": {
     "end_time": "2024-10-23T08:12:38.374712Z",
     "start_time": "2024-10-23T08:12:38.366981Z"
    }
   },
   "id": "c67fc17cee576d50",
   "execution_count": 2
  },
  {
   "cell_type": "markdown",
   "source": [
    "# Cluster metrics"
   ],
   "metadata": {
    "collapsed": false
   },
   "id": "1321f1e4076f8414"
  },
  {
   "cell_type": "code",
   "outputs": [
    {
     "data": {
      "text/plain": "       Model      A      B     C       D      E  A + B        RMSE  \\\n0        ALL  33.37  47.19  0.21   19.09   0.14  80.56   71.182951   \n1      TBR_2   0.00   0.00  0.00   85.71  14.29   0.00  102.682604   \n2      TBR_1   0.00   0.00  0.00   97.06   2.94   0.00   78.447880   \n3        TIR  48.24  50.88  0.41    0.47   0.00  99.12   41.179827   \n4      TAR_1  28.97  59.66  0.00   11.37   0.00  88.63   62.971161   \n...      ...    ...    ...   ...     ...    ...    ...         ...   \n12199  TBR_2   0.00   0.00  0.00  100.00   0.00   0.00  108.374215   \n12200  TBR_1   0.00   0.00  0.00   85.00  15.00   0.00   91.923167   \n12201    TIR  55.77  42.60  1.44    0.14   0.05  98.37   40.237178   \n12202  TAR_1  55.87  40.51  0.00    3.61   0.00  96.38   49.380266   \n12203  TAR_2  22.51  33.95  0.00   43.54   0.00  56.46  105.857074   \n\n                MSE         MAE      MAPE  \\\n0       5067.012568   56.697119  0.356316   \n1      10543.717089  101.238759  1.910165   \n2       6154.069824   76.538977  1.256561   \n3       1695.778124   33.092941  0.317303   \n4       3965.367163   56.459670  0.258171   \n...             ...         ...       ...   \n12199  11744.970375  107.071786  2.020222   \n12200   8449.868722   87.072506  1.423593   \n12201   1619.030496   31.139506  0.262831   \n12202   2438.410630   40.545614  0.191495   \n12203  11205.720072   95.149671  0.332627   \n\n                                             file_name  \n0      results_by_range_cluster0_CNN_H12_LIB193318.csv  \n1      results_by_range_cluster0_CNN_H12_LIB193318.csv  \n2      results_by_range_cluster0_CNN_H12_LIB193318.csv  \n3      results_by_range_cluster0_CNN_H12_LIB193318.csv  \n4      results_by_range_cluster0_CNN_H12_LIB193318.csv  \n...                                                ...  \n12199  results_by_range_cluster5_LSTM_H8_LIB194135.csv  \n12200  results_by_range_cluster5_LSTM_H8_LIB194135.csv  \n12201  results_by_range_cluster5_LSTM_H8_LIB194135.csv  \n12202  results_by_range_cluster5_LSTM_H8_LIB194135.csv  \n12203  results_by_range_cluster5_LSTM_H8_LIB194135.csv  \n\n[12204 rows x 12 columns]",
      "text/html": "<div>\n<style scoped>\n    .dataframe tbody tr th:only-of-type {\n        vertical-align: middle;\n    }\n\n    .dataframe tbody tr th {\n        vertical-align: top;\n    }\n\n    .dataframe thead th {\n        text-align: right;\n    }\n</style>\n<table border=\"1\" class=\"dataframe\">\n  <thead>\n    <tr style=\"text-align: right;\">\n      <th></th>\n      <th>Model</th>\n      <th>A</th>\n      <th>B</th>\n      <th>C</th>\n      <th>D</th>\n      <th>E</th>\n      <th>A + B</th>\n      <th>RMSE</th>\n      <th>MSE</th>\n      <th>MAE</th>\n      <th>MAPE</th>\n      <th>file_name</th>\n    </tr>\n  </thead>\n  <tbody>\n    <tr>\n      <th>0</th>\n      <td>ALL</td>\n      <td>33.37</td>\n      <td>47.19</td>\n      <td>0.21</td>\n      <td>19.09</td>\n      <td>0.14</td>\n      <td>80.56</td>\n      <td>71.182951</td>\n      <td>5067.012568</td>\n      <td>56.697119</td>\n      <td>0.356316</td>\n      <td>results_by_range_cluster0_CNN_H12_LIB193318.csv</td>\n    </tr>\n    <tr>\n      <th>1</th>\n      <td>TBR_2</td>\n      <td>0.00</td>\n      <td>0.00</td>\n      <td>0.00</td>\n      <td>85.71</td>\n      <td>14.29</td>\n      <td>0.00</td>\n      <td>102.682604</td>\n      <td>10543.717089</td>\n      <td>101.238759</td>\n      <td>1.910165</td>\n      <td>results_by_range_cluster0_CNN_H12_LIB193318.csv</td>\n    </tr>\n    <tr>\n      <th>2</th>\n      <td>TBR_1</td>\n      <td>0.00</td>\n      <td>0.00</td>\n      <td>0.00</td>\n      <td>97.06</td>\n      <td>2.94</td>\n      <td>0.00</td>\n      <td>78.447880</td>\n      <td>6154.069824</td>\n      <td>76.538977</td>\n      <td>1.256561</td>\n      <td>results_by_range_cluster0_CNN_H12_LIB193318.csv</td>\n    </tr>\n    <tr>\n      <th>3</th>\n      <td>TIR</td>\n      <td>48.24</td>\n      <td>50.88</td>\n      <td>0.41</td>\n      <td>0.47</td>\n      <td>0.00</td>\n      <td>99.12</td>\n      <td>41.179827</td>\n      <td>1695.778124</td>\n      <td>33.092941</td>\n      <td>0.317303</td>\n      <td>results_by_range_cluster0_CNN_H12_LIB193318.csv</td>\n    </tr>\n    <tr>\n      <th>4</th>\n      <td>TAR_1</td>\n      <td>28.97</td>\n      <td>59.66</td>\n      <td>0.00</td>\n      <td>11.37</td>\n      <td>0.00</td>\n      <td>88.63</td>\n      <td>62.971161</td>\n      <td>3965.367163</td>\n      <td>56.459670</td>\n      <td>0.258171</td>\n      <td>results_by_range_cluster0_CNN_H12_LIB193318.csv</td>\n    </tr>\n    <tr>\n      <th>...</th>\n      <td>...</td>\n      <td>...</td>\n      <td>...</td>\n      <td>...</td>\n      <td>...</td>\n      <td>...</td>\n      <td>...</td>\n      <td>...</td>\n      <td>...</td>\n      <td>...</td>\n      <td>...</td>\n      <td>...</td>\n    </tr>\n    <tr>\n      <th>12199</th>\n      <td>TBR_2</td>\n      <td>0.00</td>\n      <td>0.00</td>\n      <td>0.00</td>\n      <td>100.00</td>\n      <td>0.00</td>\n      <td>0.00</td>\n      <td>108.374215</td>\n      <td>11744.970375</td>\n      <td>107.071786</td>\n      <td>2.020222</td>\n      <td>results_by_range_cluster5_LSTM_H8_LIB194135.csv</td>\n    </tr>\n    <tr>\n      <th>12200</th>\n      <td>TBR_1</td>\n      <td>0.00</td>\n      <td>0.00</td>\n      <td>0.00</td>\n      <td>85.00</td>\n      <td>15.00</td>\n      <td>0.00</td>\n      <td>91.923167</td>\n      <td>8449.868722</td>\n      <td>87.072506</td>\n      <td>1.423593</td>\n      <td>results_by_range_cluster5_LSTM_H8_LIB194135.csv</td>\n    </tr>\n    <tr>\n      <th>12201</th>\n      <td>TIR</td>\n      <td>55.77</td>\n      <td>42.60</td>\n      <td>1.44</td>\n      <td>0.14</td>\n      <td>0.05</td>\n      <td>98.37</td>\n      <td>40.237178</td>\n      <td>1619.030496</td>\n      <td>31.139506</td>\n      <td>0.262831</td>\n      <td>results_by_range_cluster5_LSTM_H8_LIB194135.csv</td>\n    </tr>\n    <tr>\n      <th>12202</th>\n      <td>TAR_1</td>\n      <td>55.87</td>\n      <td>40.51</td>\n      <td>0.00</td>\n      <td>3.61</td>\n      <td>0.00</td>\n      <td>96.38</td>\n      <td>49.380266</td>\n      <td>2438.410630</td>\n      <td>40.545614</td>\n      <td>0.191495</td>\n      <td>results_by_range_cluster5_LSTM_H8_LIB194135.csv</td>\n    </tr>\n    <tr>\n      <th>12203</th>\n      <td>TAR_2</td>\n      <td>22.51</td>\n      <td>33.95</td>\n      <td>0.00</td>\n      <td>43.54</td>\n      <td>0.00</td>\n      <td>56.46</td>\n      <td>105.857074</td>\n      <td>11205.720072</td>\n      <td>95.149671</td>\n      <td>0.332627</td>\n      <td>results_by_range_cluster5_LSTM_H8_LIB194135.csv</td>\n    </tr>\n  </tbody>\n</table>\n<p>12204 rows × 12 columns</p>\n</div>"
     },
     "execution_count": 3,
     "metadata": {},
     "output_type": "execute_result"
    }
   ],
   "source": [
    "df_clusters_metrics = merge_csv_files(directory)\n",
    "df_clusters_metrics"
   ],
   "metadata": {
    "collapsed": false,
    "ExecuteTime": {
     "end_time": "2024-10-23T08:12:42.218213Z",
     "start_time": "2024-10-23T08:12:39.787355Z"
    }
   },
   "id": "24d34cc3a1eae296",
   "execution_count": 3
  },
  {
   "cell_type": "code",
   "outputs": [
    {
     "data": {
      "text/plain": "       Model      A      B     C       D      E  A + B        RMSE  \\\n0        ALL  33.37  47.19  0.21   19.09   0.14  80.56   71.182951   \n1      TBR_2   0.00   0.00  0.00   85.71  14.29   0.00  102.682604   \n2      TBR_1   0.00   0.00  0.00   97.06   2.94   0.00   78.447880   \n3        TIR  48.24  50.88  0.41    0.47   0.00  99.12   41.179827   \n4      TAR_1  28.97  59.66  0.00   11.37   0.00  88.63   62.971161   \n...      ...    ...    ...   ...     ...    ...    ...         ...   \n12199  TBR_2   0.00   0.00  0.00  100.00   0.00   0.00  108.374215   \n12200  TBR_1   0.00   0.00  0.00   85.00  15.00   0.00   91.923167   \n12201    TIR  55.77  42.60  1.44    0.14   0.05  98.37   40.237178   \n12202  TAR_1  55.87  40.51  0.00    3.61   0.00  96.38   49.380266   \n12203  TAR_2  22.51  33.95  0.00   43.54   0.00  56.46  105.857074   \n\n                MSE         MAE      MAPE  \\\n0       5067.012568   56.697119  0.356316   \n1      10543.717089  101.238759  1.910165   \n2       6154.069824   76.538977  1.256561   \n3       1695.778124   33.092941  0.317303   \n4       3965.367163   56.459670  0.258171   \n...             ...         ...       ...   \n12199  11744.970375  107.071786  2.020222   \n12200   8449.868722   87.072506  1.423593   \n12201   1619.030496   31.139506  0.262831   \n12202   2438.410630   40.545614  0.191495   \n12203  11205.720072   95.149671  0.332627   \n\n                                             file_name   cluster  \n0      results_by_range_cluster0_CNN_H12_LIB193318.csv  cluster0  \n1      results_by_range_cluster0_CNN_H12_LIB193318.csv  cluster0  \n2      results_by_range_cluster0_CNN_H12_LIB193318.csv  cluster0  \n3      results_by_range_cluster0_CNN_H12_LIB193318.csv  cluster0  \n4      results_by_range_cluster0_CNN_H12_LIB193318.csv  cluster0  \n...                                                ...       ...  \n12199  results_by_range_cluster5_LSTM_H8_LIB194135.csv  cluster5  \n12200  results_by_range_cluster5_LSTM_H8_LIB194135.csv  cluster5  \n12201  results_by_range_cluster5_LSTM_H8_LIB194135.csv  cluster5  \n12202  results_by_range_cluster5_LSTM_H8_LIB194135.csv  cluster5  \n12203  results_by_range_cluster5_LSTM_H8_LIB194135.csv  cluster5  \n\n[12204 rows x 13 columns]",
      "text/html": "<div>\n<style scoped>\n    .dataframe tbody tr th:only-of-type {\n        vertical-align: middle;\n    }\n\n    .dataframe tbody tr th {\n        vertical-align: top;\n    }\n\n    .dataframe thead th {\n        text-align: right;\n    }\n</style>\n<table border=\"1\" class=\"dataframe\">\n  <thead>\n    <tr style=\"text-align: right;\">\n      <th></th>\n      <th>Model</th>\n      <th>A</th>\n      <th>B</th>\n      <th>C</th>\n      <th>D</th>\n      <th>E</th>\n      <th>A + B</th>\n      <th>RMSE</th>\n      <th>MSE</th>\n      <th>MAE</th>\n      <th>MAPE</th>\n      <th>file_name</th>\n      <th>cluster</th>\n    </tr>\n  </thead>\n  <tbody>\n    <tr>\n      <th>0</th>\n      <td>ALL</td>\n      <td>33.37</td>\n      <td>47.19</td>\n      <td>0.21</td>\n      <td>19.09</td>\n      <td>0.14</td>\n      <td>80.56</td>\n      <td>71.182951</td>\n      <td>5067.012568</td>\n      <td>56.697119</td>\n      <td>0.356316</td>\n      <td>results_by_range_cluster0_CNN_H12_LIB193318.csv</td>\n      <td>cluster0</td>\n    </tr>\n    <tr>\n      <th>1</th>\n      <td>TBR_2</td>\n      <td>0.00</td>\n      <td>0.00</td>\n      <td>0.00</td>\n      <td>85.71</td>\n      <td>14.29</td>\n      <td>0.00</td>\n      <td>102.682604</td>\n      <td>10543.717089</td>\n      <td>101.238759</td>\n      <td>1.910165</td>\n      <td>results_by_range_cluster0_CNN_H12_LIB193318.csv</td>\n      <td>cluster0</td>\n    </tr>\n    <tr>\n      <th>2</th>\n      <td>TBR_1</td>\n      <td>0.00</td>\n      <td>0.00</td>\n      <td>0.00</td>\n      <td>97.06</td>\n      <td>2.94</td>\n      <td>0.00</td>\n      <td>78.447880</td>\n      <td>6154.069824</td>\n      <td>76.538977</td>\n      <td>1.256561</td>\n      <td>results_by_range_cluster0_CNN_H12_LIB193318.csv</td>\n      <td>cluster0</td>\n    </tr>\n    <tr>\n      <th>3</th>\n      <td>TIR</td>\n      <td>48.24</td>\n      <td>50.88</td>\n      <td>0.41</td>\n      <td>0.47</td>\n      <td>0.00</td>\n      <td>99.12</td>\n      <td>41.179827</td>\n      <td>1695.778124</td>\n      <td>33.092941</td>\n      <td>0.317303</td>\n      <td>results_by_range_cluster0_CNN_H12_LIB193318.csv</td>\n      <td>cluster0</td>\n    </tr>\n    <tr>\n      <th>4</th>\n      <td>TAR_1</td>\n      <td>28.97</td>\n      <td>59.66</td>\n      <td>0.00</td>\n      <td>11.37</td>\n      <td>0.00</td>\n      <td>88.63</td>\n      <td>62.971161</td>\n      <td>3965.367163</td>\n      <td>56.459670</td>\n      <td>0.258171</td>\n      <td>results_by_range_cluster0_CNN_H12_LIB193318.csv</td>\n      <td>cluster0</td>\n    </tr>\n    <tr>\n      <th>...</th>\n      <td>...</td>\n      <td>...</td>\n      <td>...</td>\n      <td>...</td>\n      <td>...</td>\n      <td>...</td>\n      <td>...</td>\n      <td>...</td>\n      <td>...</td>\n      <td>...</td>\n      <td>...</td>\n      <td>...</td>\n      <td>...</td>\n    </tr>\n    <tr>\n      <th>12199</th>\n      <td>TBR_2</td>\n      <td>0.00</td>\n      <td>0.00</td>\n      <td>0.00</td>\n      <td>100.00</td>\n      <td>0.00</td>\n      <td>0.00</td>\n      <td>108.374215</td>\n      <td>11744.970375</td>\n      <td>107.071786</td>\n      <td>2.020222</td>\n      <td>results_by_range_cluster5_LSTM_H8_LIB194135.csv</td>\n      <td>cluster5</td>\n    </tr>\n    <tr>\n      <th>12200</th>\n      <td>TBR_1</td>\n      <td>0.00</td>\n      <td>0.00</td>\n      <td>0.00</td>\n      <td>85.00</td>\n      <td>15.00</td>\n      <td>0.00</td>\n      <td>91.923167</td>\n      <td>8449.868722</td>\n      <td>87.072506</td>\n      <td>1.423593</td>\n      <td>results_by_range_cluster5_LSTM_H8_LIB194135.csv</td>\n      <td>cluster5</td>\n    </tr>\n    <tr>\n      <th>12201</th>\n      <td>TIR</td>\n      <td>55.77</td>\n      <td>42.60</td>\n      <td>1.44</td>\n      <td>0.14</td>\n      <td>0.05</td>\n      <td>98.37</td>\n      <td>40.237178</td>\n      <td>1619.030496</td>\n      <td>31.139506</td>\n      <td>0.262831</td>\n      <td>results_by_range_cluster5_LSTM_H8_LIB194135.csv</td>\n      <td>cluster5</td>\n    </tr>\n    <tr>\n      <th>12202</th>\n      <td>TAR_1</td>\n      <td>55.87</td>\n      <td>40.51</td>\n      <td>0.00</td>\n      <td>3.61</td>\n      <td>0.00</td>\n      <td>96.38</td>\n      <td>49.380266</td>\n      <td>2438.410630</td>\n      <td>40.545614</td>\n      <td>0.191495</td>\n      <td>results_by_range_cluster5_LSTM_H8_LIB194135.csv</td>\n      <td>cluster5</td>\n    </tr>\n    <tr>\n      <th>12203</th>\n      <td>TAR_2</td>\n      <td>22.51</td>\n      <td>33.95</td>\n      <td>0.00</td>\n      <td>43.54</td>\n      <td>0.00</td>\n      <td>56.46</td>\n      <td>105.857074</td>\n      <td>11205.720072</td>\n      <td>95.149671</td>\n      <td>0.332627</td>\n      <td>results_by_range_cluster5_LSTM_H8_LIB194135.csv</td>\n      <td>cluster5</td>\n    </tr>\n  </tbody>\n</table>\n<p>12204 rows × 13 columns</p>\n</div>"
     },
     "execution_count": 4,
     "metadata": {},
     "output_type": "execute_result"
    }
   ],
   "source": [
    "df_clusters_metrics['cluster'] = df_clusters_metrics['file_name'].apply(lambda x: x.split('_')[3])\n",
    "df_clusters_metrics"
   ],
   "metadata": {
    "collapsed": false,
    "ExecuteTime": {
     "end_time": "2024-10-23T08:12:43.954778Z",
     "start_time": "2024-10-23T08:12:43.928953Z"
    }
   },
   "id": "5d10f6e2fb04da4a",
   "execution_count": 4
  },
  {
   "cell_type": "code",
   "outputs": [
    {
     "data": {
      "text/plain": "       Model      A      B     C       D      E  A + B        RMSE  \\\n0        ALL  33.37  47.19  0.21   19.09   0.14  80.56   71.182951   \n1      TBR_2   0.00   0.00  0.00   85.71  14.29   0.00  102.682604   \n2      TBR_1   0.00   0.00  0.00   97.06   2.94   0.00   78.447880   \n3        TIR  48.24  50.88  0.41    0.47   0.00  99.12   41.179827   \n4      TAR_1  28.97  59.66  0.00   11.37   0.00  88.63   62.971161   \n...      ...    ...    ...   ...     ...    ...    ...         ...   \n12199  TBR_2   0.00   0.00  0.00  100.00   0.00   0.00  108.374215   \n12200  TBR_1   0.00   0.00  0.00   85.00  15.00   0.00   91.923167   \n12201    TIR  55.77  42.60  1.44    0.14   0.05  98.37   40.237178   \n12202  TAR_1  55.87  40.51  0.00    3.61   0.00  96.38   49.380266   \n12203  TAR_2  22.51  33.95  0.00   43.54   0.00  56.46  105.857074   \n\n                MSE         MAE      MAPE  \\\n0       5067.012568   56.697119  0.356316   \n1      10543.717089  101.238759  1.910165   \n2       6154.069824   76.538977  1.256561   \n3       1695.778124   33.092941  0.317303   \n4       3965.367163   56.459670  0.258171   \n...             ...         ...       ...   \n12199  11744.970375  107.071786  2.020222   \n12200   8449.868722   87.072506  1.423593   \n12201   1619.030496   31.139506  0.262831   \n12202   2438.410630   40.545614  0.191495   \n12203  11205.720072   95.149671  0.332627   \n\n                                             file_name   cluster model  ph  \\\n0      results_by_range_cluster0_CNN_H12_LIB193318.csv  cluster0   CNN  12   \n1      results_by_range_cluster0_CNN_H12_LIB193318.csv  cluster0   CNN  12   \n2      results_by_range_cluster0_CNN_H12_LIB193318.csv  cluster0   CNN  12   \n3      results_by_range_cluster0_CNN_H12_LIB193318.csv  cluster0   CNN  12   \n4      results_by_range_cluster0_CNN_H12_LIB193318.csv  cluster0   CNN  12   \n...                                                ...       ...   ...  ..   \n12199  results_by_range_cluster5_LSTM_H8_LIB194135.csv  cluster5  LSTM   8   \n12200  results_by_range_cluster5_LSTM_H8_LIB194135.csv  cluster5  LSTM   8   \n12201  results_by_range_cluster5_LSTM_H8_LIB194135.csv  cluster5  LSTM   8   \n12202  results_by_range_cluster5_LSTM_H8_LIB194135.csv  cluster5  LSTM   8   \n12203  results_by_range_cluster5_LSTM_H8_LIB194135.csv  cluster5  LSTM   8   \n\n         patient  \n0      LIB193318  \n1      LIB193318  \n2      LIB193318  \n3      LIB193318  \n4      LIB193318  \n...          ...  \n12199  LIB194135  \n12200  LIB194135  \n12201  LIB194135  \n12202  LIB194135  \n12203  LIB194135  \n\n[12204 rows x 16 columns]",
      "text/html": "<div>\n<style scoped>\n    .dataframe tbody tr th:only-of-type {\n        vertical-align: middle;\n    }\n\n    .dataframe tbody tr th {\n        vertical-align: top;\n    }\n\n    .dataframe thead th {\n        text-align: right;\n    }\n</style>\n<table border=\"1\" class=\"dataframe\">\n  <thead>\n    <tr style=\"text-align: right;\">\n      <th></th>\n      <th>Model</th>\n      <th>A</th>\n      <th>B</th>\n      <th>C</th>\n      <th>D</th>\n      <th>E</th>\n      <th>A + B</th>\n      <th>RMSE</th>\n      <th>MSE</th>\n      <th>MAE</th>\n      <th>MAPE</th>\n      <th>file_name</th>\n      <th>cluster</th>\n      <th>model</th>\n      <th>ph</th>\n      <th>patient</th>\n    </tr>\n  </thead>\n  <tbody>\n    <tr>\n      <th>0</th>\n      <td>ALL</td>\n      <td>33.37</td>\n      <td>47.19</td>\n      <td>0.21</td>\n      <td>19.09</td>\n      <td>0.14</td>\n      <td>80.56</td>\n      <td>71.182951</td>\n      <td>5067.012568</td>\n      <td>56.697119</td>\n      <td>0.356316</td>\n      <td>results_by_range_cluster0_CNN_H12_LIB193318.csv</td>\n      <td>cluster0</td>\n      <td>CNN</td>\n      <td>12</td>\n      <td>LIB193318</td>\n    </tr>\n    <tr>\n      <th>1</th>\n      <td>TBR_2</td>\n      <td>0.00</td>\n      <td>0.00</td>\n      <td>0.00</td>\n      <td>85.71</td>\n      <td>14.29</td>\n      <td>0.00</td>\n      <td>102.682604</td>\n      <td>10543.717089</td>\n      <td>101.238759</td>\n      <td>1.910165</td>\n      <td>results_by_range_cluster0_CNN_H12_LIB193318.csv</td>\n      <td>cluster0</td>\n      <td>CNN</td>\n      <td>12</td>\n      <td>LIB193318</td>\n    </tr>\n    <tr>\n      <th>2</th>\n      <td>TBR_1</td>\n      <td>0.00</td>\n      <td>0.00</td>\n      <td>0.00</td>\n      <td>97.06</td>\n      <td>2.94</td>\n      <td>0.00</td>\n      <td>78.447880</td>\n      <td>6154.069824</td>\n      <td>76.538977</td>\n      <td>1.256561</td>\n      <td>results_by_range_cluster0_CNN_H12_LIB193318.csv</td>\n      <td>cluster0</td>\n      <td>CNN</td>\n      <td>12</td>\n      <td>LIB193318</td>\n    </tr>\n    <tr>\n      <th>3</th>\n      <td>TIR</td>\n      <td>48.24</td>\n      <td>50.88</td>\n      <td>0.41</td>\n      <td>0.47</td>\n      <td>0.00</td>\n      <td>99.12</td>\n      <td>41.179827</td>\n      <td>1695.778124</td>\n      <td>33.092941</td>\n      <td>0.317303</td>\n      <td>results_by_range_cluster0_CNN_H12_LIB193318.csv</td>\n      <td>cluster0</td>\n      <td>CNN</td>\n      <td>12</td>\n      <td>LIB193318</td>\n    </tr>\n    <tr>\n      <th>4</th>\n      <td>TAR_1</td>\n      <td>28.97</td>\n      <td>59.66</td>\n      <td>0.00</td>\n      <td>11.37</td>\n      <td>0.00</td>\n      <td>88.63</td>\n      <td>62.971161</td>\n      <td>3965.367163</td>\n      <td>56.459670</td>\n      <td>0.258171</td>\n      <td>results_by_range_cluster0_CNN_H12_LIB193318.csv</td>\n      <td>cluster0</td>\n      <td>CNN</td>\n      <td>12</td>\n      <td>LIB193318</td>\n    </tr>\n    <tr>\n      <th>...</th>\n      <td>...</td>\n      <td>...</td>\n      <td>...</td>\n      <td>...</td>\n      <td>...</td>\n      <td>...</td>\n      <td>...</td>\n      <td>...</td>\n      <td>...</td>\n      <td>...</td>\n      <td>...</td>\n      <td>...</td>\n      <td>...</td>\n      <td>...</td>\n      <td>...</td>\n      <td>...</td>\n    </tr>\n    <tr>\n      <th>12199</th>\n      <td>TBR_2</td>\n      <td>0.00</td>\n      <td>0.00</td>\n      <td>0.00</td>\n      <td>100.00</td>\n      <td>0.00</td>\n      <td>0.00</td>\n      <td>108.374215</td>\n      <td>11744.970375</td>\n      <td>107.071786</td>\n      <td>2.020222</td>\n      <td>results_by_range_cluster5_LSTM_H8_LIB194135.csv</td>\n      <td>cluster5</td>\n      <td>LSTM</td>\n      <td>8</td>\n      <td>LIB194135</td>\n    </tr>\n    <tr>\n      <th>12200</th>\n      <td>TBR_1</td>\n      <td>0.00</td>\n      <td>0.00</td>\n      <td>0.00</td>\n      <td>85.00</td>\n      <td>15.00</td>\n      <td>0.00</td>\n      <td>91.923167</td>\n      <td>8449.868722</td>\n      <td>87.072506</td>\n      <td>1.423593</td>\n      <td>results_by_range_cluster5_LSTM_H8_LIB194135.csv</td>\n      <td>cluster5</td>\n      <td>LSTM</td>\n      <td>8</td>\n      <td>LIB194135</td>\n    </tr>\n    <tr>\n      <th>12201</th>\n      <td>TIR</td>\n      <td>55.77</td>\n      <td>42.60</td>\n      <td>1.44</td>\n      <td>0.14</td>\n      <td>0.05</td>\n      <td>98.37</td>\n      <td>40.237178</td>\n      <td>1619.030496</td>\n      <td>31.139506</td>\n      <td>0.262831</td>\n      <td>results_by_range_cluster5_LSTM_H8_LIB194135.csv</td>\n      <td>cluster5</td>\n      <td>LSTM</td>\n      <td>8</td>\n      <td>LIB194135</td>\n    </tr>\n    <tr>\n      <th>12202</th>\n      <td>TAR_1</td>\n      <td>55.87</td>\n      <td>40.51</td>\n      <td>0.00</td>\n      <td>3.61</td>\n      <td>0.00</td>\n      <td>96.38</td>\n      <td>49.380266</td>\n      <td>2438.410630</td>\n      <td>40.545614</td>\n      <td>0.191495</td>\n      <td>results_by_range_cluster5_LSTM_H8_LIB194135.csv</td>\n      <td>cluster5</td>\n      <td>LSTM</td>\n      <td>8</td>\n      <td>LIB194135</td>\n    </tr>\n    <tr>\n      <th>12203</th>\n      <td>TAR_2</td>\n      <td>22.51</td>\n      <td>33.95</td>\n      <td>0.00</td>\n      <td>43.54</td>\n      <td>0.00</td>\n      <td>56.46</td>\n      <td>105.857074</td>\n      <td>11205.720072</td>\n      <td>95.149671</td>\n      <td>0.332627</td>\n      <td>results_by_range_cluster5_LSTM_H8_LIB194135.csv</td>\n      <td>cluster5</td>\n      <td>LSTM</td>\n      <td>8</td>\n      <td>LIB194135</td>\n    </tr>\n  </tbody>\n</table>\n<p>12204 rows × 16 columns</p>\n</div>"
     },
     "execution_count": 5,
     "metadata": {},
     "output_type": "execute_result"
    }
   ],
   "source": [
    "df_clusters_metrics['model'] = df_clusters_metrics['file_name'].apply(lambda x: x.split('_')[4])\n",
    "df_clusters_metrics['ph'] = df_clusters_metrics['file_name'].apply(lambda x: x.split('_')[-2][1:])\n",
    "df_clusters_metrics['patient'] = df_clusters_metrics['file_name'].apply(lambda x: x.split('_')[-1][:-4])\n",
    "df_clusters_metrics"
   ],
   "metadata": {
    "collapsed": false,
    "ExecuteTime": {
     "end_time": "2024-10-23T08:12:45.168194Z",
     "start_time": "2024-10-23T08:12:45.144230Z"
    }
   },
   "id": "32eb983481330692",
   "execution_count": 5
  },
  {
   "cell_type": "code",
   "outputs": [
    {
     "data": {
      "text/plain": "       Model      A      B     C       D      E  A + B        RMSE  \\\n0        ALL  33.37  47.19  0.21   19.09   0.14  80.56   71.182951   \n1      TBR_2   0.00   0.00  0.00   85.71  14.29   0.00  102.682604   \n2      TBR_1   0.00   0.00  0.00   97.06   2.94   0.00   78.447880   \n3        TIR  48.24  50.88  0.41    0.47   0.00  99.12   41.179827   \n4      TAR_1  28.97  59.66  0.00   11.37   0.00  88.63   62.971161   \n...      ...    ...    ...   ...     ...    ...    ...         ...   \n12199  TBR_2   0.00   0.00  0.00  100.00   0.00   0.00  108.374215   \n12200  TBR_1   0.00   0.00  0.00   85.00  15.00   0.00   91.923167   \n12201    TIR  55.77  42.60  1.44    0.14   0.05  98.37   40.237178   \n12202  TAR_1  55.87  40.51  0.00    3.61   0.00  96.38   49.380266   \n12203  TAR_2  22.51  33.95  0.00   43.54   0.00  56.46  105.857074   \n\n                MSE         MAE      MAPE   cluster model  ph    patient  \n0       5067.012568   56.697119  0.356316  cluster0   CNN  12  LIB193318  \n1      10543.717089  101.238759  1.910165  cluster0   CNN  12  LIB193318  \n2       6154.069824   76.538977  1.256561  cluster0   CNN  12  LIB193318  \n3       1695.778124   33.092941  0.317303  cluster0   CNN  12  LIB193318  \n4       3965.367163   56.459670  0.258171  cluster0   CNN  12  LIB193318  \n...             ...         ...       ...       ...   ...  ..        ...  \n12199  11744.970375  107.071786  2.020222  cluster5  LSTM   8  LIB194135  \n12200   8449.868722   87.072506  1.423593  cluster5  LSTM   8  LIB194135  \n12201   1619.030496   31.139506  0.262831  cluster5  LSTM   8  LIB194135  \n12202   2438.410630   40.545614  0.191495  cluster5  LSTM   8  LIB194135  \n12203  11205.720072   95.149671  0.332627  cluster5  LSTM   8  LIB194135  \n\n[12204 rows x 15 columns]",
      "text/html": "<div>\n<style scoped>\n    .dataframe tbody tr th:only-of-type {\n        vertical-align: middle;\n    }\n\n    .dataframe tbody tr th {\n        vertical-align: top;\n    }\n\n    .dataframe thead th {\n        text-align: right;\n    }\n</style>\n<table border=\"1\" class=\"dataframe\">\n  <thead>\n    <tr style=\"text-align: right;\">\n      <th></th>\n      <th>Model</th>\n      <th>A</th>\n      <th>B</th>\n      <th>C</th>\n      <th>D</th>\n      <th>E</th>\n      <th>A + B</th>\n      <th>RMSE</th>\n      <th>MSE</th>\n      <th>MAE</th>\n      <th>MAPE</th>\n      <th>cluster</th>\n      <th>model</th>\n      <th>ph</th>\n      <th>patient</th>\n    </tr>\n  </thead>\n  <tbody>\n    <tr>\n      <th>0</th>\n      <td>ALL</td>\n      <td>33.37</td>\n      <td>47.19</td>\n      <td>0.21</td>\n      <td>19.09</td>\n      <td>0.14</td>\n      <td>80.56</td>\n      <td>71.182951</td>\n      <td>5067.012568</td>\n      <td>56.697119</td>\n      <td>0.356316</td>\n      <td>cluster0</td>\n      <td>CNN</td>\n      <td>12</td>\n      <td>LIB193318</td>\n    </tr>\n    <tr>\n      <th>1</th>\n      <td>TBR_2</td>\n      <td>0.00</td>\n      <td>0.00</td>\n      <td>0.00</td>\n      <td>85.71</td>\n      <td>14.29</td>\n      <td>0.00</td>\n      <td>102.682604</td>\n      <td>10543.717089</td>\n      <td>101.238759</td>\n      <td>1.910165</td>\n      <td>cluster0</td>\n      <td>CNN</td>\n      <td>12</td>\n      <td>LIB193318</td>\n    </tr>\n    <tr>\n      <th>2</th>\n      <td>TBR_1</td>\n      <td>0.00</td>\n      <td>0.00</td>\n      <td>0.00</td>\n      <td>97.06</td>\n      <td>2.94</td>\n      <td>0.00</td>\n      <td>78.447880</td>\n      <td>6154.069824</td>\n      <td>76.538977</td>\n      <td>1.256561</td>\n      <td>cluster0</td>\n      <td>CNN</td>\n      <td>12</td>\n      <td>LIB193318</td>\n    </tr>\n    <tr>\n      <th>3</th>\n      <td>TIR</td>\n      <td>48.24</td>\n      <td>50.88</td>\n      <td>0.41</td>\n      <td>0.47</td>\n      <td>0.00</td>\n      <td>99.12</td>\n      <td>41.179827</td>\n      <td>1695.778124</td>\n      <td>33.092941</td>\n      <td>0.317303</td>\n      <td>cluster0</td>\n      <td>CNN</td>\n      <td>12</td>\n      <td>LIB193318</td>\n    </tr>\n    <tr>\n      <th>4</th>\n      <td>TAR_1</td>\n      <td>28.97</td>\n      <td>59.66</td>\n      <td>0.00</td>\n      <td>11.37</td>\n      <td>0.00</td>\n      <td>88.63</td>\n      <td>62.971161</td>\n      <td>3965.367163</td>\n      <td>56.459670</td>\n      <td>0.258171</td>\n      <td>cluster0</td>\n      <td>CNN</td>\n      <td>12</td>\n      <td>LIB193318</td>\n    </tr>\n    <tr>\n      <th>...</th>\n      <td>...</td>\n      <td>...</td>\n      <td>...</td>\n      <td>...</td>\n      <td>...</td>\n      <td>...</td>\n      <td>...</td>\n      <td>...</td>\n      <td>...</td>\n      <td>...</td>\n      <td>...</td>\n      <td>...</td>\n      <td>...</td>\n      <td>...</td>\n      <td>...</td>\n    </tr>\n    <tr>\n      <th>12199</th>\n      <td>TBR_2</td>\n      <td>0.00</td>\n      <td>0.00</td>\n      <td>0.00</td>\n      <td>100.00</td>\n      <td>0.00</td>\n      <td>0.00</td>\n      <td>108.374215</td>\n      <td>11744.970375</td>\n      <td>107.071786</td>\n      <td>2.020222</td>\n      <td>cluster5</td>\n      <td>LSTM</td>\n      <td>8</td>\n      <td>LIB194135</td>\n    </tr>\n    <tr>\n      <th>12200</th>\n      <td>TBR_1</td>\n      <td>0.00</td>\n      <td>0.00</td>\n      <td>0.00</td>\n      <td>85.00</td>\n      <td>15.00</td>\n      <td>0.00</td>\n      <td>91.923167</td>\n      <td>8449.868722</td>\n      <td>87.072506</td>\n      <td>1.423593</td>\n      <td>cluster5</td>\n      <td>LSTM</td>\n      <td>8</td>\n      <td>LIB194135</td>\n    </tr>\n    <tr>\n      <th>12201</th>\n      <td>TIR</td>\n      <td>55.77</td>\n      <td>42.60</td>\n      <td>1.44</td>\n      <td>0.14</td>\n      <td>0.05</td>\n      <td>98.37</td>\n      <td>40.237178</td>\n      <td>1619.030496</td>\n      <td>31.139506</td>\n      <td>0.262831</td>\n      <td>cluster5</td>\n      <td>LSTM</td>\n      <td>8</td>\n      <td>LIB194135</td>\n    </tr>\n    <tr>\n      <th>12202</th>\n      <td>TAR_1</td>\n      <td>55.87</td>\n      <td>40.51</td>\n      <td>0.00</td>\n      <td>3.61</td>\n      <td>0.00</td>\n      <td>96.38</td>\n      <td>49.380266</td>\n      <td>2438.410630</td>\n      <td>40.545614</td>\n      <td>0.191495</td>\n      <td>cluster5</td>\n      <td>LSTM</td>\n      <td>8</td>\n      <td>LIB194135</td>\n    </tr>\n    <tr>\n      <th>12203</th>\n      <td>TAR_2</td>\n      <td>22.51</td>\n      <td>33.95</td>\n      <td>0.00</td>\n      <td>43.54</td>\n      <td>0.00</td>\n      <td>56.46</td>\n      <td>105.857074</td>\n      <td>11205.720072</td>\n      <td>95.149671</td>\n      <td>0.332627</td>\n      <td>cluster5</td>\n      <td>LSTM</td>\n      <td>8</td>\n      <td>LIB194135</td>\n    </tr>\n  </tbody>\n</table>\n<p>12204 rows × 15 columns</p>\n</div>"
     },
     "execution_count": 6,
     "metadata": {},
     "output_type": "execute_result"
    }
   ],
   "source": [
    "df_clusters_metrics = df_clusters_metrics.drop(columns=['file_name'])\n",
    "df_clusters_metrics"
   ],
   "metadata": {
    "collapsed": false,
    "ExecuteTime": {
     "end_time": "2024-10-23T08:12:46.312160Z",
     "start_time": "2024-10-23T08:12:46.289601Z"
    }
   },
   "id": "e2738b9a1b8935cf",
   "execution_count": 6
  },
  {
   "cell_type": "code",
   "outputs": [],
   "source": [
    "df_clusters_metrics['ph'] = df_clusters_metrics['ph'].astype(int)"
   ],
   "metadata": {
    "collapsed": false,
    "ExecuteTime": {
     "end_time": "2024-10-23T08:12:48.564363Z",
     "start_time": "2024-10-23T08:12:48.558137Z"
    }
   },
   "id": "977f68aaa33834d9",
   "execution_count": 7
  },
  {
   "cell_type": "code",
   "outputs": [
    {
     "data": {
      "text/plain": "patient\nLIB193318    108\nLIB193580    108\nLIB193671    108\nLIB193633    108\nLIB193624    108\n            ... \nLIB193637    108\nLIB193591    108\nLIB193574    108\nLIB193556    108\nLIB194135    108\nName: count, Length: 113, dtype: int64"
     },
     "execution_count": 8,
     "metadata": {},
     "output_type": "execute_result"
    }
   ],
   "source": [
    "df_clusters_metrics['patient'].value_counts()"
   ],
   "metadata": {
    "collapsed": false,
    "ExecuteTime": {
     "end_time": "2024-10-23T08:12:49.461338Z",
     "start_time": "2024-10-23T08:12:49.454071Z"
    }
   },
   "id": "43fd61cf6c0d5f9f",
   "execution_count": 8
  },
  {
   "cell_type": "markdown",
   "source": [
    "# Leer listado de mejores y peores pacientes"
   ],
   "metadata": {
    "collapsed": false
   },
   "id": "63e3d21e22c6fc42"
  },
  {
   "cell_type": "code",
   "outputs": [],
   "source": [
    "df_patients_best = pd.read_csv('Best_and_worst/best_FULL.csv')\n",
    "df_patients_worst = pd.read_csv('Best_and_worst/worst_FULL.csv')"
   ],
   "metadata": {
    "collapsed": false,
    "ExecuteTime": {
     "end_time": "2024-10-23T08:12:53.000871Z",
     "start_time": "2024-10-23T08:12:52.992552Z"
    }
   },
   "id": "b6de6215003c5d30",
   "execution_count": 9
  },
  {
   "cell_type": "code",
   "outputs": [],
   "source": [
    "df_patients_best.drop(columns=['A + B'], inplace=True)\n",
    "df_patients_worst.drop(columns=['A + B'], inplace=True)"
   ],
   "metadata": {
    "collapsed": false,
    "ExecuteTime": {
     "end_time": "2024-10-23T08:12:53.760659Z",
     "start_time": "2024-10-23T08:12:53.746041Z"
    }
   },
   "id": "40278d2e17087e5c",
   "execution_count": 10
  },
  {
   "cell_type": "code",
   "outputs": [
    {
     "data": {
      "text/plain": "     Model      A      B     C       D     E  A + B       RMSE          MSE  \\\n0      ALL  42.52  52.30  0.14    4.98  0.05  94.82  45.982299  2114.371835   \n1    TBR_2   0.00   0.00  0.00  100.00  0.00   0.00  93.295463  8704.043338   \n2    TBR_1   0.00   0.00  0.00   98.27  1.73   0.00  76.873811  5909.582834   \n3      TIR  47.38  51.96  0.18    0.47  0.01  99.34  38.217256  1460.558679   \n4    TAR_1  31.07  64.09  0.00    4.84  0.00  95.16  57.997785  3363.743079   \n..     ...    ...    ...   ...     ...   ...    ...        ...          ...   \n643  TBR_2    NaN    NaN   NaN     NaN   NaN    NaN        NaN          NaN   \n644  TBR_1   0.00   0.00  0.00  100.00  0.00   0.00  73.752975  5439.501279   \n645    TIR  51.86  47.79  0.03    0.31  0.00  99.65  35.387779  1252.294916   \n646  TAR_1  61.17  36.21  0.00    2.62  0.00  97.38  45.730107  2091.242682   \n647  TAR_2  28.95  51.43  0.00   19.62  0.00  80.38  86.240192  7437.370742   \n\n           MAE      MAPE   cluster model  ph    patient  \n0    37.557789  0.313181  cluster0   CNN  12  LIB193914  \n1    92.957884  1.802872  cluster0   CNN  12  LIB193914  \n2    75.086520  1.181391  cluster0   CNN  12  LIB193914  \n3    31.361263  0.297474  cluster0   CNN  12  LIB193914  \n4    52.595863  0.249798  cluster0   CNN  12  LIB193914  \n..         ...       ...       ...   ...  ..        ...  \n643        NaN       NaN  cluster5  LSTM   8  LIB193368  \n644  71.518752  1.093691  cluster5  LSTM   8  LIB193368  \n645  28.983607  0.253830  cluster5  LSTM   8  LIB193368  \n646  36.836102  0.172936  cluster5  LSTM   8  LIB193368  \n647  77.632023  0.267865  cluster5  LSTM   8  LIB193368  \n\n[648 rows x 15 columns]",
      "text/html": "<div>\n<style scoped>\n    .dataframe tbody tr th:only-of-type {\n        vertical-align: middle;\n    }\n\n    .dataframe tbody tr th {\n        vertical-align: top;\n    }\n\n    .dataframe thead th {\n        text-align: right;\n    }\n</style>\n<table border=\"1\" class=\"dataframe\">\n  <thead>\n    <tr style=\"text-align: right;\">\n      <th></th>\n      <th>Model</th>\n      <th>A</th>\n      <th>B</th>\n      <th>C</th>\n      <th>D</th>\n      <th>E</th>\n      <th>A + B</th>\n      <th>RMSE</th>\n      <th>MSE</th>\n      <th>MAE</th>\n      <th>MAPE</th>\n      <th>cluster</th>\n      <th>model</th>\n      <th>ph</th>\n      <th>patient</th>\n    </tr>\n  </thead>\n  <tbody>\n    <tr>\n      <th>0</th>\n      <td>ALL</td>\n      <td>42.52</td>\n      <td>52.30</td>\n      <td>0.14</td>\n      <td>4.98</td>\n      <td>0.05</td>\n      <td>94.82</td>\n      <td>45.982299</td>\n      <td>2114.371835</td>\n      <td>37.557789</td>\n      <td>0.313181</td>\n      <td>cluster0</td>\n      <td>CNN</td>\n      <td>12</td>\n      <td>LIB193914</td>\n    </tr>\n    <tr>\n      <th>1</th>\n      <td>TBR_2</td>\n      <td>0.00</td>\n      <td>0.00</td>\n      <td>0.00</td>\n      <td>100.00</td>\n      <td>0.00</td>\n      <td>0.00</td>\n      <td>93.295463</td>\n      <td>8704.043338</td>\n      <td>92.957884</td>\n      <td>1.802872</td>\n      <td>cluster0</td>\n      <td>CNN</td>\n      <td>12</td>\n      <td>LIB193914</td>\n    </tr>\n    <tr>\n      <th>2</th>\n      <td>TBR_1</td>\n      <td>0.00</td>\n      <td>0.00</td>\n      <td>0.00</td>\n      <td>98.27</td>\n      <td>1.73</td>\n      <td>0.00</td>\n      <td>76.873811</td>\n      <td>5909.582834</td>\n      <td>75.086520</td>\n      <td>1.181391</td>\n      <td>cluster0</td>\n      <td>CNN</td>\n      <td>12</td>\n      <td>LIB193914</td>\n    </tr>\n    <tr>\n      <th>3</th>\n      <td>TIR</td>\n      <td>47.38</td>\n      <td>51.96</td>\n      <td>0.18</td>\n      <td>0.47</td>\n      <td>0.01</td>\n      <td>99.34</td>\n      <td>38.217256</td>\n      <td>1460.558679</td>\n      <td>31.361263</td>\n      <td>0.297474</td>\n      <td>cluster0</td>\n      <td>CNN</td>\n      <td>12</td>\n      <td>LIB193914</td>\n    </tr>\n    <tr>\n      <th>4</th>\n      <td>TAR_1</td>\n      <td>31.07</td>\n      <td>64.09</td>\n      <td>0.00</td>\n      <td>4.84</td>\n      <td>0.00</td>\n      <td>95.16</td>\n      <td>57.997785</td>\n      <td>3363.743079</td>\n      <td>52.595863</td>\n      <td>0.249798</td>\n      <td>cluster0</td>\n      <td>CNN</td>\n      <td>12</td>\n      <td>LIB193914</td>\n    </tr>\n    <tr>\n      <th>...</th>\n      <td>...</td>\n      <td>...</td>\n      <td>...</td>\n      <td>...</td>\n      <td>...</td>\n      <td>...</td>\n      <td>...</td>\n      <td>...</td>\n      <td>...</td>\n      <td>...</td>\n      <td>...</td>\n      <td>...</td>\n      <td>...</td>\n      <td>...</td>\n      <td>...</td>\n    </tr>\n    <tr>\n      <th>643</th>\n      <td>TBR_2</td>\n      <td>NaN</td>\n      <td>NaN</td>\n      <td>NaN</td>\n      <td>NaN</td>\n      <td>NaN</td>\n      <td>NaN</td>\n      <td>NaN</td>\n      <td>NaN</td>\n      <td>NaN</td>\n      <td>NaN</td>\n      <td>cluster5</td>\n      <td>LSTM</td>\n      <td>8</td>\n      <td>LIB193368</td>\n    </tr>\n    <tr>\n      <th>644</th>\n      <td>TBR_1</td>\n      <td>0.00</td>\n      <td>0.00</td>\n      <td>0.00</td>\n      <td>100.00</td>\n      <td>0.00</td>\n      <td>0.00</td>\n      <td>73.752975</td>\n      <td>5439.501279</td>\n      <td>71.518752</td>\n      <td>1.093691</td>\n      <td>cluster5</td>\n      <td>LSTM</td>\n      <td>8</td>\n      <td>LIB193368</td>\n    </tr>\n    <tr>\n      <th>645</th>\n      <td>TIR</td>\n      <td>51.86</td>\n      <td>47.79</td>\n      <td>0.03</td>\n      <td>0.31</td>\n      <td>0.00</td>\n      <td>99.65</td>\n      <td>35.387779</td>\n      <td>1252.294916</td>\n      <td>28.983607</td>\n      <td>0.253830</td>\n      <td>cluster5</td>\n      <td>LSTM</td>\n      <td>8</td>\n      <td>LIB193368</td>\n    </tr>\n    <tr>\n      <th>646</th>\n      <td>TAR_1</td>\n      <td>61.17</td>\n      <td>36.21</td>\n      <td>0.00</td>\n      <td>2.62</td>\n      <td>0.00</td>\n      <td>97.38</td>\n      <td>45.730107</td>\n      <td>2091.242682</td>\n      <td>36.836102</td>\n      <td>0.172936</td>\n      <td>cluster5</td>\n      <td>LSTM</td>\n      <td>8</td>\n      <td>LIB193368</td>\n    </tr>\n    <tr>\n      <th>647</th>\n      <td>TAR_2</td>\n      <td>28.95</td>\n      <td>51.43</td>\n      <td>0.00</td>\n      <td>19.62</td>\n      <td>0.00</td>\n      <td>80.38</td>\n      <td>86.240192</td>\n      <td>7437.370742</td>\n      <td>77.632023</td>\n      <td>0.267865</td>\n      <td>cluster5</td>\n      <td>LSTM</td>\n      <td>8</td>\n      <td>LIB193368</td>\n    </tr>\n  </tbody>\n</table>\n<p>648 rows × 15 columns</p>\n</div>"
     },
     "execution_count": 11,
     "metadata": {},
     "output_type": "execute_result"
    }
   ],
   "source": [
    "key_columns_cl = ['cluster', 'model', 'ph', 'patient']\n",
    "df_clusters_metrics_best = pd.merge(df_clusters_metrics, df_patients_best, on=key_columns_cl, how='inner')\n",
    "df_clusters_metrics_best"
   ],
   "metadata": {
    "collapsed": false,
    "ExecuteTime": {
     "end_time": "2024-10-23T08:12:54.338756Z",
     "start_time": "2024-10-23T08:12:54.306968Z"
    }
   },
   "id": "b4a0a0b6fbca58f2",
   "execution_count": 11
  },
  {
   "cell_type": "code",
   "outputs": [
    {
     "data": {
      "text/plain": "     Model      A      B     C       D     E  A + B       RMSE          MSE  \\\n0      ALL  34.41  39.30  0.05   25.91  0.33  73.71  54.570289  2977.916411   \n1    TBR_2   0.00   0.00  0.00   98.84  1.16   0.00  84.180508  7086.357874   \n2    TBR_1   0.00   0.00  0.00   98.45  1.55   0.00  76.243326  5813.044720   \n3      TIR  46.56  52.15  0.08    1.21  0.00  98.71  38.130889  1453.964667   \n4    TAR_1  45.29  50.71  0.00    4.00  0.00  96.00  51.172098  2618.583618   \n..     ...    ...    ...   ...     ...   ...    ...        ...          ...   \n643  TBR_2   0.00   0.00  0.00  100.00  0.00   0.00  61.192477  3744.519194   \n644  TBR_1   0.00   0.00  0.00   99.02  0.98   0.00  55.851747  3119.417641   \n645    TIR  44.74  52.44  1.12    1.70  0.00  97.18  38.228065  1461.384947   \n646  TAR_1  50.10  44.91  0.00    4.99  0.00  95.01  54.892220  3013.155861   \n647  TAR_2  26.72  52.34  0.00   20.94  0.00  79.06  89.886861  8079.647825   \n\n           MAE      MAPE   cluster model  ph    patient  \n0    45.830027  0.563267  cluster0   CNN  12  LIB193526  \n1    82.863724  1.680084  cluster0   CNN  12  LIB193526  \n2    74.741939  1.240629  cluster0   CNN  12  LIB193526  \n3    31.381175  0.315329  cluster0   CNN  12  LIB193526  \n4    45.091294  0.215140  cluster0   CNN  12  LIB193526  \n..         ...       ...       ...   ...  ..        ...  \n643  59.317990  1.123273  cluster5  LSTM   8  LIB193603  \n644  52.917345  0.869843  cluster5  LSTM   8  LIB193603  \n645  30.459248  0.299835  cluster5  LSTM   8  LIB193603  \n646  45.752520  0.214592  cluster5  LSTM   8  LIB193603  \n647  81.293791  0.277392  cluster5  LSTM   8  LIB193603  \n\n[648 rows x 15 columns]",
      "text/html": "<div>\n<style scoped>\n    .dataframe tbody tr th:only-of-type {\n        vertical-align: middle;\n    }\n\n    .dataframe tbody tr th {\n        vertical-align: top;\n    }\n\n    .dataframe thead th {\n        text-align: right;\n    }\n</style>\n<table border=\"1\" class=\"dataframe\">\n  <thead>\n    <tr style=\"text-align: right;\">\n      <th></th>\n      <th>Model</th>\n      <th>A</th>\n      <th>B</th>\n      <th>C</th>\n      <th>D</th>\n      <th>E</th>\n      <th>A + B</th>\n      <th>RMSE</th>\n      <th>MSE</th>\n      <th>MAE</th>\n      <th>MAPE</th>\n      <th>cluster</th>\n      <th>model</th>\n      <th>ph</th>\n      <th>patient</th>\n    </tr>\n  </thead>\n  <tbody>\n    <tr>\n      <th>0</th>\n      <td>ALL</td>\n      <td>34.41</td>\n      <td>39.30</td>\n      <td>0.05</td>\n      <td>25.91</td>\n      <td>0.33</td>\n      <td>73.71</td>\n      <td>54.570289</td>\n      <td>2977.916411</td>\n      <td>45.830027</td>\n      <td>0.563267</td>\n      <td>cluster0</td>\n      <td>CNN</td>\n      <td>12</td>\n      <td>LIB193526</td>\n    </tr>\n    <tr>\n      <th>1</th>\n      <td>TBR_2</td>\n      <td>0.00</td>\n      <td>0.00</td>\n      <td>0.00</td>\n      <td>98.84</td>\n      <td>1.16</td>\n      <td>0.00</td>\n      <td>84.180508</td>\n      <td>7086.357874</td>\n      <td>82.863724</td>\n      <td>1.680084</td>\n      <td>cluster0</td>\n      <td>CNN</td>\n      <td>12</td>\n      <td>LIB193526</td>\n    </tr>\n    <tr>\n      <th>2</th>\n      <td>TBR_1</td>\n      <td>0.00</td>\n      <td>0.00</td>\n      <td>0.00</td>\n      <td>98.45</td>\n      <td>1.55</td>\n      <td>0.00</td>\n      <td>76.243326</td>\n      <td>5813.044720</td>\n      <td>74.741939</td>\n      <td>1.240629</td>\n      <td>cluster0</td>\n      <td>CNN</td>\n      <td>12</td>\n      <td>LIB193526</td>\n    </tr>\n    <tr>\n      <th>3</th>\n      <td>TIR</td>\n      <td>46.56</td>\n      <td>52.15</td>\n      <td>0.08</td>\n      <td>1.21</td>\n      <td>0.00</td>\n      <td>98.71</td>\n      <td>38.130889</td>\n      <td>1453.964667</td>\n      <td>31.381175</td>\n      <td>0.315329</td>\n      <td>cluster0</td>\n      <td>CNN</td>\n      <td>12</td>\n      <td>LIB193526</td>\n    </tr>\n    <tr>\n      <th>4</th>\n      <td>TAR_1</td>\n      <td>45.29</td>\n      <td>50.71</td>\n      <td>0.00</td>\n      <td>4.00</td>\n      <td>0.00</td>\n      <td>96.00</td>\n      <td>51.172098</td>\n      <td>2618.583618</td>\n      <td>45.091294</td>\n      <td>0.215140</td>\n      <td>cluster0</td>\n      <td>CNN</td>\n      <td>12</td>\n      <td>LIB193526</td>\n    </tr>\n    <tr>\n      <th>...</th>\n      <td>...</td>\n      <td>...</td>\n      <td>...</td>\n      <td>...</td>\n      <td>...</td>\n      <td>...</td>\n      <td>...</td>\n      <td>...</td>\n      <td>...</td>\n      <td>...</td>\n      <td>...</td>\n      <td>...</td>\n      <td>...</td>\n      <td>...</td>\n      <td>...</td>\n    </tr>\n    <tr>\n      <th>643</th>\n      <td>TBR_2</td>\n      <td>0.00</td>\n      <td>0.00</td>\n      <td>0.00</td>\n      <td>100.00</td>\n      <td>0.00</td>\n      <td>0.00</td>\n      <td>61.192477</td>\n      <td>3744.519194</td>\n      <td>59.317990</td>\n      <td>1.123273</td>\n      <td>cluster5</td>\n      <td>LSTM</td>\n      <td>8</td>\n      <td>LIB193603</td>\n    </tr>\n    <tr>\n      <th>644</th>\n      <td>TBR_1</td>\n      <td>0.00</td>\n      <td>0.00</td>\n      <td>0.00</td>\n      <td>99.02</td>\n      <td>0.98</td>\n      <td>0.00</td>\n      <td>55.851747</td>\n      <td>3119.417641</td>\n      <td>52.917345</td>\n      <td>0.869843</td>\n      <td>cluster5</td>\n      <td>LSTM</td>\n      <td>8</td>\n      <td>LIB193603</td>\n    </tr>\n    <tr>\n      <th>645</th>\n      <td>TIR</td>\n      <td>44.74</td>\n      <td>52.44</td>\n      <td>1.12</td>\n      <td>1.70</td>\n      <td>0.00</td>\n      <td>97.18</td>\n      <td>38.228065</td>\n      <td>1461.384947</td>\n      <td>30.459248</td>\n      <td>0.299835</td>\n      <td>cluster5</td>\n      <td>LSTM</td>\n      <td>8</td>\n      <td>LIB193603</td>\n    </tr>\n    <tr>\n      <th>646</th>\n      <td>TAR_1</td>\n      <td>50.10</td>\n      <td>44.91</td>\n      <td>0.00</td>\n      <td>4.99</td>\n      <td>0.00</td>\n      <td>95.01</td>\n      <td>54.892220</td>\n      <td>3013.155861</td>\n      <td>45.752520</td>\n      <td>0.214592</td>\n      <td>cluster5</td>\n      <td>LSTM</td>\n      <td>8</td>\n      <td>LIB193603</td>\n    </tr>\n    <tr>\n      <th>647</th>\n      <td>TAR_2</td>\n      <td>26.72</td>\n      <td>52.34</td>\n      <td>0.00</td>\n      <td>20.94</td>\n      <td>0.00</td>\n      <td>79.06</td>\n      <td>89.886861</td>\n      <td>8079.647825</td>\n      <td>81.293791</td>\n      <td>0.277392</td>\n      <td>cluster5</td>\n      <td>LSTM</td>\n      <td>8</td>\n      <td>LIB193603</td>\n    </tr>\n  </tbody>\n</table>\n<p>648 rows × 15 columns</p>\n</div>"
     },
     "execution_count": 12,
     "metadata": {},
     "output_type": "execute_result"
    }
   ],
   "source": [
    "df_clusters_metrics_worst = pd.merge(df_clusters_metrics, df_patients_worst, on=key_columns_cl, how='inner')\n",
    "df_clusters_metrics_worst"
   ],
   "metadata": {
    "collapsed": false,
    "ExecuteTime": {
     "end_time": "2024-10-23T08:12:55.608394Z",
     "start_time": "2024-10-23T08:12:55.585525Z"
    }
   },
   "id": "cdffb0bf6a14f4c7",
   "execution_count": 12
  },
  {
   "cell_type": "code",
   "outputs": [
    {
     "data": {
      "text/plain": "     Model      A      B     C       D     E  A + B       RMSE          MSE  \\\n0      ALL  42.52  52.30  0.14    4.98  0.05  94.82  45.982299  2114.371835   \n1    TBR_2   0.00   0.00  0.00  100.00  0.00   0.00  93.295463  8704.043338   \n2    TBR_1   0.00   0.00  0.00   98.27  1.73   0.00  76.873811  5909.582834   \n3      TIR  47.38  51.96  0.18    0.47  0.01  99.34  38.217256  1460.558679   \n4    TAR_1  31.07  64.09  0.00    4.84  0.00  95.16  57.997785  3363.743079   \n..     ...    ...    ...   ...     ...   ...    ...        ...          ...   \n643  TBR_2    NaN    NaN   NaN     NaN   NaN    NaN        NaN          NaN   \n644  TBR_1   0.00   0.00  0.00  100.00  0.00   0.00  73.752975  5439.501279   \n645    TIR  51.86  47.79  0.03    0.31  0.00  99.65  35.387779  1252.294916   \n646  TAR_1  61.17  36.21  0.00    2.62  0.00  97.38  45.730107  2091.242682   \n647  TAR_2  28.95  51.43  0.00   19.62  0.00  80.38  86.240192  7437.370742   \n\n           MAE      MAPE   cluster model  ph    patient class  \n0    37.557789  0.313181  cluster0   CNN  12  LIB193914  best  \n1    92.957884  1.802872  cluster0   CNN  12  LIB193914  best  \n2    75.086520  1.181391  cluster0   CNN  12  LIB193914  best  \n3    31.361263  0.297474  cluster0   CNN  12  LIB193914  best  \n4    52.595863  0.249798  cluster0   CNN  12  LIB193914  best  \n..         ...       ...       ...   ...  ..        ...   ...  \n643        NaN       NaN  cluster5  LSTM   8  LIB193368  best  \n644  71.518752  1.093691  cluster5  LSTM   8  LIB193368  best  \n645  28.983607  0.253830  cluster5  LSTM   8  LIB193368  best  \n646  36.836102  0.172936  cluster5  LSTM   8  LIB193368  best  \n647  77.632023  0.267865  cluster5  LSTM   8  LIB193368  best  \n\n[648 rows x 16 columns]",
      "text/html": "<div>\n<style scoped>\n    .dataframe tbody tr th:only-of-type {\n        vertical-align: middle;\n    }\n\n    .dataframe tbody tr th {\n        vertical-align: top;\n    }\n\n    .dataframe thead th {\n        text-align: right;\n    }\n</style>\n<table border=\"1\" class=\"dataframe\">\n  <thead>\n    <tr style=\"text-align: right;\">\n      <th></th>\n      <th>Model</th>\n      <th>A</th>\n      <th>B</th>\n      <th>C</th>\n      <th>D</th>\n      <th>E</th>\n      <th>A + B</th>\n      <th>RMSE</th>\n      <th>MSE</th>\n      <th>MAE</th>\n      <th>MAPE</th>\n      <th>cluster</th>\n      <th>model</th>\n      <th>ph</th>\n      <th>patient</th>\n      <th>class</th>\n    </tr>\n  </thead>\n  <tbody>\n    <tr>\n      <th>0</th>\n      <td>ALL</td>\n      <td>42.52</td>\n      <td>52.30</td>\n      <td>0.14</td>\n      <td>4.98</td>\n      <td>0.05</td>\n      <td>94.82</td>\n      <td>45.982299</td>\n      <td>2114.371835</td>\n      <td>37.557789</td>\n      <td>0.313181</td>\n      <td>cluster0</td>\n      <td>CNN</td>\n      <td>12</td>\n      <td>LIB193914</td>\n      <td>best</td>\n    </tr>\n    <tr>\n      <th>1</th>\n      <td>TBR_2</td>\n      <td>0.00</td>\n      <td>0.00</td>\n      <td>0.00</td>\n      <td>100.00</td>\n      <td>0.00</td>\n      <td>0.00</td>\n      <td>93.295463</td>\n      <td>8704.043338</td>\n      <td>92.957884</td>\n      <td>1.802872</td>\n      <td>cluster0</td>\n      <td>CNN</td>\n      <td>12</td>\n      <td>LIB193914</td>\n      <td>best</td>\n    </tr>\n    <tr>\n      <th>2</th>\n      <td>TBR_1</td>\n      <td>0.00</td>\n      <td>0.00</td>\n      <td>0.00</td>\n      <td>98.27</td>\n      <td>1.73</td>\n      <td>0.00</td>\n      <td>76.873811</td>\n      <td>5909.582834</td>\n      <td>75.086520</td>\n      <td>1.181391</td>\n      <td>cluster0</td>\n      <td>CNN</td>\n      <td>12</td>\n      <td>LIB193914</td>\n      <td>best</td>\n    </tr>\n    <tr>\n      <th>3</th>\n      <td>TIR</td>\n      <td>47.38</td>\n      <td>51.96</td>\n      <td>0.18</td>\n      <td>0.47</td>\n      <td>0.01</td>\n      <td>99.34</td>\n      <td>38.217256</td>\n      <td>1460.558679</td>\n      <td>31.361263</td>\n      <td>0.297474</td>\n      <td>cluster0</td>\n      <td>CNN</td>\n      <td>12</td>\n      <td>LIB193914</td>\n      <td>best</td>\n    </tr>\n    <tr>\n      <th>4</th>\n      <td>TAR_1</td>\n      <td>31.07</td>\n      <td>64.09</td>\n      <td>0.00</td>\n      <td>4.84</td>\n      <td>0.00</td>\n      <td>95.16</td>\n      <td>57.997785</td>\n      <td>3363.743079</td>\n      <td>52.595863</td>\n      <td>0.249798</td>\n      <td>cluster0</td>\n      <td>CNN</td>\n      <td>12</td>\n      <td>LIB193914</td>\n      <td>best</td>\n    </tr>\n    <tr>\n      <th>...</th>\n      <td>...</td>\n      <td>...</td>\n      <td>...</td>\n      <td>...</td>\n      <td>...</td>\n      <td>...</td>\n      <td>...</td>\n      <td>...</td>\n      <td>...</td>\n      <td>...</td>\n      <td>...</td>\n      <td>...</td>\n      <td>...</td>\n      <td>...</td>\n      <td>...</td>\n      <td>...</td>\n    </tr>\n    <tr>\n      <th>643</th>\n      <td>TBR_2</td>\n      <td>NaN</td>\n      <td>NaN</td>\n      <td>NaN</td>\n      <td>NaN</td>\n      <td>NaN</td>\n      <td>NaN</td>\n      <td>NaN</td>\n      <td>NaN</td>\n      <td>NaN</td>\n      <td>NaN</td>\n      <td>cluster5</td>\n      <td>LSTM</td>\n      <td>8</td>\n      <td>LIB193368</td>\n      <td>best</td>\n    </tr>\n    <tr>\n      <th>644</th>\n      <td>TBR_1</td>\n      <td>0.00</td>\n      <td>0.00</td>\n      <td>0.00</td>\n      <td>100.00</td>\n      <td>0.00</td>\n      <td>0.00</td>\n      <td>73.752975</td>\n      <td>5439.501279</td>\n      <td>71.518752</td>\n      <td>1.093691</td>\n      <td>cluster5</td>\n      <td>LSTM</td>\n      <td>8</td>\n      <td>LIB193368</td>\n      <td>best</td>\n    </tr>\n    <tr>\n      <th>645</th>\n      <td>TIR</td>\n      <td>51.86</td>\n      <td>47.79</td>\n      <td>0.03</td>\n      <td>0.31</td>\n      <td>0.00</td>\n      <td>99.65</td>\n      <td>35.387779</td>\n      <td>1252.294916</td>\n      <td>28.983607</td>\n      <td>0.253830</td>\n      <td>cluster5</td>\n      <td>LSTM</td>\n      <td>8</td>\n      <td>LIB193368</td>\n      <td>best</td>\n    </tr>\n    <tr>\n      <th>646</th>\n      <td>TAR_1</td>\n      <td>61.17</td>\n      <td>36.21</td>\n      <td>0.00</td>\n      <td>2.62</td>\n      <td>0.00</td>\n      <td>97.38</td>\n      <td>45.730107</td>\n      <td>2091.242682</td>\n      <td>36.836102</td>\n      <td>0.172936</td>\n      <td>cluster5</td>\n      <td>LSTM</td>\n      <td>8</td>\n      <td>LIB193368</td>\n      <td>best</td>\n    </tr>\n    <tr>\n      <th>647</th>\n      <td>TAR_2</td>\n      <td>28.95</td>\n      <td>51.43</td>\n      <td>0.00</td>\n      <td>19.62</td>\n      <td>0.00</td>\n      <td>80.38</td>\n      <td>86.240192</td>\n      <td>7437.370742</td>\n      <td>77.632023</td>\n      <td>0.267865</td>\n      <td>cluster5</td>\n      <td>LSTM</td>\n      <td>8</td>\n      <td>LIB193368</td>\n      <td>best</td>\n    </tr>\n  </tbody>\n</table>\n<p>648 rows × 16 columns</p>\n</div>"
     },
     "execution_count": 14,
     "metadata": {},
     "output_type": "execute_result"
    }
   ],
   "source": [
    "df_clusters_metrics_best['class'] = 'best'\n",
    "df_clusters_metrics_best"
   ],
   "metadata": {
    "collapsed": false,
    "ExecuteTime": {
     "end_time": "2024-10-23T08:12:59.795968Z",
     "start_time": "2024-10-23T08:12:59.781319Z"
    }
   },
   "id": "53b2584f93ed2667",
   "execution_count": 14
  },
  {
   "cell_type": "code",
   "outputs": [
    {
     "data": {
      "text/plain": "     Model      A      B     C       D     E  A + B       RMSE          MSE  \\\n0      ALL  34.41  39.30  0.05   25.91  0.33  73.71  54.570289  2977.916411   \n1    TBR_2   0.00   0.00  0.00   98.84  1.16   0.00  84.180508  7086.357874   \n2    TBR_1   0.00   0.00  0.00   98.45  1.55   0.00  76.243326  5813.044720   \n3      TIR  46.56  52.15  0.08    1.21  0.00  98.71  38.130889  1453.964667   \n4    TAR_1  45.29  50.71  0.00    4.00  0.00  96.00  51.172098  2618.583618   \n..     ...    ...    ...   ...     ...   ...    ...        ...          ...   \n643  TBR_2   0.00   0.00  0.00  100.00  0.00   0.00  61.192477  3744.519194   \n644  TBR_1   0.00   0.00  0.00   99.02  0.98   0.00  55.851747  3119.417641   \n645    TIR  44.74  52.44  1.12    1.70  0.00  97.18  38.228065  1461.384947   \n646  TAR_1  50.10  44.91  0.00    4.99  0.00  95.01  54.892220  3013.155861   \n647  TAR_2  26.72  52.34  0.00   20.94  0.00  79.06  89.886861  8079.647825   \n\n           MAE      MAPE   cluster model  ph    patient  class  \n0    45.830027  0.563267  cluster0   CNN  12  LIB193526  worst  \n1    82.863724  1.680084  cluster0   CNN  12  LIB193526  worst  \n2    74.741939  1.240629  cluster0   CNN  12  LIB193526  worst  \n3    31.381175  0.315329  cluster0   CNN  12  LIB193526  worst  \n4    45.091294  0.215140  cluster0   CNN  12  LIB193526  worst  \n..         ...       ...       ...   ...  ..        ...    ...  \n643  59.317990  1.123273  cluster5  LSTM   8  LIB193603  worst  \n644  52.917345  0.869843  cluster5  LSTM   8  LIB193603  worst  \n645  30.459248  0.299835  cluster5  LSTM   8  LIB193603  worst  \n646  45.752520  0.214592  cluster5  LSTM   8  LIB193603  worst  \n647  81.293791  0.277392  cluster5  LSTM   8  LIB193603  worst  \n\n[648 rows x 16 columns]",
      "text/html": "<div>\n<style scoped>\n    .dataframe tbody tr th:only-of-type {\n        vertical-align: middle;\n    }\n\n    .dataframe tbody tr th {\n        vertical-align: top;\n    }\n\n    .dataframe thead th {\n        text-align: right;\n    }\n</style>\n<table border=\"1\" class=\"dataframe\">\n  <thead>\n    <tr style=\"text-align: right;\">\n      <th></th>\n      <th>Model</th>\n      <th>A</th>\n      <th>B</th>\n      <th>C</th>\n      <th>D</th>\n      <th>E</th>\n      <th>A + B</th>\n      <th>RMSE</th>\n      <th>MSE</th>\n      <th>MAE</th>\n      <th>MAPE</th>\n      <th>cluster</th>\n      <th>model</th>\n      <th>ph</th>\n      <th>patient</th>\n      <th>class</th>\n    </tr>\n  </thead>\n  <tbody>\n    <tr>\n      <th>0</th>\n      <td>ALL</td>\n      <td>34.41</td>\n      <td>39.30</td>\n      <td>0.05</td>\n      <td>25.91</td>\n      <td>0.33</td>\n      <td>73.71</td>\n      <td>54.570289</td>\n      <td>2977.916411</td>\n      <td>45.830027</td>\n      <td>0.563267</td>\n      <td>cluster0</td>\n      <td>CNN</td>\n      <td>12</td>\n      <td>LIB193526</td>\n      <td>worst</td>\n    </tr>\n    <tr>\n      <th>1</th>\n      <td>TBR_2</td>\n      <td>0.00</td>\n      <td>0.00</td>\n      <td>0.00</td>\n      <td>98.84</td>\n      <td>1.16</td>\n      <td>0.00</td>\n      <td>84.180508</td>\n      <td>7086.357874</td>\n      <td>82.863724</td>\n      <td>1.680084</td>\n      <td>cluster0</td>\n      <td>CNN</td>\n      <td>12</td>\n      <td>LIB193526</td>\n      <td>worst</td>\n    </tr>\n    <tr>\n      <th>2</th>\n      <td>TBR_1</td>\n      <td>0.00</td>\n      <td>0.00</td>\n      <td>0.00</td>\n      <td>98.45</td>\n      <td>1.55</td>\n      <td>0.00</td>\n      <td>76.243326</td>\n      <td>5813.044720</td>\n      <td>74.741939</td>\n      <td>1.240629</td>\n      <td>cluster0</td>\n      <td>CNN</td>\n      <td>12</td>\n      <td>LIB193526</td>\n      <td>worst</td>\n    </tr>\n    <tr>\n      <th>3</th>\n      <td>TIR</td>\n      <td>46.56</td>\n      <td>52.15</td>\n      <td>0.08</td>\n      <td>1.21</td>\n      <td>0.00</td>\n      <td>98.71</td>\n      <td>38.130889</td>\n      <td>1453.964667</td>\n      <td>31.381175</td>\n      <td>0.315329</td>\n      <td>cluster0</td>\n      <td>CNN</td>\n      <td>12</td>\n      <td>LIB193526</td>\n      <td>worst</td>\n    </tr>\n    <tr>\n      <th>4</th>\n      <td>TAR_1</td>\n      <td>45.29</td>\n      <td>50.71</td>\n      <td>0.00</td>\n      <td>4.00</td>\n      <td>0.00</td>\n      <td>96.00</td>\n      <td>51.172098</td>\n      <td>2618.583618</td>\n      <td>45.091294</td>\n      <td>0.215140</td>\n      <td>cluster0</td>\n      <td>CNN</td>\n      <td>12</td>\n      <td>LIB193526</td>\n      <td>worst</td>\n    </tr>\n    <tr>\n      <th>...</th>\n      <td>...</td>\n      <td>...</td>\n      <td>...</td>\n      <td>...</td>\n      <td>...</td>\n      <td>...</td>\n      <td>...</td>\n      <td>...</td>\n      <td>...</td>\n      <td>...</td>\n      <td>...</td>\n      <td>...</td>\n      <td>...</td>\n      <td>...</td>\n      <td>...</td>\n      <td>...</td>\n    </tr>\n    <tr>\n      <th>643</th>\n      <td>TBR_2</td>\n      <td>0.00</td>\n      <td>0.00</td>\n      <td>0.00</td>\n      <td>100.00</td>\n      <td>0.00</td>\n      <td>0.00</td>\n      <td>61.192477</td>\n      <td>3744.519194</td>\n      <td>59.317990</td>\n      <td>1.123273</td>\n      <td>cluster5</td>\n      <td>LSTM</td>\n      <td>8</td>\n      <td>LIB193603</td>\n      <td>worst</td>\n    </tr>\n    <tr>\n      <th>644</th>\n      <td>TBR_1</td>\n      <td>0.00</td>\n      <td>0.00</td>\n      <td>0.00</td>\n      <td>99.02</td>\n      <td>0.98</td>\n      <td>0.00</td>\n      <td>55.851747</td>\n      <td>3119.417641</td>\n      <td>52.917345</td>\n      <td>0.869843</td>\n      <td>cluster5</td>\n      <td>LSTM</td>\n      <td>8</td>\n      <td>LIB193603</td>\n      <td>worst</td>\n    </tr>\n    <tr>\n      <th>645</th>\n      <td>TIR</td>\n      <td>44.74</td>\n      <td>52.44</td>\n      <td>1.12</td>\n      <td>1.70</td>\n      <td>0.00</td>\n      <td>97.18</td>\n      <td>38.228065</td>\n      <td>1461.384947</td>\n      <td>30.459248</td>\n      <td>0.299835</td>\n      <td>cluster5</td>\n      <td>LSTM</td>\n      <td>8</td>\n      <td>LIB193603</td>\n      <td>worst</td>\n    </tr>\n    <tr>\n      <th>646</th>\n      <td>TAR_1</td>\n      <td>50.10</td>\n      <td>44.91</td>\n      <td>0.00</td>\n      <td>4.99</td>\n      <td>0.00</td>\n      <td>95.01</td>\n      <td>54.892220</td>\n      <td>3013.155861</td>\n      <td>45.752520</td>\n      <td>0.214592</td>\n      <td>cluster5</td>\n      <td>LSTM</td>\n      <td>8</td>\n      <td>LIB193603</td>\n      <td>worst</td>\n    </tr>\n    <tr>\n      <th>647</th>\n      <td>TAR_2</td>\n      <td>26.72</td>\n      <td>52.34</td>\n      <td>0.00</td>\n      <td>20.94</td>\n      <td>0.00</td>\n      <td>79.06</td>\n      <td>89.886861</td>\n      <td>8079.647825</td>\n      <td>81.293791</td>\n      <td>0.277392</td>\n      <td>cluster5</td>\n      <td>LSTM</td>\n      <td>8</td>\n      <td>LIB193603</td>\n      <td>worst</td>\n    </tr>\n  </tbody>\n</table>\n<p>648 rows × 16 columns</p>\n</div>"
     },
     "execution_count": 16,
     "metadata": {},
     "output_type": "execute_result"
    }
   ],
   "source": [
    "df_clusters_metrics_worst['class'] = 'worst'\n",
    "df_clusters_metrics_worst"
   ],
   "metadata": {
    "collapsed": false
   },
   "id": "d06e2e6217a387e5",
   "execution_count": 16
  },
  {
   "cell_type": "code",
   "outputs": [
    {
     "data": {
      "text/plain": "      Model      A      B     C       D     E  A + B       RMSE          MSE  \\\n0       ALL  42.52  52.30  0.14    4.98  0.05  94.82  45.982299  2114.371835   \n1     TBR_2   0.00   0.00  0.00  100.00  0.00   0.00  93.295463  8704.043338   \n2     TBR_1   0.00   0.00  0.00   98.27  1.73   0.00  76.873811  5909.582834   \n3       TIR  47.38  51.96  0.18    0.47  0.01  99.34  38.217256  1460.558679   \n4     TAR_1  31.07  64.09  0.00    4.84  0.00  95.16  57.997785  3363.743079   \n...     ...    ...    ...   ...     ...   ...    ...        ...          ...   \n1291  TBR_2   0.00   0.00  0.00  100.00  0.00   0.00  61.192477  3744.519194   \n1292  TBR_1   0.00   0.00  0.00   99.02  0.98   0.00  55.851747  3119.417641   \n1293    TIR  44.74  52.44  1.12    1.70  0.00  97.18  38.228065  1461.384947   \n1294  TAR_1  50.10  44.91  0.00    4.99  0.00  95.01  54.892220  3013.155861   \n1295  TAR_2  26.72  52.34  0.00   20.94  0.00  79.06  89.886861  8079.647825   \n\n            MAE      MAPE   cluster model  ph    patient  class  \n0     37.557789  0.313181  cluster0   CNN  12  LIB193914   best  \n1     92.957884  1.802872  cluster0   CNN  12  LIB193914   best  \n2     75.086520  1.181391  cluster0   CNN  12  LIB193914   best  \n3     31.361263  0.297474  cluster0   CNN  12  LIB193914   best  \n4     52.595863  0.249798  cluster0   CNN  12  LIB193914   best  \n...         ...       ...       ...   ...  ..        ...    ...  \n1291  59.317990  1.123273  cluster5  LSTM   8  LIB193603  worst  \n1292  52.917345  0.869843  cluster5  LSTM   8  LIB193603  worst  \n1293  30.459248  0.299835  cluster5  LSTM   8  LIB193603  worst  \n1294  45.752520  0.214592  cluster5  LSTM   8  LIB193603  worst  \n1295  81.293791  0.277392  cluster5  LSTM   8  LIB193603  worst  \n\n[1296 rows x 16 columns]",
      "text/html": "<div>\n<style scoped>\n    .dataframe tbody tr th:only-of-type {\n        vertical-align: middle;\n    }\n\n    .dataframe tbody tr th {\n        vertical-align: top;\n    }\n\n    .dataframe thead th {\n        text-align: right;\n    }\n</style>\n<table border=\"1\" class=\"dataframe\">\n  <thead>\n    <tr style=\"text-align: right;\">\n      <th></th>\n      <th>Model</th>\n      <th>A</th>\n      <th>B</th>\n      <th>C</th>\n      <th>D</th>\n      <th>E</th>\n      <th>A + B</th>\n      <th>RMSE</th>\n      <th>MSE</th>\n      <th>MAE</th>\n      <th>MAPE</th>\n      <th>cluster</th>\n      <th>model</th>\n      <th>ph</th>\n      <th>patient</th>\n      <th>class</th>\n    </tr>\n  </thead>\n  <tbody>\n    <tr>\n      <th>0</th>\n      <td>ALL</td>\n      <td>42.52</td>\n      <td>52.30</td>\n      <td>0.14</td>\n      <td>4.98</td>\n      <td>0.05</td>\n      <td>94.82</td>\n      <td>45.982299</td>\n      <td>2114.371835</td>\n      <td>37.557789</td>\n      <td>0.313181</td>\n      <td>cluster0</td>\n      <td>CNN</td>\n      <td>12</td>\n      <td>LIB193914</td>\n      <td>best</td>\n    </tr>\n    <tr>\n      <th>1</th>\n      <td>TBR_2</td>\n      <td>0.00</td>\n      <td>0.00</td>\n      <td>0.00</td>\n      <td>100.00</td>\n      <td>0.00</td>\n      <td>0.00</td>\n      <td>93.295463</td>\n      <td>8704.043338</td>\n      <td>92.957884</td>\n      <td>1.802872</td>\n      <td>cluster0</td>\n      <td>CNN</td>\n      <td>12</td>\n      <td>LIB193914</td>\n      <td>best</td>\n    </tr>\n    <tr>\n      <th>2</th>\n      <td>TBR_1</td>\n      <td>0.00</td>\n      <td>0.00</td>\n      <td>0.00</td>\n      <td>98.27</td>\n      <td>1.73</td>\n      <td>0.00</td>\n      <td>76.873811</td>\n      <td>5909.582834</td>\n      <td>75.086520</td>\n      <td>1.181391</td>\n      <td>cluster0</td>\n      <td>CNN</td>\n      <td>12</td>\n      <td>LIB193914</td>\n      <td>best</td>\n    </tr>\n    <tr>\n      <th>3</th>\n      <td>TIR</td>\n      <td>47.38</td>\n      <td>51.96</td>\n      <td>0.18</td>\n      <td>0.47</td>\n      <td>0.01</td>\n      <td>99.34</td>\n      <td>38.217256</td>\n      <td>1460.558679</td>\n      <td>31.361263</td>\n      <td>0.297474</td>\n      <td>cluster0</td>\n      <td>CNN</td>\n      <td>12</td>\n      <td>LIB193914</td>\n      <td>best</td>\n    </tr>\n    <tr>\n      <th>4</th>\n      <td>TAR_1</td>\n      <td>31.07</td>\n      <td>64.09</td>\n      <td>0.00</td>\n      <td>4.84</td>\n      <td>0.00</td>\n      <td>95.16</td>\n      <td>57.997785</td>\n      <td>3363.743079</td>\n      <td>52.595863</td>\n      <td>0.249798</td>\n      <td>cluster0</td>\n      <td>CNN</td>\n      <td>12</td>\n      <td>LIB193914</td>\n      <td>best</td>\n    </tr>\n    <tr>\n      <th>...</th>\n      <td>...</td>\n      <td>...</td>\n      <td>...</td>\n      <td>...</td>\n      <td>...</td>\n      <td>...</td>\n      <td>...</td>\n      <td>...</td>\n      <td>...</td>\n      <td>...</td>\n      <td>...</td>\n      <td>...</td>\n      <td>...</td>\n      <td>...</td>\n      <td>...</td>\n      <td>...</td>\n    </tr>\n    <tr>\n      <th>1291</th>\n      <td>TBR_2</td>\n      <td>0.00</td>\n      <td>0.00</td>\n      <td>0.00</td>\n      <td>100.00</td>\n      <td>0.00</td>\n      <td>0.00</td>\n      <td>61.192477</td>\n      <td>3744.519194</td>\n      <td>59.317990</td>\n      <td>1.123273</td>\n      <td>cluster5</td>\n      <td>LSTM</td>\n      <td>8</td>\n      <td>LIB193603</td>\n      <td>worst</td>\n    </tr>\n    <tr>\n      <th>1292</th>\n      <td>TBR_1</td>\n      <td>0.00</td>\n      <td>0.00</td>\n      <td>0.00</td>\n      <td>99.02</td>\n      <td>0.98</td>\n      <td>0.00</td>\n      <td>55.851747</td>\n      <td>3119.417641</td>\n      <td>52.917345</td>\n      <td>0.869843</td>\n      <td>cluster5</td>\n      <td>LSTM</td>\n      <td>8</td>\n      <td>LIB193603</td>\n      <td>worst</td>\n    </tr>\n    <tr>\n      <th>1293</th>\n      <td>TIR</td>\n      <td>44.74</td>\n      <td>52.44</td>\n      <td>1.12</td>\n      <td>1.70</td>\n      <td>0.00</td>\n      <td>97.18</td>\n      <td>38.228065</td>\n      <td>1461.384947</td>\n      <td>30.459248</td>\n      <td>0.299835</td>\n      <td>cluster5</td>\n      <td>LSTM</td>\n      <td>8</td>\n      <td>LIB193603</td>\n      <td>worst</td>\n    </tr>\n    <tr>\n      <th>1294</th>\n      <td>TAR_1</td>\n      <td>50.10</td>\n      <td>44.91</td>\n      <td>0.00</td>\n      <td>4.99</td>\n      <td>0.00</td>\n      <td>95.01</td>\n      <td>54.892220</td>\n      <td>3013.155861</td>\n      <td>45.752520</td>\n      <td>0.214592</td>\n      <td>cluster5</td>\n      <td>LSTM</td>\n      <td>8</td>\n      <td>LIB193603</td>\n      <td>worst</td>\n    </tr>\n    <tr>\n      <th>1295</th>\n      <td>TAR_2</td>\n      <td>26.72</td>\n      <td>52.34</td>\n      <td>0.00</td>\n      <td>20.94</td>\n      <td>0.00</td>\n      <td>79.06</td>\n      <td>89.886861</td>\n      <td>8079.647825</td>\n      <td>81.293791</td>\n      <td>0.277392</td>\n      <td>cluster5</td>\n      <td>LSTM</td>\n      <td>8</td>\n      <td>LIB193603</td>\n      <td>worst</td>\n    </tr>\n  </tbody>\n</table>\n<p>1296 rows × 16 columns</p>\n</div>"
     },
     "execution_count": 17,
     "metadata": {},
     "output_type": "execute_result"
    }
   ],
   "source": [
    "df_clusters_metrics_best_worst = pd.concat([df_clusters_metrics_best, df_clusters_metrics_worst], ignore_index=True)\n",
    "df_clusters_metrics_best_worst"
   ],
   "metadata": {
    "collapsed": false,
    "ExecuteTime": {
     "end_time": "2024-10-23T08:13:05.023625Z",
     "start_time": "2024-10-23T08:13:05.013865Z"
    }
   },
   "id": "f91d741e33ad769f",
   "execution_count": 17
  },
  {
   "cell_type": "markdown",
   "source": [
    "# Personalized metrics"
   ],
   "metadata": {
    "collapsed": false
   },
   "id": "b99208c2afd761e8"
  },
  {
   "cell_type": "code",
   "outputs": [
    {
     "data": {
      "text/plain": "      Model      A      B      C       D       E  A + B        RMSE  \\\n0       ALL  40.73  46.13   4.38    7.87    0.89  86.86   71.738554   \n1     TBR_2   0.00   0.00   0.00    0.00  100.00   0.00  152.978180   \n2     TBR_1   0.00   0.00   0.00   76.74   23.26   0.00  112.894489   \n3       TIR  29.45  59.57  10.65    0.00    0.33  89.02   67.432870   \n4     TAR_1  60.73  35.19   0.00    4.08    0.00  95.92   44.966089   \n...     ...    ...    ...    ...     ...     ...    ...         ...   \n2911  TBR_2    NaN    NaN    NaN     NaN     NaN    NaN         NaN   \n2912  TBR_1   0.00   0.00   0.00  100.00    0.00   0.00   76.054354   \n2913    TIR  61.77  38.16   0.00    0.07    0.00  99.93   28.228545   \n2914  TAR_1   0.00  94.20   0.00    5.80    0.00  94.20   67.831857   \n2915  TAR_2   0.00   0.00   0.00  100.00    0.00   0.00  118.606211   \n\n               MSE         MAE      MAPE  \\\n0      5146.420191   57.119942  0.382889   \n1     23402.323535  152.978180  2.886381   \n2     12745.165718  107.376643  1.761109   \n3      4547.192017   55.299300  0.515513   \n4      2021.949160   37.007320  0.170999   \n...            ...         ...       ...   \n2911           NaN         NaN       NaN   \n2912   5784.264837   76.005251  1.191618   \n2913    796.850742   23.506331  0.211382   \n2914   4601.160860   65.353358  0.313087   \n2915  14067.433250  118.494655  0.458184   \n\n                                           file_name  \n0     results_by_range_patient_LIB193326_CNN_H12.csv  \n1     results_by_range_patient_LIB193326_CNN_H12.csv  \n2     results_by_range_patient_LIB193326_CNN_H12.csv  \n3     results_by_range_patient_LIB193326_CNN_H12.csv  \n4     results_by_range_patient_LIB193326_CNN_H12.csv  \n...                                              ...  \n2911  results_by_range_patient_LIB194157_LSTM_H8.csv  \n2912  results_by_range_patient_LIB194157_LSTM_H8.csv  \n2913  results_by_range_patient_LIB194157_LSTM_H8.csv  \n2914  results_by_range_patient_LIB194157_LSTM_H8.csv  \n2915  results_by_range_patient_LIB194157_LSTM_H8.csv  \n\n[2916 rows x 12 columns]",
      "text/html": "<div>\n<style scoped>\n    .dataframe tbody tr th:only-of-type {\n        vertical-align: middle;\n    }\n\n    .dataframe tbody tr th {\n        vertical-align: top;\n    }\n\n    .dataframe thead th {\n        text-align: right;\n    }\n</style>\n<table border=\"1\" class=\"dataframe\">\n  <thead>\n    <tr style=\"text-align: right;\">\n      <th></th>\n      <th>Model</th>\n      <th>A</th>\n      <th>B</th>\n      <th>C</th>\n      <th>D</th>\n      <th>E</th>\n      <th>A + B</th>\n      <th>RMSE</th>\n      <th>MSE</th>\n      <th>MAE</th>\n      <th>MAPE</th>\n      <th>file_name</th>\n    </tr>\n  </thead>\n  <tbody>\n    <tr>\n      <th>0</th>\n      <td>ALL</td>\n      <td>40.73</td>\n      <td>46.13</td>\n      <td>4.38</td>\n      <td>7.87</td>\n      <td>0.89</td>\n      <td>86.86</td>\n      <td>71.738554</td>\n      <td>5146.420191</td>\n      <td>57.119942</td>\n      <td>0.382889</td>\n      <td>results_by_range_patient_LIB193326_CNN_H12.csv</td>\n    </tr>\n    <tr>\n      <th>1</th>\n      <td>TBR_2</td>\n      <td>0.00</td>\n      <td>0.00</td>\n      <td>0.00</td>\n      <td>0.00</td>\n      <td>100.00</td>\n      <td>0.00</td>\n      <td>152.978180</td>\n      <td>23402.323535</td>\n      <td>152.978180</td>\n      <td>2.886381</td>\n      <td>results_by_range_patient_LIB193326_CNN_H12.csv</td>\n    </tr>\n    <tr>\n      <th>2</th>\n      <td>TBR_1</td>\n      <td>0.00</td>\n      <td>0.00</td>\n      <td>0.00</td>\n      <td>76.74</td>\n      <td>23.26</td>\n      <td>0.00</td>\n      <td>112.894489</td>\n      <td>12745.165718</td>\n      <td>107.376643</td>\n      <td>1.761109</td>\n      <td>results_by_range_patient_LIB193326_CNN_H12.csv</td>\n    </tr>\n    <tr>\n      <th>3</th>\n      <td>TIR</td>\n      <td>29.45</td>\n      <td>59.57</td>\n      <td>10.65</td>\n      <td>0.00</td>\n      <td>0.33</td>\n      <td>89.02</td>\n      <td>67.432870</td>\n      <td>4547.192017</td>\n      <td>55.299300</td>\n      <td>0.515513</td>\n      <td>results_by_range_patient_LIB193326_CNN_H12.csv</td>\n    </tr>\n    <tr>\n      <th>4</th>\n      <td>TAR_1</td>\n      <td>60.73</td>\n      <td>35.19</td>\n      <td>0.00</td>\n      <td>4.08</td>\n      <td>0.00</td>\n      <td>95.92</td>\n      <td>44.966089</td>\n      <td>2021.949160</td>\n      <td>37.007320</td>\n      <td>0.170999</td>\n      <td>results_by_range_patient_LIB193326_CNN_H12.csv</td>\n    </tr>\n    <tr>\n      <th>...</th>\n      <td>...</td>\n      <td>...</td>\n      <td>...</td>\n      <td>...</td>\n      <td>...</td>\n      <td>...</td>\n      <td>...</td>\n      <td>...</td>\n      <td>...</td>\n      <td>...</td>\n      <td>...</td>\n      <td>...</td>\n    </tr>\n    <tr>\n      <th>2911</th>\n      <td>TBR_2</td>\n      <td>NaN</td>\n      <td>NaN</td>\n      <td>NaN</td>\n      <td>NaN</td>\n      <td>NaN</td>\n      <td>NaN</td>\n      <td>NaN</td>\n      <td>NaN</td>\n      <td>NaN</td>\n      <td>NaN</td>\n      <td>results_by_range_patient_LIB194157_LSTM_H8.csv</td>\n    </tr>\n    <tr>\n      <th>2912</th>\n      <td>TBR_1</td>\n      <td>0.00</td>\n      <td>0.00</td>\n      <td>0.00</td>\n      <td>100.00</td>\n      <td>0.00</td>\n      <td>0.00</td>\n      <td>76.054354</td>\n      <td>5784.264837</td>\n      <td>76.005251</td>\n      <td>1.191618</td>\n      <td>results_by_range_patient_LIB194157_LSTM_H8.csv</td>\n    </tr>\n    <tr>\n      <th>2913</th>\n      <td>TIR</td>\n      <td>61.77</td>\n      <td>38.16</td>\n      <td>0.00</td>\n      <td>0.07</td>\n      <td>0.00</td>\n      <td>99.93</td>\n      <td>28.228545</td>\n      <td>796.850742</td>\n      <td>23.506331</td>\n      <td>0.211382</td>\n      <td>results_by_range_patient_LIB194157_LSTM_H8.csv</td>\n    </tr>\n    <tr>\n      <th>2914</th>\n      <td>TAR_1</td>\n      <td>0.00</td>\n      <td>94.20</td>\n      <td>0.00</td>\n      <td>5.80</td>\n      <td>0.00</td>\n      <td>94.20</td>\n      <td>67.831857</td>\n      <td>4601.160860</td>\n      <td>65.353358</td>\n      <td>0.313087</td>\n      <td>results_by_range_patient_LIB194157_LSTM_H8.csv</td>\n    </tr>\n    <tr>\n      <th>2915</th>\n      <td>TAR_2</td>\n      <td>0.00</td>\n      <td>0.00</td>\n      <td>0.00</td>\n      <td>100.00</td>\n      <td>0.00</td>\n      <td>0.00</td>\n      <td>118.606211</td>\n      <td>14067.433250</td>\n      <td>118.494655</td>\n      <td>0.458184</td>\n      <td>results_by_range_patient_LIB194157_LSTM_H8.csv</td>\n    </tr>\n  </tbody>\n</table>\n<p>2916 rows × 12 columns</p>\n</div>"
     },
     "execution_count": 18,
     "metadata": {},
     "output_type": "execute_result"
    }
   ],
   "source": [
    "df_personalized_metrics = merge_csv_files('Personalized_models_results/test_results_personalized_FULL')\n",
    "df_personalized_metrics"
   ],
   "metadata": {
    "collapsed": false,
    "ExecuteTime": {
     "end_time": "2024-10-23T08:13:09.003014Z",
     "start_time": "2024-10-23T08:13:08.473902Z"
    }
   },
   "id": "8007616ea052c7ea",
   "execution_count": 18
  },
  {
   "cell_type": "code",
   "outputs": [
    {
     "data": {
      "text/plain": "      Model      A      B      C       D       E  A + B        RMSE  \\\n0       ALL  40.73  46.13   4.38    7.87    0.89  86.86   71.738554   \n1     TBR_2   0.00   0.00   0.00    0.00  100.00   0.00  152.978180   \n2     TBR_1   0.00   0.00   0.00   76.74   23.26   0.00  112.894489   \n3       TIR  29.45  59.57  10.65    0.00    0.33  89.02   67.432870   \n4     TAR_1  60.73  35.19   0.00    4.08    0.00  95.92   44.966089   \n...     ...    ...    ...    ...     ...     ...    ...         ...   \n2911  TBR_2    NaN    NaN    NaN     NaN     NaN    NaN         NaN   \n2912  TBR_1   0.00   0.00   0.00  100.00    0.00   0.00   76.054354   \n2913    TIR  61.77  38.16   0.00    0.07    0.00  99.93   28.228545   \n2914  TAR_1   0.00  94.20   0.00    5.80    0.00  94.20   67.831857   \n2915  TAR_2   0.00   0.00   0.00  100.00    0.00   0.00  118.606211   \n\n               MSE         MAE      MAPE  \\\n0      5146.420191   57.119942  0.382889   \n1     23402.323535  152.978180  2.886381   \n2     12745.165718  107.376643  1.761109   \n3      4547.192017   55.299300  0.515513   \n4      2021.949160   37.007320  0.170999   \n...            ...         ...       ...   \n2911           NaN         NaN       NaN   \n2912   5784.264837   76.005251  1.191618   \n2913    796.850742   23.506331  0.211382   \n2914   4601.160860   65.353358  0.313087   \n2915  14067.433250  118.494655  0.458184   \n\n                                           file_name    patient model  ph  \n0     results_by_range_patient_LIB193326_CNN_H12.csv  LIB193326   CNN  12  \n1     results_by_range_patient_LIB193326_CNN_H12.csv  LIB193326   CNN  12  \n2     results_by_range_patient_LIB193326_CNN_H12.csv  LIB193326   CNN  12  \n3     results_by_range_patient_LIB193326_CNN_H12.csv  LIB193326   CNN  12  \n4     results_by_range_patient_LIB193326_CNN_H12.csv  LIB193326   CNN  12  \n...                                              ...        ...   ...  ..  \n2911  results_by_range_patient_LIB194157_LSTM_H8.csv  LIB194157  LSTM   8  \n2912  results_by_range_patient_LIB194157_LSTM_H8.csv  LIB194157  LSTM   8  \n2913  results_by_range_patient_LIB194157_LSTM_H8.csv  LIB194157  LSTM   8  \n2914  results_by_range_patient_LIB194157_LSTM_H8.csv  LIB194157  LSTM   8  \n2915  results_by_range_patient_LIB194157_LSTM_H8.csv  LIB194157  LSTM   8  \n\n[2916 rows x 15 columns]",
      "text/html": "<div>\n<style scoped>\n    .dataframe tbody tr th:only-of-type {\n        vertical-align: middle;\n    }\n\n    .dataframe tbody tr th {\n        vertical-align: top;\n    }\n\n    .dataframe thead th {\n        text-align: right;\n    }\n</style>\n<table border=\"1\" class=\"dataframe\">\n  <thead>\n    <tr style=\"text-align: right;\">\n      <th></th>\n      <th>Model</th>\n      <th>A</th>\n      <th>B</th>\n      <th>C</th>\n      <th>D</th>\n      <th>E</th>\n      <th>A + B</th>\n      <th>RMSE</th>\n      <th>MSE</th>\n      <th>MAE</th>\n      <th>MAPE</th>\n      <th>file_name</th>\n      <th>patient</th>\n      <th>model</th>\n      <th>ph</th>\n    </tr>\n  </thead>\n  <tbody>\n    <tr>\n      <th>0</th>\n      <td>ALL</td>\n      <td>40.73</td>\n      <td>46.13</td>\n      <td>4.38</td>\n      <td>7.87</td>\n      <td>0.89</td>\n      <td>86.86</td>\n      <td>71.738554</td>\n      <td>5146.420191</td>\n      <td>57.119942</td>\n      <td>0.382889</td>\n      <td>results_by_range_patient_LIB193326_CNN_H12.csv</td>\n      <td>LIB193326</td>\n      <td>CNN</td>\n      <td>12</td>\n    </tr>\n    <tr>\n      <th>1</th>\n      <td>TBR_2</td>\n      <td>0.00</td>\n      <td>0.00</td>\n      <td>0.00</td>\n      <td>0.00</td>\n      <td>100.00</td>\n      <td>0.00</td>\n      <td>152.978180</td>\n      <td>23402.323535</td>\n      <td>152.978180</td>\n      <td>2.886381</td>\n      <td>results_by_range_patient_LIB193326_CNN_H12.csv</td>\n      <td>LIB193326</td>\n      <td>CNN</td>\n      <td>12</td>\n    </tr>\n    <tr>\n      <th>2</th>\n      <td>TBR_1</td>\n      <td>0.00</td>\n      <td>0.00</td>\n      <td>0.00</td>\n      <td>76.74</td>\n      <td>23.26</td>\n      <td>0.00</td>\n      <td>112.894489</td>\n      <td>12745.165718</td>\n      <td>107.376643</td>\n      <td>1.761109</td>\n      <td>results_by_range_patient_LIB193326_CNN_H12.csv</td>\n      <td>LIB193326</td>\n      <td>CNN</td>\n      <td>12</td>\n    </tr>\n    <tr>\n      <th>3</th>\n      <td>TIR</td>\n      <td>29.45</td>\n      <td>59.57</td>\n      <td>10.65</td>\n      <td>0.00</td>\n      <td>0.33</td>\n      <td>89.02</td>\n      <td>67.432870</td>\n      <td>4547.192017</td>\n      <td>55.299300</td>\n      <td>0.515513</td>\n      <td>results_by_range_patient_LIB193326_CNN_H12.csv</td>\n      <td>LIB193326</td>\n      <td>CNN</td>\n      <td>12</td>\n    </tr>\n    <tr>\n      <th>4</th>\n      <td>TAR_1</td>\n      <td>60.73</td>\n      <td>35.19</td>\n      <td>0.00</td>\n      <td>4.08</td>\n      <td>0.00</td>\n      <td>95.92</td>\n      <td>44.966089</td>\n      <td>2021.949160</td>\n      <td>37.007320</td>\n      <td>0.170999</td>\n      <td>results_by_range_patient_LIB193326_CNN_H12.csv</td>\n      <td>LIB193326</td>\n      <td>CNN</td>\n      <td>12</td>\n    </tr>\n    <tr>\n      <th>...</th>\n      <td>...</td>\n      <td>...</td>\n      <td>...</td>\n      <td>...</td>\n      <td>...</td>\n      <td>...</td>\n      <td>...</td>\n      <td>...</td>\n      <td>...</td>\n      <td>...</td>\n      <td>...</td>\n      <td>...</td>\n      <td>...</td>\n      <td>...</td>\n      <td>...</td>\n    </tr>\n    <tr>\n      <th>2911</th>\n      <td>TBR_2</td>\n      <td>NaN</td>\n      <td>NaN</td>\n      <td>NaN</td>\n      <td>NaN</td>\n      <td>NaN</td>\n      <td>NaN</td>\n      <td>NaN</td>\n      <td>NaN</td>\n      <td>NaN</td>\n      <td>NaN</td>\n      <td>results_by_range_patient_LIB194157_LSTM_H8.csv</td>\n      <td>LIB194157</td>\n      <td>LSTM</td>\n      <td>8</td>\n    </tr>\n    <tr>\n      <th>2912</th>\n      <td>TBR_1</td>\n      <td>0.00</td>\n      <td>0.00</td>\n      <td>0.00</td>\n      <td>100.00</td>\n      <td>0.00</td>\n      <td>0.00</td>\n      <td>76.054354</td>\n      <td>5784.264837</td>\n      <td>76.005251</td>\n      <td>1.191618</td>\n      <td>results_by_range_patient_LIB194157_LSTM_H8.csv</td>\n      <td>LIB194157</td>\n      <td>LSTM</td>\n      <td>8</td>\n    </tr>\n    <tr>\n      <th>2913</th>\n      <td>TIR</td>\n      <td>61.77</td>\n      <td>38.16</td>\n      <td>0.00</td>\n      <td>0.07</td>\n      <td>0.00</td>\n      <td>99.93</td>\n      <td>28.228545</td>\n      <td>796.850742</td>\n      <td>23.506331</td>\n      <td>0.211382</td>\n      <td>results_by_range_patient_LIB194157_LSTM_H8.csv</td>\n      <td>LIB194157</td>\n      <td>LSTM</td>\n      <td>8</td>\n    </tr>\n    <tr>\n      <th>2914</th>\n      <td>TAR_1</td>\n      <td>0.00</td>\n      <td>94.20</td>\n      <td>0.00</td>\n      <td>5.80</td>\n      <td>0.00</td>\n      <td>94.20</td>\n      <td>67.831857</td>\n      <td>4601.160860</td>\n      <td>65.353358</td>\n      <td>0.313087</td>\n      <td>results_by_range_patient_LIB194157_LSTM_H8.csv</td>\n      <td>LIB194157</td>\n      <td>LSTM</td>\n      <td>8</td>\n    </tr>\n    <tr>\n      <th>2915</th>\n      <td>TAR_2</td>\n      <td>0.00</td>\n      <td>0.00</td>\n      <td>0.00</td>\n      <td>100.00</td>\n      <td>0.00</td>\n      <td>0.00</td>\n      <td>118.606211</td>\n      <td>14067.433250</td>\n      <td>118.494655</td>\n      <td>0.458184</td>\n      <td>results_by_range_patient_LIB194157_LSTM_H8.csv</td>\n      <td>LIB194157</td>\n      <td>LSTM</td>\n      <td>8</td>\n    </tr>\n  </tbody>\n</table>\n<p>2916 rows × 15 columns</p>\n</div>"
     },
     "execution_count": 19,
     "metadata": {},
     "output_type": "execute_result"
    }
   ],
   "source": [
    "df_personalized_metrics['patient'] = df_personalized_metrics['file_name'].apply(lambda x: x.split('_')[4])\n",
    "df_personalized_metrics['model'] = df_personalized_metrics['file_name'].apply(lambda x: x.split('_')[5])\n",
    "df_personalized_metrics['ph'] = df_personalized_metrics['file_name'].apply(lambda x: x.split('_')[-1].split('.')[0][1:])\n",
    "df_personalized_metrics"
   ],
   "metadata": {
    "collapsed": false,
    "ExecuteTime": {
     "end_time": "2024-10-23T08:13:12.935992Z",
     "start_time": "2024-10-23T08:13:12.913585Z"
    }
   },
   "id": "272f12ab3ba3b0cf",
   "execution_count": 19
  },
  {
   "cell_type": "code",
   "outputs": [
    {
     "data": {
      "text/plain": "      Model      A      B      C       D       E  A + B        RMSE  \\\n0       ALL  40.73  46.13   4.38    7.87    0.89  86.86   71.738554   \n1     TBR_2   0.00   0.00   0.00    0.00  100.00   0.00  152.978180   \n2     TBR_1   0.00   0.00   0.00   76.74   23.26   0.00  112.894489   \n3       TIR  29.45  59.57  10.65    0.00    0.33  89.02   67.432870   \n4     TAR_1  60.73  35.19   0.00    4.08    0.00  95.92   44.966089   \n...     ...    ...    ...    ...     ...     ...    ...         ...   \n2911  TBR_2    NaN    NaN    NaN     NaN     NaN    NaN         NaN   \n2912  TBR_1   0.00   0.00   0.00  100.00    0.00   0.00   76.054354   \n2913    TIR  61.77  38.16   0.00    0.07    0.00  99.93   28.228545   \n2914  TAR_1   0.00  94.20   0.00    5.80    0.00  94.20   67.831857   \n2915  TAR_2   0.00   0.00   0.00  100.00    0.00   0.00  118.606211   \n\n               MSE         MAE      MAPE    patient model  ph  \n0      5146.420191   57.119942  0.382889  LIB193326   CNN  12  \n1     23402.323535  152.978180  2.886381  LIB193326   CNN  12  \n2     12745.165718  107.376643  1.761109  LIB193326   CNN  12  \n3      4547.192017   55.299300  0.515513  LIB193326   CNN  12  \n4      2021.949160   37.007320  0.170999  LIB193326   CNN  12  \n...            ...         ...       ...        ...   ...  ..  \n2911           NaN         NaN       NaN  LIB194157  LSTM   8  \n2912   5784.264837   76.005251  1.191618  LIB194157  LSTM   8  \n2913    796.850742   23.506331  0.211382  LIB194157  LSTM   8  \n2914   4601.160860   65.353358  0.313087  LIB194157  LSTM   8  \n2915  14067.433250  118.494655  0.458184  LIB194157  LSTM   8  \n\n[2916 rows x 14 columns]",
      "text/html": "<div>\n<style scoped>\n    .dataframe tbody tr th:only-of-type {\n        vertical-align: middle;\n    }\n\n    .dataframe tbody tr th {\n        vertical-align: top;\n    }\n\n    .dataframe thead th {\n        text-align: right;\n    }\n</style>\n<table border=\"1\" class=\"dataframe\">\n  <thead>\n    <tr style=\"text-align: right;\">\n      <th></th>\n      <th>Model</th>\n      <th>A</th>\n      <th>B</th>\n      <th>C</th>\n      <th>D</th>\n      <th>E</th>\n      <th>A + B</th>\n      <th>RMSE</th>\n      <th>MSE</th>\n      <th>MAE</th>\n      <th>MAPE</th>\n      <th>patient</th>\n      <th>model</th>\n      <th>ph</th>\n    </tr>\n  </thead>\n  <tbody>\n    <tr>\n      <th>0</th>\n      <td>ALL</td>\n      <td>40.73</td>\n      <td>46.13</td>\n      <td>4.38</td>\n      <td>7.87</td>\n      <td>0.89</td>\n      <td>86.86</td>\n      <td>71.738554</td>\n      <td>5146.420191</td>\n      <td>57.119942</td>\n      <td>0.382889</td>\n      <td>LIB193326</td>\n      <td>CNN</td>\n      <td>12</td>\n    </tr>\n    <tr>\n      <th>1</th>\n      <td>TBR_2</td>\n      <td>0.00</td>\n      <td>0.00</td>\n      <td>0.00</td>\n      <td>0.00</td>\n      <td>100.00</td>\n      <td>0.00</td>\n      <td>152.978180</td>\n      <td>23402.323535</td>\n      <td>152.978180</td>\n      <td>2.886381</td>\n      <td>LIB193326</td>\n      <td>CNN</td>\n      <td>12</td>\n    </tr>\n    <tr>\n      <th>2</th>\n      <td>TBR_1</td>\n      <td>0.00</td>\n      <td>0.00</td>\n      <td>0.00</td>\n      <td>76.74</td>\n      <td>23.26</td>\n      <td>0.00</td>\n      <td>112.894489</td>\n      <td>12745.165718</td>\n      <td>107.376643</td>\n      <td>1.761109</td>\n      <td>LIB193326</td>\n      <td>CNN</td>\n      <td>12</td>\n    </tr>\n    <tr>\n      <th>3</th>\n      <td>TIR</td>\n      <td>29.45</td>\n      <td>59.57</td>\n      <td>10.65</td>\n      <td>0.00</td>\n      <td>0.33</td>\n      <td>89.02</td>\n      <td>67.432870</td>\n      <td>4547.192017</td>\n      <td>55.299300</td>\n      <td>0.515513</td>\n      <td>LIB193326</td>\n      <td>CNN</td>\n      <td>12</td>\n    </tr>\n    <tr>\n      <th>4</th>\n      <td>TAR_1</td>\n      <td>60.73</td>\n      <td>35.19</td>\n      <td>0.00</td>\n      <td>4.08</td>\n      <td>0.00</td>\n      <td>95.92</td>\n      <td>44.966089</td>\n      <td>2021.949160</td>\n      <td>37.007320</td>\n      <td>0.170999</td>\n      <td>LIB193326</td>\n      <td>CNN</td>\n      <td>12</td>\n    </tr>\n    <tr>\n      <th>...</th>\n      <td>...</td>\n      <td>...</td>\n      <td>...</td>\n      <td>...</td>\n      <td>...</td>\n      <td>...</td>\n      <td>...</td>\n      <td>...</td>\n      <td>...</td>\n      <td>...</td>\n      <td>...</td>\n      <td>...</td>\n      <td>...</td>\n      <td>...</td>\n    </tr>\n    <tr>\n      <th>2911</th>\n      <td>TBR_2</td>\n      <td>NaN</td>\n      <td>NaN</td>\n      <td>NaN</td>\n      <td>NaN</td>\n      <td>NaN</td>\n      <td>NaN</td>\n      <td>NaN</td>\n      <td>NaN</td>\n      <td>NaN</td>\n      <td>NaN</td>\n      <td>LIB194157</td>\n      <td>LSTM</td>\n      <td>8</td>\n    </tr>\n    <tr>\n      <th>2912</th>\n      <td>TBR_1</td>\n      <td>0.00</td>\n      <td>0.00</td>\n      <td>0.00</td>\n      <td>100.00</td>\n      <td>0.00</td>\n      <td>0.00</td>\n      <td>76.054354</td>\n      <td>5784.264837</td>\n      <td>76.005251</td>\n      <td>1.191618</td>\n      <td>LIB194157</td>\n      <td>LSTM</td>\n      <td>8</td>\n    </tr>\n    <tr>\n      <th>2913</th>\n      <td>TIR</td>\n      <td>61.77</td>\n      <td>38.16</td>\n      <td>0.00</td>\n      <td>0.07</td>\n      <td>0.00</td>\n      <td>99.93</td>\n      <td>28.228545</td>\n      <td>796.850742</td>\n      <td>23.506331</td>\n      <td>0.211382</td>\n      <td>LIB194157</td>\n      <td>LSTM</td>\n      <td>8</td>\n    </tr>\n    <tr>\n      <th>2914</th>\n      <td>TAR_1</td>\n      <td>0.00</td>\n      <td>94.20</td>\n      <td>0.00</td>\n      <td>5.80</td>\n      <td>0.00</td>\n      <td>94.20</td>\n      <td>67.831857</td>\n      <td>4601.160860</td>\n      <td>65.353358</td>\n      <td>0.313087</td>\n      <td>LIB194157</td>\n      <td>LSTM</td>\n      <td>8</td>\n    </tr>\n    <tr>\n      <th>2915</th>\n      <td>TAR_2</td>\n      <td>0.00</td>\n      <td>0.00</td>\n      <td>0.00</td>\n      <td>100.00</td>\n      <td>0.00</td>\n      <td>0.00</td>\n      <td>118.606211</td>\n      <td>14067.433250</td>\n      <td>118.494655</td>\n      <td>0.458184</td>\n      <td>LIB194157</td>\n      <td>LSTM</td>\n      <td>8</td>\n    </tr>\n  </tbody>\n</table>\n<p>2916 rows × 14 columns</p>\n</div>"
     },
     "execution_count": 20,
     "metadata": {},
     "output_type": "execute_result"
    }
   ],
   "source": [
    "df_personalized_metrics = df_personalized_metrics.drop(columns=['file_name'])\n",
    "df_personalized_metrics['ph'] = df_personalized_metrics['ph'].astype(int)\n",
    "df_personalized_metrics"
   ],
   "metadata": {
    "collapsed": false,
    "ExecuteTime": {
     "end_time": "2024-10-23T08:13:14.845012Z",
     "start_time": "2024-10-23T08:13:14.825679Z"
    }
   },
   "id": "3aec9efb9859cbdf",
   "execution_count": 20
  },
  {
   "cell_type": "code",
   "outputs": [
    {
     "data": {
      "text/plain": "Empty DataFrame\nColumns: [Model, A, B, C, D, E, A + B, RMSE, MSE, MAE, MAPE, patient, model, ph]\nIndex: []",
      "text/html": "<div>\n<style scoped>\n    .dataframe tbody tr th:only-of-type {\n        vertical-align: middle;\n    }\n\n    .dataframe tbody tr th {\n        vertical-align: top;\n    }\n\n    .dataframe thead th {\n        text-align: right;\n    }\n</style>\n<table border=\"1\" class=\"dataframe\">\n  <thead>\n    <tr style=\"text-align: right;\">\n      <th></th>\n      <th>Model</th>\n      <th>A</th>\n      <th>B</th>\n      <th>C</th>\n      <th>D</th>\n      <th>E</th>\n      <th>A + B</th>\n      <th>RMSE</th>\n      <th>MSE</th>\n      <th>MAE</th>\n      <th>MAPE</th>\n      <th>patient</th>\n      <th>model</th>\n      <th>ph</th>\n    </tr>\n  </thead>\n  <tbody>\n  </tbody>\n</table>\n</div>"
     },
     "execution_count": 21,
     "metadata": {},
     "output_type": "execute_result"
    }
   ],
   "source": [
    "df_personalized_metrics[(df_personalized_metrics['patient'] == 'LIB193859') & (df_personalized_metrics['ph'] == '12')]"
   ],
   "metadata": {
    "collapsed": false,
    "ExecuteTime": {
     "end_time": "2024-10-23T08:13:20.221431Z",
     "start_time": "2024-10-23T08:13:20.210427Z"
    }
   },
   "id": "f8af21c083c37d03",
   "execution_count": 21
  },
  {
   "cell_type": "code",
   "outputs": [
    {
     "data": {
      "text/plain": "      Model  A_cluster  B_cluster  C_cluster  D_cluster  E_cluster  \\\n0       ALL      42.52      52.30       0.14       4.98       0.05   \n1     TBR_2       0.00       0.00       0.00     100.00       0.00   \n2     TBR_1       0.00       0.00       0.00      98.27       1.73   \n3       TIR      47.38      51.96       0.18       0.47       0.01   \n4     TAR_1      31.07      64.09       0.00       4.84       0.00   \n...     ...        ...        ...        ...        ...        ...   \n1291  TBR_2       0.00       0.00       0.00     100.00       0.00   \n1292  TBR_1       0.00       0.00       0.00      99.02       0.98   \n1293    TIR      44.74      52.44       1.12       1.70       0.00   \n1294  TAR_1      50.10      44.91       0.00       4.99       0.00   \n1295  TAR_2      26.72      52.34       0.00      20.94       0.00   \n\n      A + B_cluster  RMSE_cluster  MSE_cluster  MAE_cluster  ...  \\\n0             94.82     45.982299  2114.371835    37.557789  ...   \n1              0.00     93.295463  8704.043338    92.957884  ...   \n2              0.00     76.873811  5909.582834    75.086520  ...   \n3             99.34     38.217256  1460.558679    31.361263  ...   \n4             95.16     57.997785  3363.743079    52.595863  ...   \n...             ...           ...          ...          ...  ...   \n1291           0.00     61.192477  3744.519194    59.317990  ...   \n1292           0.00     55.851747  3119.417641    52.917345  ...   \n1293          97.18     38.228065  1461.384947    30.459248  ...   \n1294          95.01     54.892220  3013.155861    45.752520  ...   \n1295          79.06     89.886861  8079.647825    81.293791  ...   \n\n      A_personalized B_personalized C_personalized  D_personalized  \\\n0              42.05          52.23           0.01            5.72   \n1               0.00           0.00           0.00          100.00   \n2               0.00           0.00           0.00          100.00   \n3              49.13          50.37           0.01            0.49   \n4              20.25          73.64           0.00            6.11   \n...              ...            ...            ...             ...   \n1291           15.38           0.00           0.00           83.33   \n1292            9.96           0.00           0.00           87.89   \n1293           46.87          50.69           1.01            1.43   \n1294           67.18          28.98           0.00            3.45   \n1295            3.58          86.78           0.00            9.64   \n\n     E_personalized A + B_personalized  RMSE_personalized  MSE_personalized  \\\n0              0.00              94.28          46.022890       2118.106372   \n1              0.00               0.00          97.061251       9420.886353   \n2              0.00               0.00          79.439203       6310.587035   \n3              0.00              99.50          37.129807       1378.622543   \n4              0.00              93.89          59.469266       3536.593587   \n...             ...                ...                ...               ...   \n1291           1.28              15.38          38.548819       1486.011477   \n1292           2.15               9.96          43.375784       1881.458605   \n1293           0.00              97.56          39.532182       1562.793425   \n1294           0.38              96.16          49.507879       2451.030061   \n1295           0.00              90.36          95.422787       9105.508223   \n\n      MAE_personalized  MAPE_personalized  \n0            37.803139           0.315513  \n1            96.757292           1.880586  \n2            78.379382           1.233705  \n3            30.645629           0.294655  \n4            55.927307           0.265470  \n...                ...                ...  \n1291         31.999267           0.606005  \n1292         35.462488           0.578545  \n1293         30.689404           0.288017  \n1294         39.940350           0.185954  \n1295         90.971244           0.309177  \n\n[1296 rows x 26 columns]",
      "text/html": "<div>\n<style scoped>\n    .dataframe tbody tr th:only-of-type {\n        vertical-align: middle;\n    }\n\n    .dataframe tbody tr th {\n        vertical-align: top;\n    }\n\n    .dataframe thead th {\n        text-align: right;\n    }\n</style>\n<table border=\"1\" class=\"dataframe\">\n  <thead>\n    <tr style=\"text-align: right;\">\n      <th></th>\n      <th>Model</th>\n      <th>A_cluster</th>\n      <th>B_cluster</th>\n      <th>C_cluster</th>\n      <th>D_cluster</th>\n      <th>E_cluster</th>\n      <th>A + B_cluster</th>\n      <th>RMSE_cluster</th>\n      <th>MSE_cluster</th>\n      <th>MAE_cluster</th>\n      <th>...</th>\n      <th>A_personalized</th>\n      <th>B_personalized</th>\n      <th>C_personalized</th>\n      <th>D_personalized</th>\n      <th>E_personalized</th>\n      <th>A + B_personalized</th>\n      <th>RMSE_personalized</th>\n      <th>MSE_personalized</th>\n      <th>MAE_personalized</th>\n      <th>MAPE_personalized</th>\n    </tr>\n  </thead>\n  <tbody>\n    <tr>\n      <th>0</th>\n      <td>ALL</td>\n      <td>42.52</td>\n      <td>52.30</td>\n      <td>0.14</td>\n      <td>4.98</td>\n      <td>0.05</td>\n      <td>94.82</td>\n      <td>45.982299</td>\n      <td>2114.371835</td>\n      <td>37.557789</td>\n      <td>...</td>\n      <td>42.05</td>\n      <td>52.23</td>\n      <td>0.01</td>\n      <td>5.72</td>\n      <td>0.00</td>\n      <td>94.28</td>\n      <td>46.022890</td>\n      <td>2118.106372</td>\n      <td>37.803139</td>\n      <td>0.315513</td>\n    </tr>\n    <tr>\n      <th>1</th>\n      <td>TBR_2</td>\n      <td>0.00</td>\n      <td>0.00</td>\n      <td>0.00</td>\n      <td>100.00</td>\n      <td>0.00</td>\n      <td>0.00</td>\n      <td>93.295463</td>\n      <td>8704.043338</td>\n      <td>92.957884</td>\n      <td>...</td>\n      <td>0.00</td>\n      <td>0.00</td>\n      <td>0.00</td>\n      <td>100.00</td>\n      <td>0.00</td>\n      <td>0.00</td>\n      <td>97.061251</td>\n      <td>9420.886353</td>\n      <td>96.757292</td>\n      <td>1.880586</td>\n    </tr>\n    <tr>\n      <th>2</th>\n      <td>TBR_1</td>\n      <td>0.00</td>\n      <td>0.00</td>\n      <td>0.00</td>\n      <td>98.27</td>\n      <td>1.73</td>\n      <td>0.00</td>\n      <td>76.873811</td>\n      <td>5909.582834</td>\n      <td>75.086520</td>\n      <td>...</td>\n      <td>0.00</td>\n      <td>0.00</td>\n      <td>0.00</td>\n      <td>100.00</td>\n      <td>0.00</td>\n      <td>0.00</td>\n      <td>79.439203</td>\n      <td>6310.587035</td>\n      <td>78.379382</td>\n      <td>1.233705</td>\n    </tr>\n    <tr>\n      <th>3</th>\n      <td>TIR</td>\n      <td>47.38</td>\n      <td>51.96</td>\n      <td>0.18</td>\n      <td>0.47</td>\n      <td>0.01</td>\n      <td>99.34</td>\n      <td>38.217256</td>\n      <td>1460.558679</td>\n      <td>31.361263</td>\n      <td>...</td>\n      <td>49.13</td>\n      <td>50.37</td>\n      <td>0.01</td>\n      <td>0.49</td>\n      <td>0.00</td>\n      <td>99.50</td>\n      <td>37.129807</td>\n      <td>1378.622543</td>\n      <td>30.645629</td>\n      <td>0.294655</td>\n    </tr>\n    <tr>\n      <th>4</th>\n      <td>TAR_1</td>\n      <td>31.07</td>\n      <td>64.09</td>\n      <td>0.00</td>\n      <td>4.84</td>\n      <td>0.00</td>\n      <td>95.16</td>\n      <td>57.997785</td>\n      <td>3363.743079</td>\n      <td>52.595863</td>\n      <td>...</td>\n      <td>20.25</td>\n      <td>73.64</td>\n      <td>0.00</td>\n      <td>6.11</td>\n      <td>0.00</td>\n      <td>93.89</td>\n      <td>59.469266</td>\n      <td>3536.593587</td>\n      <td>55.927307</td>\n      <td>0.265470</td>\n    </tr>\n    <tr>\n      <th>...</th>\n      <td>...</td>\n      <td>...</td>\n      <td>...</td>\n      <td>...</td>\n      <td>...</td>\n      <td>...</td>\n      <td>...</td>\n      <td>...</td>\n      <td>...</td>\n      <td>...</td>\n      <td>...</td>\n      <td>...</td>\n      <td>...</td>\n      <td>...</td>\n      <td>...</td>\n      <td>...</td>\n      <td>...</td>\n      <td>...</td>\n      <td>...</td>\n      <td>...</td>\n      <td>...</td>\n    </tr>\n    <tr>\n      <th>1291</th>\n      <td>TBR_2</td>\n      <td>0.00</td>\n      <td>0.00</td>\n      <td>0.00</td>\n      <td>100.00</td>\n      <td>0.00</td>\n      <td>0.00</td>\n      <td>61.192477</td>\n      <td>3744.519194</td>\n      <td>59.317990</td>\n      <td>...</td>\n      <td>15.38</td>\n      <td>0.00</td>\n      <td>0.00</td>\n      <td>83.33</td>\n      <td>1.28</td>\n      <td>15.38</td>\n      <td>38.548819</td>\n      <td>1486.011477</td>\n      <td>31.999267</td>\n      <td>0.606005</td>\n    </tr>\n    <tr>\n      <th>1292</th>\n      <td>TBR_1</td>\n      <td>0.00</td>\n      <td>0.00</td>\n      <td>0.00</td>\n      <td>99.02</td>\n      <td>0.98</td>\n      <td>0.00</td>\n      <td>55.851747</td>\n      <td>3119.417641</td>\n      <td>52.917345</td>\n      <td>...</td>\n      <td>9.96</td>\n      <td>0.00</td>\n      <td>0.00</td>\n      <td>87.89</td>\n      <td>2.15</td>\n      <td>9.96</td>\n      <td>43.375784</td>\n      <td>1881.458605</td>\n      <td>35.462488</td>\n      <td>0.578545</td>\n    </tr>\n    <tr>\n      <th>1293</th>\n      <td>TIR</td>\n      <td>44.74</td>\n      <td>52.44</td>\n      <td>1.12</td>\n      <td>1.70</td>\n      <td>0.00</td>\n      <td>97.18</td>\n      <td>38.228065</td>\n      <td>1461.384947</td>\n      <td>30.459248</td>\n      <td>...</td>\n      <td>46.87</td>\n      <td>50.69</td>\n      <td>1.01</td>\n      <td>1.43</td>\n      <td>0.00</td>\n      <td>97.56</td>\n      <td>39.532182</td>\n      <td>1562.793425</td>\n      <td>30.689404</td>\n      <td>0.288017</td>\n    </tr>\n    <tr>\n      <th>1294</th>\n      <td>TAR_1</td>\n      <td>50.10</td>\n      <td>44.91</td>\n      <td>0.00</td>\n      <td>4.99</td>\n      <td>0.00</td>\n      <td>95.01</td>\n      <td>54.892220</td>\n      <td>3013.155861</td>\n      <td>45.752520</td>\n      <td>...</td>\n      <td>67.18</td>\n      <td>28.98</td>\n      <td>0.00</td>\n      <td>3.45</td>\n      <td>0.38</td>\n      <td>96.16</td>\n      <td>49.507879</td>\n      <td>2451.030061</td>\n      <td>39.940350</td>\n      <td>0.185954</td>\n    </tr>\n    <tr>\n      <th>1295</th>\n      <td>TAR_2</td>\n      <td>26.72</td>\n      <td>52.34</td>\n      <td>0.00</td>\n      <td>20.94</td>\n      <td>0.00</td>\n      <td>79.06</td>\n      <td>89.886861</td>\n      <td>8079.647825</td>\n      <td>81.293791</td>\n      <td>...</td>\n      <td>3.58</td>\n      <td>86.78</td>\n      <td>0.00</td>\n      <td>9.64</td>\n      <td>0.00</td>\n      <td>90.36</td>\n      <td>95.422787</td>\n      <td>9105.508223</td>\n      <td>90.971244</td>\n      <td>0.309177</td>\n    </tr>\n  </tbody>\n</table>\n<p>1296 rows × 26 columns</p>\n</div>"
     },
     "execution_count": 22,
     "metadata": {},
     "output_type": "execute_result"
    }
   ],
   "source": [
    "key_columns = ['Model', 'model', 'patient', 'ph']\n",
    "df_merge = pd.merge(df_clusters_metrics_best_worst, df_personalized_metrics, on=key_columns, suffixes=('_cluster', '_personalized'))\n",
    "df_merge"
   ],
   "metadata": {
    "collapsed": false,
    "ExecuteTime": {
     "end_time": "2024-10-23T08:13:53.829333Z",
     "start_time": "2024-10-23T08:13:53.805735Z"
    }
   },
   "id": "fcd64b03deb00b88",
   "execution_count": 22
  },
  {
   "cell_type": "code",
   "outputs": [
    {
     "data": {
      "text/plain": "Index(['A', 'A + B', 'B', 'C', 'D', 'E', 'MAE', 'MAPE', 'MSE', 'RMSE'], dtype='object')"
     },
     "execution_count": 23,
     "metadata": {},
     "output_type": "execute_result"
    }
   ],
   "source": [
    "common_columns = df_clusters_metrics_best_worst.columns.intersection(df_personalized_metrics.columns).difference(key_columns)\n",
    "common_columns"
   ],
   "metadata": {
    "collapsed": false,
    "ExecuteTime": {
     "end_time": "2024-10-23T08:14:00.481310Z",
     "start_time": "2024-10-23T08:14:00.473964Z"
    }
   },
   "id": "26635721c73556da",
   "execution_count": 23
  },
  {
   "cell_type": "code",
   "outputs": [
    {
     "data": {
      "text/plain": "      Model  A_cluster  B_cluster  C_cluster  D_cluster  E_cluster  \\\n0       ALL      42.52      52.30       0.14       4.98       0.05   \n1     TBR_2       0.00       0.00       0.00     100.00       0.00   \n2     TBR_1       0.00       0.00       0.00      98.27       1.73   \n3       TIR      47.38      51.96       0.18       0.47       0.01   \n4     TAR_1      31.07      64.09       0.00       4.84       0.00   \n...     ...        ...        ...        ...        ...        ...   \n1291  TBR_2       0.00       0.00       0.00     100.00       0.00   \n1292  TBR_1       0.00       0.00       0.00      99.02       0.98   \n1293    TIR      44.74      52.44       1.12       1.70       0.00   \n1294  TAR_1      50.10      44.91       0.00       4.99       0.00   \n1295  TAR_2      26.72      52.34       0.00      20.94       0.00   \n\n      A + B_cluster  RMSE_cluster  MSE_cluster  MAE_cluster  ...  A_diff  \\\n0             94.82     45.982299  2114.371835    37.557789  ...    0.47   \n1              0.00     93.295463  8704.043338    92.957884  ...    0.00   \n2              0.00     76.873811  5909.582834    75.086520  ...    0.00   \n3             99.34     38.217256  1460.558679    31.361263  ...   -1.75   \n4             95.16     57.997785  3363.743079    52.595863  ...   10.82   \n...             ...           ...          ...          ...  ...     ...   \n1291           0.00     61.192477  3744.519194    59.317990  ...  -15.38   \n1292           0.00     55.851747  3119.417641    52.917345  ...   -9.96   \n1293          97.18     38.228065  1461.384947    30.459248  ...   -2.13   \n1294          95.01     54.892220  3013.155861    45.752520  ...  -17.08   \n1295          79.06     89.886861  8079.647825    81.293791  ...   23.14   \n\n     A + B_diff B_diff  C_diff D_diff E_diff   MAE_diff  MAPE_diff  \\\n0          0.54   0.07    0.13  -0.74   0.05  -0.245350  -0.002331   \n1          0.00   0.00    0.00   0.00   0.00  -3.799408  -0.077714   \n2          0.00   0.00    0.00  -1.73   1.73  -3.292861  -0.052315   \n3         -0.16   1.59    0.17  -0.02   0.01   0.715634   0.002819   \n4          1.27  -9.55    0.00  -1.27   0.00  -3.331444  -0.015672   \n...         ...    ...     ...    ...    ...        ...        ...   \n1291     -15.38   0.00    0.00  16.67  -1.28  27.318723   0.517268   \n1292      -9.96   0.00    0.00  11.13  -1.17  17.454857   0.291298   \n1293      -0.38   1.75    0.11   0.27   0.00  -0.230157   0.011818   \n1294      -1.15  15.93    0.00   1.54  -0.38   5.812170   0.028638   \n1295     -11.30 -34.44    0.00  11.30   0.00  -9.677453  -0.031785   \n\n         MSE_diff  RMSE_diff  \n0       -3.734537  -0.040591  \n1     -716.843015  -3.765788  \n2     -401.004202  -2.565392  \n3       81.936135   1.087450  \n4     -172.850508  -1.471481  \n...           ...        ...  \n1291  2258.507718  22.643657  \n1292  1237.959037  12.475963  \n1293  -101.408479  -1.304117  \n1294   562.125800   5.384342  \n1295 -1025.860398  -5.535925  \n\n[1296 rows x 36 columns]",
      "text/html": "<div>\n<style scoped>\n    .dataframe tbody tr th:only-of-type {\n        vertical-align: middle;\n    }\n\n    .dataframe tbody tr th {\n        vertical-align: top;\n    }\n\n    .dataframe thead th {\n        text-align: right;\n    }\n</style>\n<table border=\"1\" class=\"dataframe\">\n  <thead>\n    <tr style=\"text-align: right;\">\n      <th></th>\n      <th>Model</th>\n      <th>A_cluster</th>\n      <th>B_cluster</th>\n      <th>C_cluster</th>\n      <th>D_cluster</th>\n      <th>E_cluster</th>\n      <th>A + B_cluster</th>\n      <th>RMSE_cluster</th>\n      <th>MSE_cluster</th>\n      <th>MAE_cluster</th>\n      <th>...</th>\n      <th>A_diff</th>\n      <th>A + B_diff</th>\n      <th>B_diff</th>\n      <th>C_diff</th>\n      <th>D_diff</th>\n      <th>E_diff</th>\n      <th>MAE_diff</th>\n      <th>MAPE_diff</th>\n      <th>MSE_diff</th>\n      <th>RMSE_diff</th>\n    </tr>\n  </thead>\n  <tbody>\n    <tr>\n      <th>0</th>\n      <td>ALL</td>\n      <td>42.52</td>\n      <td>52.30</td>\n      <td>0.14</td>\n      <td>4.98</td>\n      <td>0.05</td>\n      <td>94.82</td>\n      <td>45.982299</td>\n      <td>2114.371835</td>\n      <td>37.557789</td>\n      <td>...</td>\n      <td>0.47</td>\n      <td>0.54</td>\n      <td>0.07</td>\n      <td>0.13</td>\n      <td>-0.74</td>\n      <td>0.05</td>\n      <td>-0.245350</td>\n      <td>-0.002331</td>\n      <td>-3.734537</td>\n      <td>-0.040591</td>\n    </tr>\n    <tr>\n      <th>1</th>\n      <td>TBR_2</td>\n      <td>0.00</td>\n      <td>0.00</td>\n      <td>0.00</td>\n      <td>100.00</td>\n      <td>0.00</td>\n      <td>0.00</td>\n      <td>93.295463</td>\n      <td>8704.043338</td>\n      <td>92.957884</td>\n      <td>...</td>\n      <td>0.00</td>\n      <td>0.00</td>\n      <td>0.00</td>\n      <td>0.00</td>\n      <td>0.00</td>\n      <td>0.00</td>\n      <td>-3.799408</td>\n      <td>-0.077714</td>\n      <td>-716.843015</td>\n      <td>-3.765788</td>\n    </tr>\n    <tr>\n      <th>2</th>\n      <td>TBR_1</td>\n      <td>0.00</td>\n      <td>0.00</td>\n      <td>0.00</td>\n      <td>98.27</td>\n      <td>1.73</td>\n      <td>0.00</td>\n      <td>76.873811</td>\n      <td>5909.582834</td>\n      <td>75.086520</td>\n      <td>...</td>\n      <td>0.00</td>\n      <td>0.00</td>\n      <td>0.00</td>\n      <td>0.00</td>\n      <td>-1.73</td>\n      <td>1.73</td>\n      <td>-3.292861</td>\n      <td>-0.052315</td>\n      <td>-401.004202</td>\n      <td>-2.565392</td>\n    </tr>\n    <tr>\n      <th>3</th>\n      <td>TIR</td>\n      <td>47.38</td>\n      <td>51.96</td>\n      <td>0.18</td>\n      <td>0.47</td>\n      <td>0.01</td>\n      <td>99.34</td>\n      <td>38.217256</td>\n      <td>1460.558679</td>\n      <td>31.361263</td>\n      <td>...</td>\n      <td>-1.75</td>\n      <td>-0.16</td>\n      <td>1.59</td>\n      <td>0.17</td>\n      <td>-0.02</td>\n      <td>0.01</td>\n      <td>0.715634</td>\n      <td>0.002819</td>\n      <td>81.936135</td>\n      <td>1.087450</td>\n    </tr>\n    <tr>\n      <th>4</th>\n      <td>TAR_1</td>\n      <td>31.07</td>\n      <td>64.09</td>\n      <td>0.00</td>\n      <td>4.84</td>\n      <td>0.00</td>\n      <td>95.16</td>\n      <td>57.997785</td>\n      <td>3363.743079</td>\n      <td>52.595863</td>\n      <td>...</td>\n      <td>10.82</td>\n      <td>1.27</td>\n      <td>-9.55</td>\n      <td>0.00</td>\n      <td>-1.27</td>\n      <td>0.00</td>\n      <td>-3.331444</td>\n      <td>-0.015672</td>\n      <td>-172.850508</td>\n      <td>-1.471481</td>\n    </tr>\n    <tr>\n      <th>...</th>\n      <td>...</td>\n      <td>...</td>\n      <td>...</td>\n      <td>...</td>\n      <td>...</td>\n      <td>...</td>\n      <td>...</td>\n      <td>...</td>\n      <td>...</td>\n      <td>...</td>\n      <td>...</td>\n      <td>...</td>\n      <td>...</td>\n      <td>...</td>\n      <td>...</td>\n      <td>...</td>\n      <td>...</td>\n      <td>...</td>\n      <td>...</td>\n      <td>...</td>\n      <td>...</td>\n    </tr>\n    <tr>\n      <th>1291</th>\n      <td>TBR_2</td>\n      <td>0.00</td>\n      <td>0.00</td>\n      <td>0.00</td>\n      <td>100.00</td>\n      <td>0.00</td>\n      <td>0.00</td>\n      <td>61.192477</td>\n      <td>3744.519194</td>\n      <td>59.317990</td>\n      <td>...</td>\n      <td>-15.38</td>\n      <td>-15.38</td>\n      <td>0.00</td>\n      <td>0.00</td>\n      <td>16.67</td>\n      <td>-1.28</td>\n      <td>27.318723</td>\n      <td>0.517268</td>\n      <td>2258.507718</td>\n      <td>22.643657</td>\n    </tr>\n    <tr>\n      <th>1292</th>\n      <td>TBR_1</td>\n      <td>0.00</td>\n      <td>0.00</td>\n      <td>0.00</td>\n      <td>99.02</td>\n      <td>0.98</td>\n      <td>0.00</td>\n      <td>55.851747</td>\n      <td>3119.417641</td>\n      <td>52.917345</td>\n      <td>...</td>\n      <td>-9.96</td>\n      <td>-9.96</td>\n      <td>0.00</td>\n      <td>0.00</td>\n      <td>11.13</td>\n      <td>-1.17</td>\n      <td>17.454857</td>\n      <td>0.291298</td>\n      <td>1237.959037</td>\n      <td>12.475963</td>\n    </tr>\n    <tr>\n      <th>1293</th>\n      <td>TIR</td>\n      <td>44.74</td>\n      <td>52.44</td>\n      <td>1.12</td>\n      <td>1.70</td>\n      <td>0.00</td>\n      <td>97.18</td>\n      <td>38.228065</td>\n      <td>1461.384947</td>\n      <td>30.459248</td>\n      <td>...</td>\n      <td>-2.13</td>\n      <td>-0.38</td>\n      <td>1.75</td>\n      <td>0.11</td>\n      <td>0.27</td>\n      <td>0.00</td>\n      <td>-0.230157</td>\n      <td>0.011818</td>\n      <td>-101.408479</td>\n      <td>-1.304117</td>\n    </tr>\n    <tr>\n      <th>1294</th>\n      <td>TAR_1</td>\n      <td>50.10</td>\n      <td>44.91</td>\n      <td>0.00</td>\n      <td>4.99</td>\n      <td>0.00</td>\n      <td>95.01</td>\n      <td>54.892220</td>\n      <td>3013.155861</td>\n      <td>45.752520</td>\n      <td>...</td>\n      <td>-17.08</td>\n      <td>-1.15</td>\n      <td>15.93</td>\n      <td>0.00</td>\n      <td>1.54</td>\n      <td>-0.38</td>\n      <td>5.812170</td>\n      <td>0.028638</td>\n      <td>562.125800</td>\n      <td>5.384342</td>\n    </tr>\n    <tr>\n      <th>1295</th>\n      <td>TAR_2</td>\n      <td>26.72</td>\n      <td>52.34</td>\n      <td>0.00</td>\n      <td>20.94</td>\n      <td>0.00</td>\n      <td>79.06</td>\n      <td>89.886861</td>\n      <td>8079.647825</td>\n      <td>81.293791</td>\n      <td>...</td>\n      <td>23.14</td>\n      <td>-11.30</td>\n      <td>-34.44</td>\n      <td>0.00</td>\n      <td>11.30</td>\n      <td>0.00</td>\n      <td>-9.677453</td>\n      <td>-0.031785</td>\n      <td>-1025.860398</td>\n      <td>-5.535925</td>\n    </tr>\n  </tbody>\n</table>\n<p>1296 rows × 36 columns</p>\n</div>"
     },
     "execution_count": 24,
     "metadata": {},
     "output_type": "execute_result"
    }
   ],
   "source": [
    "# Find the difference between cluster and personalized (cluster - personalized)\n",
    "# In clinical metrics NEGATIVE value means personalized better, POSITIVE value means Cluster better\n",
    "# In mathematical metrics NEGATIVE value means cluster better, POSITIVE value means personalized better\n",
    "for current_col in common_columns:\n",
    "    df_merge[current_col + '_diff'] = df_merge[current_col + '_cluster'] - df_merge[current_col + '_personalized']\n",
    "\n",
    "df_merge"
   ],
   "metadata": {
    "collapsed": false,
    "ExecuteTime": {
     "end_time": "2024-10-23T08:14:02.700335Z",
     "start_time": "2024-10-23T08:14:02.683520Z"
    }
   },
   "id": "4f7a57abc3add129",
   "execution_count": 24
  },
  {
   "cell_type": "code",
   "outputs": [
    {
     "data": {
      "text/plain": "       A + B_cluster  A + B_personalized   A + B_diff\ncount    1213.000000         1213.000000  1213.000000\nmean       64.218376           66.403858    -2.185482\nstd        42.223918           40.197924    13.877276\nmin         0.000000            0.000000   -90.800000\n25%         3.120000           20.190000    -0.800000\n50%        91.180000           90.890000     0.000000\n75%        98.710000           98.480000     0.430000\nmax       100.000000          100.000000   100.000000",
      "text/html": "<div>\n<style scoped>\n    .dataframe tbody tr th:only-of-type {\n        vertical-align: middle;\n    }\n\n    .dataframe tbody tr th {\n        vertical-align: top;\n    }\n\n    .dataframe thead th {\n        text-align: right;\n    }\n</style>\n<table border=\"1\" class=\"dataframe\">\n  <thead>\n    <tr style=\"text-align: right;\">\n      <th></th>\n      <th>A + B_cluster</th>\n      <th>A + B_personalized</th>\n      <th>A + B_diff</th>\n    </tr>\n  </thead>\n  <tbody>\n    <tr>\n      <th>count</th>\n      <td>1213.000000</td>\n      <td>1213.000000</td>\n      <td>1213.000000</td>\n    </tr>\n    <tr>\n      <th>mean</th>\n      <td>64.218376</td>\n      <td>66.403858</td>\n      <td>-2.185482</td>\n    </tr>\n    <tr>\n      <th>std</th>\n      <td>42.223918</td>\n      <td>40.197924</td>\n      <td>13.877276</td>\n    </tr>\n    <tr>\n      <th>min</th>\n      <td>0.000000</td>\n      <td>0.000000</td>\n      <td>-90.800000</td>\n    </tr>\n    <tr>\n      <th>25%</th>\n      <td>3.120000</td>\n      <td>20.190000</td>\n      <td>-0.800000</td>\n    </tr>\n    <tr>\n      <th>50%</th>\n      <td>91.180000</td>\n      <td>90.890000</td>\n      <td>0.000000</td>\n    </tr>\n    <tr>\n      <th>75%</th>\n      <td>98.710000</td>\n      <td>98.480000</td>\n      <td>0.430000</td>\n    </tr>\n    <tr>\n      <th>max</th>\n      <td>100.000000</td>\n      <td>100.000000</td>\n      <td>100.000000</td>\n    </tr>\n  </tbody>\n</table>\n</div>"
     },
     "execution_count": 25,
     "metadata": {},
     "output_type": "execute_result"
    }
   ],
   "source": [
    "df_merge[['A + B_cluster', 'A + B_personalized', 'A + B_diff']].describe()"
   ],
   "metadata": {
    "collapsed": false,
    "ExecuteTime": {
     "end_time": "2024-10-23T08:14:07.031696Z",
     "start_time": "2024-10-23T08:14:07.020791Z"
    }
   },
   "id": "e53db20ebcdafb4a",
   "execution_count": 25
  },
  {
   "cell_type": "code",
   "outputs": [
    {
     "data": {
      "text/plain": "['Model',\n 'model',\n 'patient',\n 'ph',\n 'A_diff',\n 'A + B_diff',\n 'B_diff',\n 'C_diff',\n 'D_diff',\n 'E_diff',\n 'MAE_diff',\n 'MAPE_diff',\n 'MSE_diff',\n 'RMSE_diff']"
     },
     "execution_count": 26,
     "metadata": {},
     "output_type": "execute_result"
    }
   ],
   "source": [
    "final_columns = key_columns + [column + '_diff' for column in common_columns]\n",
    "final_columns"
   ],
   "metadata": {
    "collapsed": false,
    "ExecuteTime": {
     "end_time": "2024-10-23T08:14:09.601841Z",
     "start_time": "2024-10-23T08:14:09.589470Z"
    }
   },
   "id": "50413dc3441519b7",
   "execution_count": 26
  },
  {
   "cell_type": "code",
   "outputs": [
    {
     "data": {
      "text/plain": "      Model model    patient  ph  A_diff  A + B_diff  B_diff  C_diff  D_diff  \\\n0       ALL   CNN  LIB193914  12    0.47        0.54    0.07    0.13   -0.74   \n1     TBR_2   CNN  LIB193914  12    0.00        0.00    0.00    0.00    0.00   \n2     TBR_1   CNN  LIB193914  12    0.00        0.00    0.00    0.00   -1.73   \n3       TIR   CNN  LIB193914  12   -1.75       -0.16    1.59    0.17   -0.02   \n4     TAR_1   CNN  LIB193914  12   10.82        1.27   -9.55    0.00   -1.27   \n...     ...   ...        ...  ..     ...         ...     ...     ...     ...   \n1291  TBR_2  LSTM  LIB193603   8  -15.38      -15.38    0.00    0.00   16.67   \n1292  TBR_1  LSTM  LIB193603   8   -9.96       -9.96    0.00    0.00   11.13   \n1293    TIR  LSTM  LIB193603   8   -2.13       -0.38    1.75    0.11    0.27   \n1294  TAR_1  LSTM  LIB193603   8  -17.08       -1.15   15.93    0.00    1.54   \n1295  TAR_2  LSTM  LIB193603   8   23.14      -11.30  -34.44    0.00   11.30   \n\n      E_diff   MAE_diff  MAPE_diff     MSE_diff  RMSE_diff  class   cluster  \n0       0.05  -0.245350  -0.002331    -3.734537  -0.040591   best  cluster0  \n1       0.00  -3.799408  -0.077714  -716.843015  -3.765788   best  cluster0  \n2       1.73  -3.292861  -0.052315  -401.004202  -2.565392   best  cluster0  \n3       0.01   0.715634   0.002819    81.936135   1.087450   best  cluster0  \n4       0.00  -3.331444  -0.015672  -172.850508  -1.471481   best  cluster0  \n...      ...        ...        ...          ...        ...    ...       ...  \n1291   -1.28  27.318723   0.517268  2258.507718  22.643657  worst  cluster5  \n1292   -1.17  17.454857   0.291298  1237.959037  12.475963  worst  cluster5  \n1293    0.00  -0.230157   0.011818  -101.408479  -1.304117  worst  cluster5  \n1294   -0.38   5.812170   0.028638   562.125800   5.384342  worst  cluster5  \n1295    0.00  -9.677453  -0.031785 -1025.860398  -5.535925  worst  cluster5  \n\n[1296 rows x 16 columns]",
      "text/html": "<div>\n<style scoped>\n    .dataframe tbody tr th:only-of-type {\n        vertical-align: middle;\n    }\n\n    .dataframe tbody tr th {\n        vertical-align: top;\n    }\n\n    .dataframe thead th {\n        text-align: right;\n    }\n</style>\n<table border=\"1\" class=\"dataframe\">\n  <thead>\n    <tr style=\"text-align: right;\">\n      <th></th>\n      <th>Model</th>\n      <th>model</th>\n      <th>patient</th>\n      <th>ph</th>\n      <th>A_diff</th>\n      <th>A + B_diff</th>\n      <th>B_diff</th>\n      <th>C_diff</th>\n      <th>D_diff</th>\n      <th>E_diff</th>\n      <th>MAE_diff</th>\n      <th>MAPE_diff</th>\n      <th>MSE_diff</th>\n      <th>RMSE_diff</th>\n      <th>class</th>\n      <th>cluster</th>\n    </tr>\n  </thead>\n  <tbody>\n    <tr>\n      <th>0</th>\n      <td>ALL</td>\n      <td>CNN</td>\n      <td>LIB193914</td>\n      <td>12</td>\n      <td>0.47</td>\n      <td>0.54</td>\n      <td>0.07</td>\n      <td>0.13</td>\n      <td>-0.74</td>\n      <td>0.05</td>\n      <td>-0.245350</td>\n      <td>-0.002331</td>\n      <td>-3.734537</td>\n      <td>-0.040591</td>\n      <td>best</td>\n      <td>cluster0</td>\n    </tr>\n    <tr>\n      <th>1</th>\n      <td>TBR_2</td>\n      <td>CNN</td>\n      <td>LIB193914</td>\n      <td>12</td>\n      <td>0.00</td>\n      <td>0.00</td>\n      <td>0.00</td>\n      <td>0.00</td>\n      <td>0.00</td>\n      <td>0.00</td>\n      <td>-3.799408</td>\n      <td>-0.077714</td>\n      <td>-716.843015</td>\n      <td>-3.765788</td>\n      <td>best</td>\n      <td>cluster0</td>\n    </tr>\n    <tr>\n      <th>2</th>\n      <td>TBR_1</td>\n      <td>CNN</td>\n      <td>LIB193914</td>\n      <td>12</td>\n      <td>0.00</td>\n      <td>0.00</td>\n      <td>0.00</td>\n      <td>0.00</td>\n      <td>-1.73</td>\n      <td>1.73</td>\n      <td>-3.292861</td>\n      <td>-0.052315</td>\n      <td>-401.004202</td>\n      <td>-2.565392</td>\n      <td>best</td>\n      <td>cluster0</td>\n    </tr>\n    <tr>\n      <th>3</th>\n      <td>TIR</td>\n      <td>CNN</td>\n      <td>LIB193914</td>\n      <td>12</td>\n      <td>-1.75</td>\n      <td>-0.16</td>\n      <td>1.59</td>\n      <td>0.17</td>\n      <td>-0.02</td>\n      <td>0.01</td>\n      <td>0.715634</td>\n      <td>0.002819</td>\n      <td>81.936135</td>\n      <td>1.087450</td>\n      <td>best</td>\n      <td>cluster0</td>\n    </tr>\n    <tr>\n      <th>4</th>\n      <td>TAR_1</td>\n      <td>CNN</td>\n      <td>LIB193914</td>\n      <td>12</td>\n      <td>10.82</td>\n      <td>1.27</td>\n      <td>-9.55</td>\n      <td>0.00</td>\n      <td>-1.27</td>\n      <td>0.00</td>\n      <td>-3.331444</td>\n      <td>-0.015672</td>\n      <td>-172.850508</td>\n      <td>-1.471481</td>\n      <td>best</td>\n      <td>cluster0</td>\n    </tr>\n    <tr>\n      <th>...</th>\n      <td>...</td>\n      <td>...</td>\n      <td>...</td>\n      <td>...</td>\n      <td>...</td>\n      <td>...</td>\n      <td>...</td>\n      <td>...</td>\n      <td>...</td>\n      <td>...</td>\n      <td>...</td>\n      <td>...</td>\n      <td>...</td>\n      <td>...</td>\n      <td>...</td>\n      <td>...</td>\n    </tr>\n    <tr>\n      <th>1291</th>\n      <td>TBR_2</td>\n      <td>LSTM</td>\n      <td>LIB193603</td>\n      <td>8</td>\n      <td>-15.38</td>\n      <td>-15.38</td>\n      <td>0.00</td>\n      <td>0.00</td>\n      <td>16.67</td>\n      <td>-1.28</td>\n      <td>27.318723</td>\n      <td>0.517268</td>\n      <td>2258.507718</td>\n      <td>22.643657</td>\n      <td>worst</td>\n      <td>cluster5</td>\n    </tr>\n    <tr>\n      <th>1292</th>\n      <td>TBR_1</td>\n      <td>LSTM</td>\n      <td>LIB193603</td>\n      <td>8</td>\n      <td>-9.96</td>\n      <td>-9.96</td>\n      <td>0.00</td>\n      <td>0.00</td>\n      <td>11.13</td>\n      <td>-1.17</td>\n      <td>17.454857</td>\n      <td>0.291298</td>\n      <td>1237.959037</td>\n      <td>12.475963</td>\n      <td>worst</td>\n      <td>cluster5</td>\n    </tr>\n    <tr>\n      <th>1293</th>\n      <td>TIR</td>\n      <td>LSTM</td>\n      <td>LIB193603</td>\n      <td>8</td>\n      <td>-2.13</td>\n      <td>-0.38</td>\n      <td>1.75</td>\n      <td>0.11</td>\n      <td>0.27</td>\n      <td>0.00</td>\n      <td>-0.230157</td>\n      <td>0.011818</td>\n      <td>-101.408479</td>\n      <td>-1.304117</td>\n      <td>worst</td>\n      <td>cluster5</td>\n    </tr>\n    <tr>\n      <th>1294</th>\n      <td>TAR_1</td>\n      <td>LSTM</td>\n      <td>LIB193603</td>\n      <td>8</td>\n      <td>-17.08</td>\n      <td>-1.15</td>\n      <td>15.93</td>\n      <td>0.00</td>\n      <td>1.54</td>\n      <td>-0.38</td>\n      <td>5.812170</td>\n      <td>0.028638</td>\n      <td>562.125800</td>\n      <td>5.384342</td>\n      <td>worst</td>\n      <td>cluster5</td>\n    </tr>\n    <tr>\n      <th>1295</th>\n      <td>TAR_2</td>\n      <td>LSTM</td>\n      <td>LIB193603</td>\n      <td>8</td>\n      <td>23.14</td>\n      <td>-11.30</td>\n      <td>-34.44</td>\n      <td>0.00</td>\n      <td>11.30</td>\n      <td>0.00</td>\n      <td>-9.677453</td>\n      <td>-0.031785</td>\n      <td>-1025.860398</td>\n      <td>-5.535925</td>\n      <td>worst</td>\n      <td>cluster5</td>\n    </tr>\n  </tbody>\n</table>\n<p>1296 rows × 16 columns</p>\n</div>"
     },
     "execution_count": 27,
     "metadata": {},
     "output_type": "execute_result"
    }
   ],
   "source": [
    "df_diff = df_merge[final_columns + ['class', 'cluster']]\n",
    "df_diff"
   ],
   "metadata": {
    "collapsed": false,
    "ExecuteTime": {
     "end_time": "2024-10-23T08:14:10.750852Z",
     "start_time": "2024-10-23T08:14:10.736386Z"
    }
   },
   "id": "feef1ccbd4f85eea",
   "execution_count": 27
  },
  {
   "cell_type": "code",
   "outputs": [],
   "source": [
    "# df_diff.to_csv('Differences between cluster and personalized models FULL - 2024-09-25.csv', index=False)"
   ],
   "metadata": {
    "collapsed": false,
    "ExecuteTime": {
     "end_time": "2024-10-23T08:14:14.637448Z",
     "start_time": "2024-10-23T08:14:14.629568Z"
    }
   },
   "id": "2e65963e94c614d6",
   "execution_count": 28
  },
  {
   "cell_type": "code",
   "outputs": [
    {
     "data": {
      "text/plain": "['Model',\n 'model',\n 'patient',\n 'ph',\n 'A_personalized',\n 'A + B_personalized',\n 'B_personalized',\n 'C_personalized',\n 'D_personalized',\n 'E_personalized',\n 'MAE_personalized',\n 'MAPE_personalized',\n 'MSE_personalized',\n 'RMSE_personalized']"
     },
     "execution_count": 29,
     "metadata": {},
     "output_type": "execute_result"
    }
   ],
   "source": [
    "personalized_columns = key_columns + [column + '_personalized' for column in common_columns]\n",
    "personalized_columns"
   ],
   "metadata": {
    "collapsed": false,
    "ExecuteTime": {
     "end_time": "2024-10-23T08:14:15.186767Z",
     "start_time": "2024-10-23T08:14:15.179074Z"
    }
   },
   "id": "d37562ae0cb203e",
   "execution_count": 29
  },
  {
   "cell_type": "code",
   "outputs": [
    {
     "data": {
      "text/plain": "      Model model    patient  ph  A_personalized  A + B_personalized  \\\n0       ALL   CNN  LIB193914  12           42.05               94.28   \n1     TBR_2   CNN  LIB193914  12            0.00                0.00   \n2     TBR_1   CNN  LIB193914  12            0.00                0.00   \n3       TIR   CNN  LIB193914  12           49.13               99.50   \n4     TAR_1   CNN  LIB193914  12           20.25               93.89   \n...     ...   ...        ...  ..             ...                 ...   \n1291  TBR_2  LSTM  LIB193603   8           15.38               15.38   \n1292  TBR_1  LSTM  LIB193603   8            9.96                9.96   \n1293    TIR  LSTM  LIB193603   8           46.87               97.56   \n1294  TAR_1  LSTM  LIB193603   8           67.18               96.16   \n1295  TAR_2  LSTM  LIB193603   8            3.58               90.36   \n\n      B_personalized  C_personalized  D_personalized  E_personalized  \\\n0              52.23            0.01            5.72            0.00   \n1               0.00            0.00          100.00            0.00   \n2               0.00            0.00          100.00            0.00   \n3              50.37            0.01            0.49            0.00   \n4              73.64            0.00            6.11            0.00   \n...              ...             ...             ...             ...   \n1291            0.00            0.00           83.33            1.28   \n1292            0.00            0.00           87.89            2.15   \n1293           50.69            1.01            1.43            0.00   \n1294           28.98            0.00            3.45            0.38   \n1295           86.78            0.00            9.64            0.00   \n\n      MAE_personalized  MAPE_personalized  MSE_personalized  \\\n0            37.803139           0.315513       2118.106372   \n1            96.757292           1.880586       9420.886353   \n2            78.379382           1.233705       6310.587035   \n3            30.645629           0.294655       1378.622543   \n4            55.927307           0.265470       3536.593587   \n...                ...                ...               ...   \n1291         31.999267           0.606005       1486.011477   \n1292         35.462488           0.578545       1881.458605   \n1293         30.689404           0.288017       1562.793425   \n1294         39.940350           0.185954       2451.030061   \n1295         90.971244           0.309177       9105.508223   \n\n      RMSE_personalized  class   cluster  \n0             46.022890   best  cluster0  \n1             97.061251   best  cluster0  \n2             79.439203   best  cluster0  \n3             37.129807   best  cluster0  \n4             59.469266   best  cluster0  \n...                 ...    ...       ...  \n1291          38.548819  worst  cluster5  \n1292          43.375784  worst  cluster5  \n1293          39.532182  worst  cluster5  \n1294          49.507879  worst  cluster5  \n1295          95.422787  worst  cluster5  \n\n[1296 rows x 16 columns]",
      "text/html": "<div>\n<style scoped>\n    .dataframe tbody tr th:only-of-type {\n        vertical-align: middle;\n    }\n\n    .dataframe tbody tr th {\n        vertical-align: top;\n    }\n\n    .dataframe thead th {\n        text-align: right;\n    }\n</style>\n<table border=\"1\" class=\"dataframe\">\n  <thead>\n    <tr style=\"text-align: right;\">\n      <th></th>\n      <th>Model</th>\n      <th>model</th>\n      <th>patient</th>\n      <th>ph</th>\n      <th>A_personalized</th>\n      <th>A + B_personalized</th>\n      <th>B_personalized</th>\n      <th>C_personalized</th>\n      <th>D_personalized</th>\n      <th>E_personalized</th>\n      <th>MAE_personalized</th>\n      <th>MAPE_personalized</th>\n      <th>MSE_personalized</th>\n      <th>RMSE_personalized</th>\n      <th>class</th>\n      <th>cluster</th>\n    </tr>\n  </thead>\n  <tbody>\n    <tr>\n      <th>0</th>\n      <td>ALL</td>\n      <td>CNN</td>\n      <td>LIB193914</td>\n      <td>12</td>\n      <td>42.05</td>\n      <td>94.28</td>\n      <td>52.23</td>\n      <td>0.01</td>\n      <td>5.72</td>\n      <td>0.00</td>\n      <td>37.803139</td>\n      <td>0.315513</td>\n      <td>2118.106372</td>\n      <td>46.022890</td>\n      <td>best</td>\n      <td>cluster0</td>\n    </tr>\n    <tr>\n      <th>1</th>\n      <td>TBR_2</td>\n      <td>CNN</td>\n      <td>LIB193914</td>\n      <td>12</td>\n      <td>0.00</td>\n      <td>0.00</td>\n      <td>0.00</td>\n      <td>0.00</td>\n      <td>100.00</td>\n      <td>0.00</td>\n      <td>96.757292</td>\n      <td>1.880586</td>\n      <td>9420.886353</td>\n      <td>97.061251</td>\n      <td>best</td>\n      <td>cluster0</td>\n    </tr>\n    <tr>\n      <th>2</th>\n      <td>TBR_1</td>\n      <td>CNN</td>\n      <td>LIB193914</td>\n      <td>12</td>\n      <td>0.00</td>\n      <td>0.00</td>\n      <td>0.00</td>\n      <td>0.00</td>\n      <td>100.00</td>\n      <td>0.00</td>\n      <td>78.379382</td>\n      <td>1.233705</td>\n      <td>6310.587035</td>\n      <td>79.439203</td>\n      <td>best</td>\n      <td>cluster0</td>\n    </tr>\n    <tr>\n      <th>3</th>\n      <td>TIR</td>\n      <td>CNN</td>\n      <td>LIB193914</td>\n      <td>12</td>\n      <td>49.13</td>\n      <td>99.50</td>\n      <td>50.37</td>\n      <td>0.01</td>\n      <td>0.49</td>\n      <td>0.00</td>\n      <td>30.645629</td>\n      <td>0.294655</td>\n      <td>1378.622543</td>\n      <td>37.129807</td>\n      <td>best</td>\n      <td>cluster0</td>\n    </tr>\n    <tr>\n      <th>4</th>\n      <td>TAR_1</td>\n      <td>CNN</td>\n      <td>LIB193914</td>\n      <td>12</td>\n      <td>20.25</td>\n      <td>93.89</td>\n      <td>73.64</td>\n      <td>0.00</td>\n      <td>6.11</td>\n      <td>0.00</td>\n      <td>55.927307</td>\n      <td>0.265470</td>\n      <td>3536.593587</td>\n      <td>59.469266</td>\n      <td>best</td>\n      <td>cluster0</td>\n    </tr>\n    <tr>\n      <th>...</th>\n      <td>...</td>\n      <td>...</td>\n      <td>...</td>\n      <td>...</td>\n      <td>...</td>\n      <td>...</td>\n      <td>...</td>\n      <td>...</td>\n      <td>...</td>\n      <td>...</td>\n      <td>...</td>\n      <td>...</td>\n      <td>...</td>\n      <td>...</td>\n      <td>...</td>\n      <td>...</td>\n    </tr>\n    <tr>\n      <th>1291</th>\n      <td>TBR_2</td>\n      <td>LSTM</td>\n      <td>LIB193603</td>\n      <td>8</td>\n      <td>15.38</td>\n      <td>15.38</td>\n      <td>0.00</td>\n      <td>0.00</td>\n      <td>83.33</td>\n      <td>1.28</td>\n      <td>31.999267</td>\n      <td>0.606005</td>\n      <td>1486.011477</td>\n      <td>38.548819</td>\n      <td>worst</td>\n      <td>cluster5</td>\n    </tr>\n    <tr>\n      <th>1292</th>\n      <td>TBR_1</td>\n      <td>LSTM</td>\n      <td>LIB193603</td>\n      <td>8</td>\n      <td>9.96</td>\n      <td>9.96</td>\n      <td>0.00</td>\n      <td>0.00</td>\n      <td>87.89</td>\n      <td>2.15</td>\n      <td>35.462488</td>\n      <td>0.578545</td>\n      <td>1881.458605</td>\n      <td>43.375784</td>\n      <td>worst</td>\n      <td>cluster5</td>\n    </tr>\n    <tr>\n      <th>1293</th>\n      <td>TIR</td>\n      <td>LSTM</td>\n      <td>LIB193603</td>\n      <td>8</td>\n      <td>46.87</td>\n      <td>97.56</td>\n      <td>50.69</td>\n      <td>1.01</td>\n      <td>1.43</td>\n      <td>0.00</td>\n      <td>30.689404</td>\n      <td>0.288017</td>\n      <td>1562.793425</td>\n      <td>39.532182</td>\n      <td>worst</td>\n      <td>cluster5</td>\n    </tr>\n    <tr>\n      <th>1294</th>\n      <td>TAR_1</td>\n      <td>LSTM</td>\n      <td>LIB193603</td>\n      <td>8</td>\n      <td>67.18</td>\n      <td>96.16</td>\n      <td>28.98</td>\n      <td>0.00</td>\n      <td>3.45</td>\n      <td>0.38</td>\n      <td>39.940350</td>\n      <td>0.185954</td>\n      <td>2451.030061</td>\n      <td>49.507879</td>\n      <td>worst</td>\n      <td>cluster5</td>\n    </tr>\n    <tr>\n      <th>1295</th>\n      <td>TAR_2</td>\n      <td>LSTM</td>\n      <td>LIB193603</td>\n      <td>8</td>\n      <td>3.58</td>\n      <td>90.36</td>\n      <td>86.78</td>\n      <td>0.00</td>\n      <td>9.64</td>\n      <td>0.00</td>\n      <td>90.971244</td>\n      <td>0.309177</td>\n      <td>9105.508223</td>\n      <td>95.422787</td>\n      <td>worst</td>\n      <td>cluster5</td>\n    </tr>\n  </tbody>\n</table>\n<p>1296 rows × 16 columns</p>\n</div>"
     },
     "execution_count": 30,
     "metadata": {},
     "output_type": "execute_result"
    }
   ],
   "source": [
    "df_personalized_metrics_filter = df_merge[personalized_columns + ['class', 'cluster']]\n",
    "df_personalized_metrics_filter"
   ],
   "metadata": {
    "collapsed": false,
    "ExecuteTime": {
     "end_time": "2024-10-23T08:14:18.251735Z",
     "start_time": "2024-10-23T08:14:18.237072Z"
    }
   },
   "id": "4805a7f84106ef72",
   "execution_count": 30
  },
  {
   "cell_type": "code",
   "outputs": [],
   "source": [
    "# df_personalized_metrics_filter.to_csv('Personalized metrics FULL - 2024-09-25.csv', index=False)"
   ],
   "metadata": {
    "collapsed": false,
    "ExecuteTime": {
     "end_time": "2024-10-23T08:15:04.829645Z",
     "start_time": "2024-10-23T08:15:04.821830Z"
    }
   },
   "id": "5b31e578d6943df2",
   "execution_count": 31
  }
 ],
 "metadata": {
  "kernelspec": {
   "display_name": "Python 3",
   "language": "python",
   "name": "python3"
  },
  "language_info": {
   "codemirror_mode": {
    "name": "ipython",
    "version": 2
   },
   "file_extension": ".py",
   "mimetype": "text/x-python",
   "name": "python",
   "nbconvert_exporter": "python",
   "pygments_lexer": "ipython2",
   "version": "2.7.6"
  }
 },
 "nbformat": 4,
 "nbformat_minor": 5
}
