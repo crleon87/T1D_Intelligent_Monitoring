{
 "cells": [
  {
   "cell_type": "code",
   "execution_count": 1,
   "id": "initial_id",
   "metadata": {
    "collapsed": true,
    "ExecuteTime": {
     "end_time": "2024-09-06T14:45:39.727694400Z",
     "start_time": "2024-09-06T14:45:39.018318900Z"
    }
   },
   "outputs": [],
   "source": [
    "import pandas as pd\n",
    "import os"
   ]
  },
  {
   "cell_type": "code",
   "outputs": [],
   "source": [
    "def list_csv_files(directory):\n",
    "    csv_files = [file for file in os.listdir(directory) if file.endswith('.csv')]\n",
    "    return csv_files\n",
    "\n",
    "directory = 'cluster_results/'\n",
    "csv_files = list_csv_files(directory)\n",
    "\n",
    "def merge_csv_files(directory):\n",
    "    csv_files = list_csv_files(directory)\n",
    "    merged_df = pd.DataFrame()\n",
    "\n",
    "    for file in csv_files:\n",
    "        file_path = os.path.join(directory, file)\n",
    "        df = pd.read_csv(file_path)\n",
    "        df['file_name'] = file\n",
    "        merged_df = pd.concat([merged_df, df], ignore_index=True)\n",
    "    \n",
    "    return merged_df\n",
    "\n",
    "df_clusters = merge_csv_files(directory)\n",
    "df_clusters = df_clusters.round(2)\n",
    "\n",
    "df_clusters['cluster'] = df_clusters['file_name'].apply(lambda x: x.split('_')[3])\n"
   ],
   "metadata": {
    "collapsed": false
   },
   "id": "7b04e0452862c513",
   "execution_count": null
  },
  {
   "cell_type": "code",
   "outputs": [
    {
     "data": {
      "text/plain": "cluster\ncluster0    108\ncluster1    108\ncluster2    108\ncluster3    108\ncluster4    108\ncluster5    108\nName: count, dtype: int64"
     },
     "execution_count": 5,
     "metadata": {},
     "output_type": "execute_result"
    }
   ],
   "source": [
    "df_clusters['cluster'].value_counts()"
   ],
   "metadata": {
    "collapsed": false
   },
   "id": "b40e0780ffd8b435",
   "execution_count": 5
  },
  {
   "cell_type": "code",
   "outputs": [],
   "source": [
    "df_clusters['model'] = df_clusters['file_name'].apply(lambda x: x.split('_')[4])\n"
   ],
   "metadata": {
    "collapsed": false
   },
   "id": "89277088e29cb6c9",
   "execution_count": null
  },
  {
   "cell_type": "code",
   "outputs": [
    {
     "data": {
      "text/plain": "model\nCNN       216\nLinear    216\nLSTM      216\nName: count, dtype: int64"
     },
     "execution_count": 7,
     "metadata": {},
     "output_type": "execute_result"
    }
   ],
   "source": [
    "df_clusters['model'].value_counts()"
   ],
   "metadata": {
    "collapsed": false
   },
   "id": "db06bc0f42dd2904",
   "execution_count": 7
  },
  {
   "cell_type": "code",
   "outputs": [],
   "source": [
    "df_clusters['ph'] = df_clusters['file_name'].apply(lambda x: x.split('_')[-1][1:-4])\n",
    "\n",
    "df_clusters['ph'].value_counts()\n",
    "df_clusters['ph'] = df_clusters['ph'].astype(int)\n"
   ],
   "metadata": {
    "collapsed": false
   },
   "id": "514249344a9f3468",
   "execution_count": null
  },
  {
   "cell_type": "code",
   "outputs": [
    {
     "data": {
      "text/plain": "ph\n12    108\n16    108\n2     108\n4     108\n6     108\n8     108\nName: count, dtype: int64"
     },
     "execution_count": 10,
     "metadata": {},
     "output_type": "execute_result"
    }
   ],
   "source": [
    "df_clusters['ph'].value_counts()"
   ],
   "metadata": {
    "collapsed": false,
    "ExecuteTime": {
     "end_time": "2024-09-06T14:48:36.443423800Z",
     "start_time": "2024-09-06T14:48:36.426774400Z"
    }
   },
   "id": "e438956e68f2e4b3",
   "execution_count": 10
  },
  {
   "cell_type": "code",
   "outputs": [],
   "source": [
    "df_clusters = df_clusters.drop(columns=['Unnamed: 0', 'file_name'])\n"
   ],
   "metadata": {
    "collapsed": false
   },
   "id": "eb79893e2c3d70d0",
   "execution_count": null
  },
  {
   "cell_type": "markdown",
   "source": [
    "## Sorting"
   ],
   "metadata": {
    "collapsed": false
   },
   "id": "eff8299afd231865"
  },
  {
   "cell_type": "code",
   "outputs": [],
   "source": [
    "df_clusters = df_clusters.sort_values(by=['cluster', 'model', 'ph'])\n",
    "df_clusters.reset_index(inplace=True, drop=True)\n"
   ],
   "metadata": {
    "collapsed": false
   },
   "id": "9c267f0dbd97214b",
   "execution_count": null
  },
  {
   "cell_type": "code",
   "outputs": [],
   "source": [
    "df_clusters[(df_clusters['cluster'] == 'cluster0')]"
   ],
   "metadata": {
    "collapsed": false
   },
   "id": "74d48621a1e3cd5a",
   "execution_count": null
  },
  {
   "cell_type": "code",
   "outputs": [],
   "source": [
    "# df_clusters.to_excel('Clusters_results_FULL.xlsx', index=False)"
   ],
   "metadata": {
    "collapsed": false,
    "ExecuteTime": {
     "end_time": "2024-09-06T14:49:10.824112300Z",
     "start_time": "2024-09-06T14:49:10.456432Z"
    }
   },
   "id": "913b4293836120f1",
   "execution_count": 14
  },
  {
   "cell_type": "markdown",
   "source": [
    "# General model"
   ],
   "metadata": {
    "collapsed": false
   },
   "id": "c8da13fa52f033c7"
  },
  {
   "cell_type": "code",
   "outputs": [
    {
     "data": {
      "text/plain": "     Unnamed: 0  Model      A      B     C      D     E  A + B    RMSE  \\\n0           0.0    ALL  39.51  47.87  1.15  10.93  0.54  87.38   61.62   \n1           1.0  TBR_2   0.00   0.00  0.00  90.17  9.83   0.00  102.13   \n2           2.0  TBR_1   0.00   0.00  0.00  90.19  9.81   0.00   89.84   \n3           3.0    TIR  44.04  53.61  1.81   0.49  0.05  97.65   45.69   \n4           4.0  TAR_1  47.02  46.91  0.08   5.99  0.00  93.93   52.46   \n..          ...    ...    ...    ...   ...    ...   ...    ...     ...   \n103         NaN  TBR_2   0.01   0.00  0.00  94.66  5.33   0.01   81.76   \n104         NaN  TBR_1   0.00   0.00  0.00  94.05  5.95   0.00   72.76   \n105         NaN    TIR  48.82  48.93  1.70   0.51  0.03  97.75   41.13   \n106         NaN  TAR_1  58.91  37.19  0.28   3.62  0.00  96.10   49.54   \n107         NaN  TAR_2  39.67  37.57  0.08  22.68  0.00  77.24   92.98   \n\n          MSE    MAE  MAPE                     file_name  \n0     3797.40  48.26  0.38  results_by_range_CNN_H12.csv  \n1    10429.53  99.03  2.05  results_by_range_CNN_H12.csv  \n2     8072.02  86.57  1.41  results_by_range_CNN_H12.csv  \n3     2087.17  36.47  0.35  results_by_range_CNN_H12.csv  \n4     2751.57  44.96  0.21  results_by_range_CNN_H12.csv  \n..        ...    ...   ...                           ...  \n103   6685.27  76.70  1.59  results_by_range_LSTM_H8.csv  \n104   5294.36  67.29  1.09  results_by_range_LSTM_H8.csv  \n105   1691.58  31.74  0.29  results_by_range_LSTM_H8.csv  \n106   2453.72  39.76  0.19  results_by_range_LSTM_H8.csv  \n107   8645.31  78.31  0.26  results_by_range_LSTM_H8.csv  \n\n[108 rows x 13 columns]",
      "text/html": "<div>\n<style scoped>\n    .dataframe tbody tr th:only-of-type {\n        vertical-align: middle;\n    }\n\n    .dataframe tbody tr th {\n        vertical-align: top;\n    }\n\n    .dataframe thead th {\n        text-align: right;\n    }\n</style>\n<table border=\"1\" class=\"dataframe\">\n  <thead>\n    <tr style=\"text-align: right;\">\n      <th></th>\n      <th>Unnamed: 0</th>\n      <th>Model</th>\n      <th>A</th>\n      <th>B</th>\n      <th>C</th>\n      <th>D</th>\n      <th>E</th>\n      <th>A + B</th>\n      <th>RMSE</th>\n      <th>MSE</th>\n      <th>MAE</th>\n      <th>MAPE</th>\n      <th>file_name</th>\n    </tr>\n  </thead>\n  <tbody>\n    <tr>\n      <th>0</th>\n      <td>0.0</td>\n      <td>ALL</td>\n      <td>39.51</td>\n      <td>47.87</td>\n      <td>1.15</td>\n      <td>10.93</td>\n      <td>0.54</td>\n      <td>87.38</td>\n      <td>61.62</td>\n      <td>3797.40</td>\n      <td>48.26</td>\n      <td>0.38</td>\n      <td>results_by_range_CNN_H12.csv</td>\n    </tr>\n    <tr>\n      <th>1</th>\n      <td>1.0</td>\n      <td>TBR_2</td>\n      <td>0.00</td>\n      <td>0.00</td>\n      <td>0.00</td>\n      <td>90.17</td>\n      <td>9.83</td>\n      <td>0.00</td>\n      <td>102.13</td>\n      <td>10429.53</td>\n      <td>99.03</td>\n      <td>2.05</td>\n      <td>results_by_range_CNN_H12.csv</td>\n    </tr>\n    <tr>\n      <th>2</th>\n      <td>2.0</td>\n      <td>TBR_1</td>\n      <td>0.00</td>\n      <td>0.00</td>\n      <td>0.00</td>\n      <td>90.19</td>\n      <td>9.81</td>\n      <td>0.00</td>\n      <td>89.84</td>\n      <td>8072.02</td>\n      <td>86.57</td>\n      <td>1.41</td>\n      <td>results_by_range_CNN_H12.csv</td>\n    </tr>\n    <tr>\n      <th>3</th>\n      <td>3.0</td>\n      <td>TIR</td>\n      <td>44.04</td>\n      <td>53.61</td>\n      <td>1.81</td>\n      <td>0.49</td>\n      <td>0.05</td>\n      <td>97.65</td>\n      <td>45.69</td>\n      <td>2087.17</td>\n      <td>36.47</td>\n      <td>0.35</td>\n      <td>results_by_range_CNN_H12.csv</td>\n    </tr>\n    <tr>\n      <th>4</th>\n      <td>4.0</td>\n      <td>TAR_1</td>\n      <td>47.02</td>\n      <td>46.91</td>\n      <td>0.08</td>\n      <td>5.99</td>\n      <td>0.00</td>\n      <td>93.93</td>\n      <td>52.46</td>\n      <td>2751.57</td>\n      <td>44.96</td>\n      <td>0.21</td>\n      <td>results_by_range_CNN_H12.csv</td>\n    </tr>\n    <tr>\n      <th>...</th>\n      <td>...</td>\n      <td>...</td>\n      <td>...</td>\n      <td>...</td>\n      <td>...</td>\n      <td>...</td>\n      <td>...</td>\n      <td>...</td>\n      <td>...</td>\n      <td>...</td>\n      <td>...</td>\n      <td>...</td>\n      <td>...</td>\n    </tr>\n    <tr>\n      <th>103</th>\n      <td>NaN</td>\n      <td>TBR_2</td>\n      <td>0.01</td>\n      <td>0.00</td>\n      <td>0.00</td>\n      <td>94.66</td>\n      <td>5.33</td>\n      <td>0.01</td>\n      <td>81.76</td>\n      <td>6685.27</td>\n      <td>76.70</td>\n      <td>1.59</td>\n      <td>results_by_range_LSTM_H8.csv</td>\n    </tr>\n    <tr>\n      <th>104</th>\n      <td>NaN</td>\n      <td>TBR_1</td>\n      <td>0.00</td>\n      <td>0.00</td>\n      <td>0.00</td>\n      <td>94.05</td>\n      <td>5.95</td>\n      <td>0.00</td>\n      <td>72.76</td>\n      <td>5294.36</td>\n      <td>67.29</td>\n      <td>1.09</td>\n      <td>results_by_range_LSTM_H8.csv</td>\n    </tr>\n    <tr>\n      <th>105</th>\n      <td>NaN</td>\n      <td>TIR</td>\n      <td>48.82</td>\n      <td>48.93</td>\n      <td>1.70</td>\n      <td>0.51</td>\n      <td>0.03</td>\n      <td>97.75</td>\n      <td>41.13</td>\n      <td>1691.58</td>\n      <td>31.74</td>\n      <td>0.29</td>\n      <td>results_by_range_LSTM_H8.csv</td>\n    </tr>\n    <tr>\n      <th>106</th>\n      <td>NaN</td>\n      <td>TAR_1</td>\n      <td>58.91</td>\n      <td>37.19</td>\n      <td>0.28</td>\n      <td>3.62</td>\n      <td>0.00</td>\n      <td>96.10</td>\n      <td>49.54</td>\n      <td>2453.72</td>\n      <td>39.76</td>\n      <td>0.19</td>\n      <td>results_by_range_LSTM_H8.csv</td>\n    </tr>\n    <tr>\n      <th>107</th>\n      <td>NaN</td>\n      <td>TAR_2</td>\n      <td>39.67</td>\n      <td>37.57</td>\n      <td>0.08</td>\n      <td>22.68</td>\n      <td>0.00</td>\n      <td>77.24</td>\n      <td>92.98</td>\n      <td>8645.31</td>\n      <td>78.31</td>\n      <td>0.26</td>\n      <td>results_by_range_LSTM_H8.csv</td>\n    </tr>\n  </tbody>\n</table>\n<p>108 rows × 13 columns</p>\n</div>"
     },
     "execution_count": 23,
     "metadata": {},
     "output_type": "execute_result"
    }
   ],
   "source": [
    "df_general_FULL = merge_csv_files('general')\n",
    "df_general_FULL = df_general_FULL.round(2)\n",
    "df_general_FULL"
   ],
   "metadata": {
    "collapsed": false,
    "ExecuteTime": {
     "end_time": "2024-09-06T14:50:01.012604700Z",
     "start_time": "2024-09-06T14:50:00.952905900Z"
    }
   },
   "id": "6bb9b3bbea5613a4",
   "execution_count": 23
  },
  {
   "cell_type": "code",
   "outputs": [],
   "source": [
    "df_general_FULL['cluster'] = 'general'\n",
    "df_general_FULL['model'] = df_general_FULL['file_name'].apply(lambda x: x.split('_')[3])\n",
    "df_general_FULL['ph'] = df_general_FULL['file_name'].apply(lambda x: x.split('_')[-1][1:-4])\n",
    "df_general_FULL['ph'] = df_general_FULL['ph'].astype(int)\n",
    "\n",
    "df_general_FULL = df_general_FULL.drop(columns=['Unnamed: 0', 'file_name'])\n"
   ],
   "metadata": {
    "collapsed": false
   },
   "id": "bf044181110d5568",
   "execution_count": null
  },
  {
   "cell_type": "code",
   "outputs": [],
   "source": [
    "df_general_FULL = df_general_FULL.sort_values(by=['cluster', 'model', 'ph'])\n",
    "df_general_FULL.reset_index(inplace=True, drop=True)\n"
   ],
   "metadata": {
    "collapsed": false
   },
   "id": "5a3487bd4f3ff8fb",
   "execution_count": null
  },
  {
   "cell_type": "code",
   "outputs": [],
   "source": [
    "# df_general_FULL.to_excel('general_FULL.xlsx', index=False)"
   ],
   "metadata": {
    "collapsed": false,
    "ExecuteTime": {
     "end_time": "2024-09-06T14:50:45.220070100Z",
     "start_time": "2024-09-06T14:50:45.203165800Z"
    }
   },
   "id": "a61e7f0c7915d421",
   "execution_count": 31
  },
  {
   "cell_type": "markdown",
   "source": [
    "# Find differences CLUSTERS VS GENERAL"
   ],
   "metadata": {
    "collapsed": false
   },
   "id": "aed3de40667c9b9f"
  },
  {
   "cell_type": "code",
   "outputs": [],
   "source": [
    "list_clusters = df_clusters['cluster'].unique().tolist()\n",
    "\n",
    "df_diff = pd.DataFrame(columns=df_clusters.columns)\n",
    "\n",
    "for current_cluster in list_clusters:\n",
    "    df_current_cluster = df_clusters[df_clusters['cluster'] == current_cluster]\n",
    "    df_current_cluster.reset_index(inplace=True, drop=True)\n",
    "    df_current_result = df_current_cluster.copy()\n",
    "    df_current_result[['A', 'B', 'C', 'D', 'E', 'A + B', 'RMSE', 'MSE', 'MAE', 'MAPE']] = df_current_cluster[['A', 'B', 'C', 'D', 'E', 'A + B', 'RMSE', 'MSE', 'MAE', 'MAPE']] - df_general_FULL[['A', 'B', 'C', 'D', 'E', 'A + B', 'RMSE', 'MSE', 'MAE', 'MAPE']]\n",
    "    df_diff = pd.concat([df_diff, df_current_result], ignore_index=True)\n",
    "\n"
   ],
   "metadata": {
    "collapsed": false
   },
   "id": "cc8f968503e76b3f",
   "execution_count": null
  },
  {
   "cell_type": "code",
   "outputs": [],
   "source": [
    "# df_diff.to_excel('Differences_CLUSTERS_VS_GENERAL_FULL.xlsx', index=False)"
   ],
   "metadata": {
    "collapsed": false,
    "ExecuteTime": {
     "end_time": "2024-09-06T14:51:07.688729700Z",
     "start_time": "2024-09-06T14:51:07.499244Z"
    }
   },
   "id": "aa360855ac708889",
   "execution_count": 34
  }
 ],
 "metadata": {
  "kernelspec": {
   "display_name": "Python 3",
   "language": "python",
   "name": "python3"
  },
  "language_info": {
   "codemirror_mode": {
    "name": "ipython",
    "version": 2
   },
   "file_extension": ".py",
   "mimetype": "text/x-python",
   "name": "python",
   "nbconvert_exporter": "python",
   "pygments_lexer": "ipython2",
   "version": "2.7.6"
  }
 },
 "nbformat": 4,
 "nbformat_minor": 5
}
